{
 "cells": [
  {
   "cell_type": "markdown",
   "metadata": {},
   "source": [
    "# Different linguistics features\n",
    "\n",
    "In this notebook, I see what happens if we use different linguistic features with QVEC."
   ]
  },
  {
   "cell_type": "code",
   "execution_count": 2,
   "metadata": {},
   "outputs": [],
   "source": [
    "%matplotlib inline\n",
    "import os\n",
    "import csv\n",
    "import pandas as pd\n",
    "import numpy as np\n",
    "from scipy import stats\n",
    "import statsmodels.api as sm\n",
    "import matplotlib.pyplot as plt\n",
    "import seaborn as sns\n",
    "sns.set()\n",
    "\n",
    "data_path = '../../data'\n",
    "tmp_path = '../../tmp'"
   ]
  },
  {
   "cell_type": "markdown",
   "metadata": {},
   "source": [
    "### Learnt embeddings"
   ]
  },
  {
   "cell_type": "code",
   "execution_count": 3,
   "metadata": {
    "collapsed": true
   },
   "outputs": [],
   "source": [
    "size = 300\n",
    "fname = 'embeddings/glove.6B.{}d.txt'.format(size)\n",
    "embedding_path = os.path.join(data_path, fname)\n",
    "embeddings = pd.read_csv(embedding_path, sep=' ', header=None, index_col=0, quoting=csv.QUOTE_NONE).T"
   ]
  },
  {
   "cell_type": "markdown",
   "metadata": {},
   "source": [
    "### QVEC model"
   ]
  },
  {
   "cell_type": "code",
   "execution_count": 4,
   "metadata": {
    "collapsed": true
   },
   "outputs": [],
   "source": [
    "def qvec(features, embeddings):\n",
    "    \"\"\"\n",
    "    Returns correlations between columns of `features` and `embeddings`.\n",
    "    \n",
    "    The aligned feature is the one with the highest correlation.\n",
    "    The qvec score is the sum of correlations of aligned features.\n",
    "    \"\"\"\n",
    "    common_words = embeddings.columns.intersection(features.columns)\n",
    "    S = features[common_words]\n",
    "    X = embeddings[common_words]\n",
    "    correlations = pd.DataFrame({i:X.corrwith(S.iloc[i], axis=1) for i in range(len(S))})\n",
    "    correlations.columns = S.index\n",
    "    return correlations"
   ]
  },
  {
   "cell_type": "markdown",
   "metadata": {},
   "source": [
    "## FrameNet - does word $j$ evoke frame $i$?"
   ]
  },
  {
   "cell_type": "code",
   "execution_count": null,
   "metadata": {
    "collapsed": true
   },
   "outputs": [],
   "source": []
  },
  {
   "cell_type": "code",
   "execution_count": null,
   "metadata": {
    "collapsed": true
   },
   "outputs": [],
   "source": []
  },
  {
   "cell_type": "code",
   "execution_count": null,
   "metadata": {
    "collapsed": true
   },
   "outputs": [],
   "source": []
  },
  {
   "cell_type": "code",
   "execution_count": 5,
   "metadata": {
    "collapsed": true
   },
   "outputs": [],
   "source": [
    "correlations = qvec(subset, embeddings)\n",
    "V = len(embeddings.columns.intersection(subset.columns))"
   ]
  },
  {
   "cell_type": "code",
   "execution_count": 6,
   "metadata": {},
   "outputs": [
    {
     "data": {
      "text/html": [
       "<div>\n",
       "<style>\n",
       "    .dataframe thead tr:only-child th {\n",
       "        text-align: right;\n",
       "    }\n",
       "\n",
       "    .dataframe thead th {\n",
       "        text-align: left;\n",
       "    }\n",
       "\n",
       "    .dataframe tbody tr th {\n",
       "        vertical-align: top;\n",
       "    }\n",
       "</style>\n",
       "<table border=\"1\" class=\"dataframe\">\n",
       "  <thead>\n",
       "    <tr style=\"text-align: right;\">\n",
       "      <th></th>\n",
       "      <th>noun.Tops</th>\n",
       "      <th>noun.act</th>\n",
       "      <th>noun.animal</th>\n",
       "      <th>noun.artifact</th>\n",
       "      <th>noun.attribute</th>\n",
       "      <th>noun.body</th>\n",
       "      <th>noun.cognition</th>\n",
       "      <th>noun.communication</th>\n",
       "      <th>noun.event</th>\n",
       "      <th>noun.feeling</th>\n",
       "      <th>...</th>\n",
       "      <th>verb.consumption</th>\n",
       "      <th>verb.contact</th>\n",
       "      <th>verb.creation</th>\n",
       "      <th>verb.emotion</th>\n",
       "      <th>verb.motion</th>\n",
       "      <th>verb.perception</th>\n",
       "      <th>verb.possession</th>\n",
       "      <th>verb.social</th>\n",
       "      <th>verb.stative</th>\n",
       "      <th>verb.weather</th>\n",
       "    </tr>\n",
       "  </thead>\n",
       "  <tbody>\n",
       "    <tr>\n",
       "      <th>1</th>\n",
       "      <td>-0.025195</td>\n",
       "      <td>0.103305</td>\n",
       "      <td>0.022804</td>\n",
       "      <td>0.019960</td>\n",
       "      <td>-0.005073</td>\n",
       "      <td>-0.063040</td>\n",
       "      <td>0.001746</td>\n",
       "      <td>-0.044627</td>\n",
       "      <td>0.060426</td>\n",
       "      <td>-0.000629</td>\n",
       "      <td>...</td>\n",
       "      <td>-0.000923</td>\n",
       "      <td>0.032615</td>\n",
       "      <td>-0.059228</td>\n",
       "      <td>0.002191</td>\n",
       "      <td>0.043395</td>\n",
       "      <td>0.016654</td>\n",
       "      <td>-0.000253</td>\n",
       "      <td>0.015861</td>\n",
       "      <td>-0.058195</td>\n",
       "      <td>0.027505</td>\n",
       "    </tr>\n",
       "    <tr>\n",
       "      <th>2</th>\n",
       "      <td>0.025052</td>\n",
       "      <td>0.003521</td>\n",
       "      <td>0.071996</td>\n",
       "      <td>0.033976</td>\n",
       "      <td>0.046986</td>\n",
       "      <td>0.000275</td>\n",
       "      <td>-0.025890</td>\n",
       "      <td>-0.093323</td>\n",
       "      <td>0.013002</td>\n",
       "      <td>-0.026363</td>\n",
       "      <td>...</td>\n",
       "      <td>0.041451</td>\n",
       "      <td>0.004752</td>\n",
       "      <td>0.008058</td>\n",
       "      <td>-0.024316</td>\n",
       "      <td>-0.043428</td>\n",
       "      <td>0.021968</td>\n",
       "      <td>-0.003188</td>\n",
       "      <td>0.024070</td>\n",
       "      <td>0.064498</td>\n",
       "      <td>-0.034473</td>\n",
       "    </tr>\n",
       "    <tr>\n",
       "      <th>3</th>\n",
       "      <td>0.000335</td>\n",
       "      <td>0.132868</td>\n",
       "      <td>-0.020388</td>\n",
       "      <td>-0.043322</td>\n",
       "      <td>0.026484</td>\n",
       "      <td>-0.031252</td>\n",
       "      <td>0.051305</td>\n",
       "      <td>0.025105</td>\n",
       "      <td>0.069223</td>\n",
       "      <td>0.112211</td>\n",
       "      <td>...</td>\n",
       "      <td>-0.009357</td>\n",
       "      <td>-0.078781</td>\n",
       "      <td>-0.096304</td>\n",
       "      <td>-0.000102</td>\n",
       "      <td>-0.010545</td>\n",
       "      <td>-0.015110</td>\n",
       "      <td>-0.082116</td>\n",
       "      <td>-0.047947</td>\n",
       "      <td>-0.098220</td>\n",
       "      <td>0.008797</td>\n",
       "    </tr>\n",
       "    <tr>\n",
       "      <th>4</th>\n",
       "      <td>0.003880</td>\n",
       "      <td>0.020326</td>\n",
       "      <td>0.023546</td>\n",
       "      <td>-0.164084</td>\n",
       "      <td>-0.013492</td>\n",
       "      <td>-0.079157</td>\n",
       "      <td>0.008527</td>\n",
       "      <td>0.045884</td>\n",
       "      <td>-0.002118</td>\n",
       "      <td>-0.003778</td>\n",
       "      <td>...</td>\n",
       "      <td>0.031046</td>\n",
       "      <td>-0.015342</td>\n",
       "      <td>-0.029799</td>\n",
       "      <td>0.009851</td>\n",
       "      <td>0.045801</td>\n",
       "      <td>-0.023565</td>\n",
       "      <td>0.036102</td>\n",
       "      <td>0.003050</td>\n",
       "      <td>0.059049</td>\n",
       "      <td>-0.009769</td>\n",
       "    </tr>\n",
       "    <tr>\n",
       "      <th>5</th>\n",
       "      <td>0.011347</td>\n",
       "      <td>0.032593</td>\n",
       "      <td>0.008034</td>\n",
       "      <td>-0.031921</td>\n",
       "      <td>-0.015440</td>\n",
       "      <td>0.030811</td>\n",
       "      <td>0.026431</td>\n",
       "      <td>-0.020380</td>\n",
       "      <td>-0.054214</td>\n",
       "      <td>0.032733</td>\n",
       "      <td>...</td>\n",
       "      <td>-0.006414</td>\n",
       "      <td>-0.024326</td>\n",
       "      <td>-0.012067</td>\n",
       "      <td>0.045959</td>\n",
       "      <td>-0.026189</td>\n",
       "      <td>-0.051913</td>\n",
       "      <td>0.013840</td>\n",
       "      <td>-0.012455</td>\n",
       "      <td>0.000732</td>\n",
       "      <td>-0.006095</td>\n",
       "    </tr>\n",
       "  </tbody>\n",
       "</table>\n",
       "<p>5 rows × 41 columns</p>\n",
       "</div>"
      ],
      "text/plain": [
       "   noun.Tops  noun.act  noun.animal  noun.artifact  noun.attribute  noun.body  \\\n",
       "1  -0.025195  0.103305     0.022804       0.019960       -0.005073  -0.063040   \n",
       "2   0.025052  0.003521     0.071996       0.033976        0.046986   0.000275   \n",
       "3   0.000335  0.132868    -0.020388      -0.043322        0.026484  -0.031252   \n",
       "4   0.003880  0.020326     0.023546      -0.164084       -0.013492  -0.079157   \n",
       "5   0.011347  0.032593     0.008034      -0.031921       -0.015440   0.030811   \n",
       "\n",
       "   noun.cognition  noun.communication  noun.event  noun.feeling      ...       \\\n",
       "1        0.001746           -0.044627    0.060426     -0.000629      ...        \n",
       "2       -0.025890           -0.093323    0.013002     -0.026363      ...        \n",
       "3        0.051305            0.025105    0.069223      0.112211      ...        \n",
       "4        0.008527            0.045884   -0.002118     -0.003778      ...        \n",
       "5        0.026431           -0.020380   -0.054214      0.032733      ...        \n",
       "\n",
       "   verb.consumption  verb.contact  verb.creation  verb.emotion  verb.motion  \\\n",
       "1         -0.000923      0.032615      -0.059228      0.002191     0.043395   \n",
       "2          0.041451      0.004752       0.008058     -0.024316    -0.043428   \n",
       "3         -0.009357     -0.078781      -0.096304     -0.000102    -0.010545   \n",
       "4          0.031046     -0.015342      -0.029799      0.009851     0.045801   \n",
       "5         -0.006414     -0.024326      -0.012067      0.045959    -0.026189   \n",
       "\n",
       "   verb.perception  verb.possession  verb.social  verb.stative  verb.weather  \n",
       "1         0.016654        -0.000253     0.015861     -0.058195      0.027505  \n",
       "2         0.021968        -0.003188     0.024070      0.064498     -0.034473  \n",
       "3        -0.015110        -0.082116    -0.047947     -0.098220      0.008797  \n",
       "4        -0.023565         0.036102     0.003050      0.059049     -0.009769  \n",
       "5        -0.051913         0.013840    -0.012455      0.000732     -0.006095  \n",
       "\n",
       "[5 rows x 41 columns]"
      ]
     },
     "execution_count": 6,
     "metadata": {},
     "output_type": "execute_result"
    }
   ],
   "source": [
    "correlations.head()"
   ]
  }
 ],
 "metadata": {
  "kernelspec": {
   "display_name": "Python 3",
   "language": "python",
   "name": "python3"
  },
  "language_info": {
   "codemirror_mode": {
    "name": "ipython",
    "version": 3
   },
   "file_extension": ".py",
   "mimetype": "text/x-python",
   "name": "python",
   "nbconvert_exporter": "python",
   "pygments_lexer": "ipython3",
   "version": "3.6.1"
  }
 },
 "nbformat": 4,
 "nbformat_minor": 2
}
