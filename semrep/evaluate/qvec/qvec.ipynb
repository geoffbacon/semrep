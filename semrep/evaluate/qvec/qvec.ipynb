{
 "cells": [
  {
   "cell_type": "markdown",
   "metadata": {},
   "source": [
    "# QVEC\n",
    "\n",
    "This notebook is a replication of Tsvetkov et al. (2015) _Evaluation of Word Vector Representations by Subspace Alignment_, which introduces QVEC. QVEC is an intrinsic evaluation method of word embeddings, measuring the correlation between dimensions of the embeddings and linguistic features. The original code is [available](https://github.com/ytsvetko/qvec), but I'm replicating it for two reasons: i) as a learning exercise and ii) the original implementation looks messy.\n",
    "\n",
    "To implement QVEC, I'm going to need two things:\n",
    "- Gold standard linguistic features\n",
    "- The QVEC model\n",
    "\n",
    "## Linguistic features\n",
    "\n",
    "### SemCor\n",
    "\n",
    "The linguistic features used in the original paper come from SemCor, a WordNet annotated subset of the Brown corpus. WordNet has coarse features for nouns and verbs, called \"supersenses\". These are things like \"NOUN.BODY\", \"VERB.MOTION\". Supersenses are coarse semantic features, given by linguists. Once downloaded, NLTK provides easy access to the SemCor corpus, in particular as a stream of tagged chunks. Chunks are coarse constituents."
   ]
  },
  {
   "cell_type": "code",
   "execution_count": 1,
   "metadata": {
    "collapsed": true
   },
   "outputs": [],
   "source": [
    "import pandas as pd\n",
    "from nltk.corpus import semcor\n",
    "from nltk.corpus.reader.wordnet import Lemma"
   ]
  },
  {
   "cell_type": "code",
   "execution_count": 2,
   "metadata": {
    "collapsed": true
   },
   "outputs": [],
   "source": [
    "tagged_chunks = semcor.tagged_chunks(tag='both')\n",
    "tagged_chunks = list(tagged_chunks) # takes ages"
   ]
  },
  {
   "cell_type": "markdown",
   "metadata": {},
   "source": [
    "Put the tagged chunks into a `pandas dataframe`. Each row holds a chunk, and I will add columns as I go on."
   ]
  },
  {
   "cell_type": "code",
   "execution_count": 3,
   "metadata": {
    "collapsed": true
   },
   "outputs": [],
   "source": [
    "sc = pd.DataFrame({'chunk': tagged_chunks})"
   ]
  },
  {
   "cell_type": "markdown",
   "metadata": {},
   "source": [
    "These functions correspond to the columns I want to add."
   ]
  },
  {
   "cell_type": "code",
   "execution_count": 5,
   "metadata": {
    "collapsed": true
   },
   "outputs": [],
   "source": [
    "def extract_words(tc):\n",
    "    \"\"\"Return the words of a tagged chunk.\"\"\"\n",
    "    words = [w.lower() for w in tc.leaves()]\n",
    "    return ' '.join(words)\n",
    "\n",
    "def extract_pos(tc):\n",
    "    \"\"\"\n",
    "    Return the POS of a tagged chunk.\n",
    "    \n",
    "    This isn't the cleanest way, but it works for now.\n",
    "    \"\"\"\n",
    "    return tc.pos()[0][1]\n",
    "\n",
    "def extract_supersense(tc):\n",
    "    \"\"\"\n",
    "    Return the supersense of a tagged chunk, otherwise None.\n",
    "    \n",
    "    Only nouns and verbs have supersenses.\n",
    "    \"\"\"\n",
    "    label = tc.label()\n",
    "    if isinstance(label, Lemma):\n",
    "        return label.synset().lexname()\n",
    "    return None\n",
    "\n",
    "def extract_rough_pos(supersense):\n",
    "    \"\"\"Return coarser POS from supersense information.\"\"\"\n",
    "    if supersense:\n",
    "        return supersense.split('.')[0]\n",
    "    return None"
   ]
  },
  {
   "cell_type": "markdown",
   "metadata": {},
   "source": [
    "Add the columns."
   ]
  },
  {
   "cell_type": "code",
   "execution_count": 6,
   "metadata": {
    "collapsed": true
   },
   "outputs": [],
   "source": [
    "sc['words'] = sc['chunk'].apply(extract_words)\n",
    "sc['pos'] = sc['chunk'].apply(extract_pos)\n",
    "sc['supersense'] = sc['chunk'].apply(extract_supersense)\n",
    "sc['rough_pos'] = sc['supersense'].apply(extract_rough_pos)"
   ]
  },
  {
   "cell_type": "code",
   "execution_count": 7,
   "metadata": {
    "collapsed": true
   },
   "outputs": [],
   "source": [
    "sc.to_csv('semcor.csv')"
   ]
  },
  {
   "cell_type": "markdown",
   "metadata": {},
   "source": [
    "Only nouns and verbs have supersenses in WordNet (adjectives do, but they seem to be ignored in the original paper). We only care about words that have supersenses now. Also, there's a lot of junk words in SemCor. First we replace all digits with '0'. Then we'll drop words that are i) not alphabetic or '0' or ii) multiple words. I can't tell how this is done in the original paper, so I may get slightly different results."
   ]
  },
  {
   "cell_type": "code",
   "execution_count": 8,
   "metadata": {
    "collapsed": true
   },
   "outputs": [],
   "source": [
    "sc = sc[sc['rough_pos'].isin(['noun', 'verb'])]\n",
    "sc.loc[sc['words'].str.isdigit(), 'words'] = '0'\n",
    "sc = sc[(sc['words'].str.isalpha()) | (sc['words'].str.match('0'))]"
   ]
  },
  {
   "cell_type": "markdown",
   "metadata": {},
   "source": [
    "The linguistic features are in fact a distribution over the 41 supersenses."
   ]
  },
  {
   "cell_type": "code",
   "execution_count": 9,
   "metadata": {
    "collapsed": true
   },
   "outputs": [],
   "source": [
    "grouped = sc.groupby('words')\n",
    "features = grouped['supersense'].value_counts(normalize=True).unstack()\n",
    "features['count_in_semcor'] = grouped['supersense'].count()\n",
    "features.reset_index(inplace=True) # make \"words\" a column not the index\n",
    "features.fillna(0, inplace=True)\n",
    "features.columns.name = ''"
   ]
  },
  {
   "cell_type": "markdown",
   "metadata": {},
   "source": [
    "Now we restrict to words with a certain frequency in the corpus. The original paper has 4199 words when thresholding at a frequency of 5, I get 4847. I believe this discrepancy comes from how words are preprocessed."
   ]
  },
  {
   "cell_type": "code",
   "execution_count": 10,
   "metadata": {},
   "outputs": [
    {
     "name": "stdout",
     "output_type": "stream",
     "text": [
      "Number of words: 4847\n"
     ]
    }
   ],
   "source": [
    "threshold = 5\n",
    "subset = features[features['count_in_semcor'] > threshold]\n",
    "print('Number of words:', len(subset))"
   ]
  },
  {
   "cell_type": "markdown",
   "metadata": {},
   "source": [
    "### Comparing with reference implementation"
   ]
  },
  {
   "cell_type": "markdown",
   "metadata": {},
   "source": [
    "I want to know how different my linguistic features are from the original paper's, available [here](https://github.com/ytsvetko/qvec/blob/master/oracles/semcor_noun_verb.supersenses.en). Read in the original paper's. Note that their columns start with \"semcor.\", which will be helpful when I merge the two sets."
   ]
  },
  {
   "cell_type": "code",
   "execution_count": 32,
   "metadata": {
    "collapsed": true
   },
   "outputs": [],
   "source": [
    "words, dicts = [], []\n",
    "with open('tsvetkov.txt', 'r') as f:\n",
    "    for line in f:\n",
    "        word, _, d = line.partition('\\t')\n",
    "        words.append(word)\n",
    "        d = eval(d.strip())\n",
    "        dicts.append(d)\n",
    "\n",
    "tsvetkov = pd.DataFrame(dicts)\n",
    "tsvetkov['words'] = words\n",
    "tsvetkov.fillna(0, inplace=True)"
   ]
  },
  {
   "cell_type": "markdown",
   "metadata": {},
   "source": [
    "Merge the two sets. This dataframe has 84 columns: one for the word, one for my count in SemCor, 41 for my features, 41 for their features."
   ]
  },
  {
   "cell_type": "code",
   "execution_count": 12,
   "metadata": {},
   "outputs": [
    {
     "data": {
      "text/html": [
       "<div>\n",
       "<style>\n",
       "    .dataframe thead tr:only-child th {\n",
       "        text-align: right;\n",
       "    }\n",
       "\n",
       "    .dataframe thead th {\n",
       "        text-align: left;\n",
       "    }\n",
       "\n",
       "    .dataframe tbody tr th {\n",
       "        vertical-align: top;\n",
       "    }\n",
       "</style>\n",
       "<table border=\"1\" class=\"dataframe\">\n",
       "  <thead>\n",
       "    <tr style=\"text-align: right;\">\n",
       "      <th></th>\n",
       "      <th>words</th>\n",
       "      <th>noun.Tops</th>\n",
       "      <th>noun.act</th>\n",
       "      <th>noun.animal</th>\n",
       "      <th>noun.artifact</th>\n",
       "      <th>noun.attribute</th>\n",
       "      <th>noun.body</th>\n",
       "      <th>noun.cognition</th>\n",
       "      <th>noun.communication</th>\n",
       "      <th>noun.event</th>\n",
       "      <th>...</th>\n",
       "      <th>semcor.verb.consumption</th>\n",
       "      <th>semcor.verb.contact</th>\n",
       "      <th>semcor.verb.creation</th>\n",
       "      <th>semcor.verb.emotion</th>\n",
       "      <th>semcor.verb.motion</th>\n",
       "      <th>semcor.verb.perception</th>\n",
       "      <th>semcor.verb.possession</th>\n",
       "      <th>semcor.verb.social</th>\n",
       "      <th>semcor.verb.stative</th>\n",
       "      <th>semcor.verb.weather</th>\n",
       "    </tr>\n",
       "  </thead>\n",
       "  <tbody>\n",
       "    <tr>\n",
       "      <th>0</th>\n",
       "      <td>0</td>\n",
       "      <td>0.0</td>\n",
       "      <td>0.0</td>\n",
       "      <td>0.0</td>\n",
       "      <td>0.0</td>\n",
       "      <td>0.000000</td>\n",
       "      <td>0.0</td>\n",
       "      <td>0.000000</td>\n",
       "      <td>0.0</td>\n",
       "      <td>0.0</td>\n",
       "      <td>...</td>\n",
       "      <td>0.0</td>\n",
       "      <td>0.0</td>\n",
       "      <td>0.0</td>\n",
       "      <td>0.0</td>\n",
       "      <td>0.0</td>\n",
       "      <td>0.0</td>\n",
       "      <td>0.000000</td>\n",
       "      <td>0.0</td>\n",
       "      <td>0.0</td>\n",
       "      <td>0.0</td>\n",
       "    </tr>\n",
       "    <tr>\n",
       "      <th>1</th>\n",
       "      <td>a</td>\n",
       "      <td>0.0</td>\n",
       "      <td>0.0</td>\n",
       "      <td>0.0</td>\n",
       "      <td>0.0</td>\n",
       "      <td>0.000000</td>\n",
       "      <td>0.0</td>\n",
       "      <td>0.000000</td>\n",
       "      <td>0.0</td>\n",
       "      <td>0.0</td>\n",
       "      <td>...</td>\n",
       "      <td>0.0</td>\n",
       "      <td>0.0</td>\n",
       "      <td>0.0</td>\n",
       "      <td>0.0</td>\n",
       "      <td>0.0</td>\n",
       "      <td>0.0</td>\n",
       "      <td>0.000000</td>\n",
       "      <td>0.0</td>\n",
       "      <td>0.0</td>\n",
       "      <td>0.0</td>\n",
       "    </tr>\n",
       "    <tr>\n",
       "      <th>2</th>\n",
       "      <td>abandon</td>\n",
       "      <td>0.0</td>\n",
       "      <td>0.0</td>\n",
       "      <td>0.0</td>\n",
       "      <td>0.0</td>\n",
       "      <td>0.083333</td>\n",
       "      <td>0.0</td>\n",
       "      <td>0.000000</td>\n",
       "      <td>0.0</td>\n",
       "      <td>0.0</td>\n",
       "      <td>...</td>\n",
       "      <td>0.0</td>\n",
       "      <td>0.0</td>\n",
       "      <td>0.0</td>\n",
       "      <td>0.0</td>\n",
       "      <td>0.0</td>\n",
       "      <td>0.0</td>\n",
       "      <td>0.571429</td>\n",
       "      <td>0.0</td>\n",
       "      <td>0.0</td>\n",
       "      <td>0.0</td>\n",
       "    </tr>\n",
       "    <tr>\n",
       "      <th>3</th>\n",
       "      <td>ability</td>\n",
       "      <td>0.0</td>\n",
       "      <td>0.0</td>\n",
       "      <td>0.0</td>\n",
       "      <td>0.0</td>\n",
       "      <td>0.727273</td>\n",
       "      <td>0.0</td>\n",
       "      <td>0.272727</td>\n",
       "      <td>0.0</td>\n",
       "      <td>0.0</td>\n",
       "      <td>...</td>\n",
       "      <td>0.0</td>\n",
       "      <td>0.0</td>\n",
       "      <td>0.0</td>\n",
       "      <td>0.0</td>\n",
       "      <td>0.0</td>\n",
       "      <td>0.0</td>\n",
       "      <td>0.000000</td>\n",
       "      <td>0.0</td>\n",
       "      <td>0.0</td>\n",
       "      <td>0.0</td>\n",
       "    </tr>\n",
       "    <tr>\n",
       "      <th>4</th>\n",
       "      <td>abolish</td>\n",
       "      <td>0.0</td>\n",
       "      <td>0.0</td>\n",
       "      <td>0.0</td>\n",
       "      <td>0.0</td>\n",
       "      <td>0.000000</td>\n",
       "      <td>0.0</td>\n",
       "      <td>0.000000</td>\n",
       "      <td>0.0</td>\n",
       "      <td>0.0</td>\n",
       "      <td>...</td>\n",
       "      <td>0.0</td>\n",
       "      <td>0.0</td>\n",
       "      <td>0.0</td>\n",
       "      <td>0.0</td>\n",
       "      <td>0.0</td>\n",
       "      <td>0.0</td>\n",
       "      <td>0.000000</td>\n",
       "      <td>1.0</td>\n",
       "      <td>0.0</td>\n",
       "      <td>0.0</td>\n",
       "    </tr>\n",
       "  </tbody>\n",
       "</table>\n",
       "<p>5 rows × 84 columns</p>\n",
       "</div>"
      ],
      "text/plain": [
       "     words  noun.Tops  noun.act  noun.animal  noun.artifact  noun.attribute  \\\n",
       "0        0        0.0       0.0          0.0            0.0        0.000000   \n",
       "1        a        0.0       0.0          0.0            0.0        0.000000   \n",
       "2  abandon        0.0       0.0          0.0            0.0        0.083333   \n",
       "3  ability        0.0       0.0          0.0            0.0        0.727273   \n",
       "4  abolish        0.0       0.0          0.0            0.0        0.000000   \n",
       "\n",
       "   noun.body  noun.cognition  noun.communication  noun.event  \\\n",
       "0        0.0        0.000000                 0.0         0.0   \n",
       "1        0.0        0.000000                 0.0         0.0   \n",
       "2        0.0        0.000000                 0.0         0.0   \n",
       "3        0.0        0.272727                 0.0         0.0   \n",
       "4        0.0        0.000000                 0.0         0.0   \n",
       "\n",
       "          ...           semcor.verb.consumption  semcor.verb.contact  \\\n",
       "0         ...                               0.0                  0.0   \n",
       "1         ...                               0.0                  0.0   \n",
       "2         ...                               0.0                  0.0   \n",
       "3         ...                               0.0                  0.0   \n",
       "4         ...                               0.0                  0.0   \n",
       "\n",
       "   semcor.verb.creation  semcor.verb.emotion  semcor.verb.motion  \\\n",
       "0                   0.0                  0.0                 0.0   \n",
       "1                   0.0                  0.0                 0.0   \n",
       "2                   0.0                  0.0                 0.0   \n",
       "3                   0.0                  0.0                 0.0   \n",
       "4                   0.0                  0.0                 0.0   \n",
       "\n",
       "   semcor.verb.perception  semcor.verb.possession  semcor.verb.social  \\\n",
       "0                     0.0                0.000000                 0.0   \n",
       "1                     0.0                0.000000                 0.0   \n",
       "2                     0.0                0.571429                 0.0   \n",
       "3                     0.0                0.000000                 0.0   \n",
       "4                     0.0                0.000000                 1.0   \n",
       "\n",
       "   semcor.verb.stative  semcor.verb.weather  \n",
       "0                  0.0                  0.0  \n",
       "1                  0.0                  0.0  \n",
       "2                  0.0                  0.0  \n",
       "3                  0.0                  0.0  \n",
       "4                  0.0                  0.0  \n",
       "\n",
       "[5 rows x 84 columns]"
      ]
     },
     "execution_count": 12,
     "metadata": {},
     "output_type": "execute_result"
    }
   ],
   "source": [
    "comparison = pd.merge(features, tsvetkov, on=['words'], how='inner')\n",
    "comparison.head()"
   ]
  },
  {
   "cell_type": "markdown",
   "metadata": {},
   "source": [
    "So I have two discrete distributions, and I want to know how different/similar they are. I need to ask someone how to do this properly, but I have a few naive ideas.\n",
    "\n",
    "#### KL divergence"
   ]
  },
  {
   "cell_type": "code",
   "execution_count": 13,
   "metadata": {
    "collapsed": true
   },
   "outputs": [],
   "source": [
    "%matplotlib inline\n",
    "import numpy as np\n",
    "from scipy import stats\n",
    "import matplotlib.pyplot as plt\n",
    "import seaborn as sns\n",
    "sns.set()"
   ]
  },
  {
   "cell_type": "markdown",
   "metadata": {},
   "source": [
    "Sort the columns so that features in the two lists are in the same position."
   ]
  },
  {
   "cell_type": "code",
   "execution_count": 14,
   "metadata": {
    "collapsed": true
   },
   "outputs": [],
   "source": [
    "their_columns = sorted([c for c in comparison.columns if c.startswith('semcor')])\n",
    "my_columns = [c.partition('.')[2] for c in their_columns]\n",
    "\n",
    "def KL(row):\n",
    "    \"\"\"\n",
    "    Helper function for apply KL to a dataframe.\n",
    "    \n",
    "    I get errors unless I explicitly convert to float, even though they appear to be floats anyway\n",
    "    \"\"\"\n",
    "    theirs = row[their_columns].values.astype(float)\n",
    "    mine = row[my_columns].values.astype(float)\n",
    "    return stats.entropy(theirs, mine)"
   ]
  },
  {
   "cell_type": "code",
   "execution_count": 15,
   "metadata": {
    "collapsed": true
   },
   "outputs": [],
   "source": [
    "comparison['KL'] = comparison.apply(KL, axis=1)"
   ]
  },
  {
   "cell_type": "markdown",
   "metadata": {},
   "source": [
    "`Inf` is not good, meaning that the two distributions are very different. Nearly half of the words have very different distributions."
   ]
  },
  {
   "cell_type": "code",
   "execution_count": 16,
   "metadata": {},
   "outputs": [
    {
     "data": {
      "text/plain": [
       "0.46724565756823822"
      ]
     },
     "execution_count": 16,
     "metadata": {},
     "output_type": "execute_result"
    }
   ],
   "source": [
    "np.isinf(comparison['KL']).sum() / len(comparison)"
   ]
  },
  {
   "cell_type": "markdown",
   "metadata": {},
   "source": [
    "Otherwise, most words have similar distributions."
   ]
  },
  {
   "cell_type": "code",
   "execution_count": 17,
   "metadata": {},
   "outputs": [
    {
     "data": {
      "image/png": "[encoded data removed]",
      "text/plain": [
       "<matplotlib.figure.Figure at 0x7f9cf8599940>"
      ]
     },
     "metadata": {},
     "output_type": "display_data"
    }
   ],
   "source": [
    "sns.boxplot(comparison[np.isfinite(comparison['KL'])]['KL']);"
   ]
  },
  {
   "cell_type": "markdown",
   "metadata": {},
   "source": [
    "My linguistic features are obviously not similar enough to the original paper's, and that needs to be fixed. I'm putting that aside at the moment and proceding *as if* the linguistic features I have are correct."
   ]
  },
  {
   "cell_type": "code",
   "execution_count": 33,
   "metadata": {},
   "outputs": [],
   "source": [
    "subset = tsvetkov\n",
    "subset.columns = [c.replace('semcor.', '') for c in subset.columns]"
   ]
  },
  {
   "cell_type": "markdown",
   "metadata": {},
   "source": [
    "## QVEC model\n",
    "\n",
    "QVEC finds an alignment between dimensions of learnt word embeddings and dimensions (features) of linguistic features by maximising the cumulative correlation.\n",
    "\n",
    "$N$ is the size of the vocabulary (in common between the embeddings and the linguistic features).\n",
    "\n",
    "$D$ is the dimensionality of the embeddings.\n",
    "\n",
    "$X \\in \\mathbb{R}^{D \\times N}$ is the matrix of embeddings. Note that a word's embedding is a column, rows are individual dimensions.\n",
    "\n",
    "$P$ is the number of linguistic features.\n",
    "\n",
    "$S \\in \\mathbb{R}^{P \\times N}$ is the matrix of linguistic features, created above. Again, each word is a column and rows are individual features.\n",
    "\n",
    "QVEC finds an alignment between the rows of $X$ and the rows of $S$ that maximises the correlation between the aligned rows. Each row of $X$ is aligned to **at most** one row of $S$, but each row of $S$ **may** be aligned to more than one row of $X$.\n",
    "\n",
    "$A \\in \\{0,1\\}^{D \\times P}$ holds the alignments. $x_{ij}$ is 1 if dimension $i$ of $X$ is aligned with linguistic feature $j$.\n",
    "\n",
    "The sum of correlations (which can be arbitrarily large with more dimensions or features) is their measure of the quality of the word embeddings in $X$.\n",
    "\n",
    "$QVEC = \\max_{A|\\sum_{j}a_{ij} \\leq 1}\\sum_{i=1}^{D}\\sum_{j=1}^{P}r(x_i, s_j) \\times a_{ij}$\n",
    "\n",
    "In words, for any possible alignment $A$, subject to the constraint that each embedding dimension is aligned to 0 or 1 linguistic features, sum up the correlations. The sum for the best alignment is the measure of the embeddings.\n",
    "\n",
    "Crucially, this assumes that the dimensions of the embeddings end up encoding linguistic features. The authors justify this by the effectiveness of using word embeddings in linear models in downstream tasks.\n",
    "\n",
    "First things first, transform my linguistic features into the format mentioned above (i.e., the matrix $S$)."
   ]
  },
  {
   "cell_type": "code",
   "execution_count": 35,
   "metadata": {},
   "outputs": [],
   "source": [
    "subset.set_index('words', inplace=True)\n",
    "#subset.drop('count_in_semcor', inplace=True, axis=1)\n",
    "subset = subset.T"
   ]
  },
  {
   "cell_type": "code",
   "execution_count": 36,
   "metadata": {},
   "outputs": [
    {
     "data": {
      "text/html": [
       "<div>\n",
       "<style>\n",
       "    .dataframe thead tr:only-child th {\n",
       "        text-align: right;\n",
       "    }\n",
       "\n",
       "    .dataframe thead th {\n",
       "        text-align: left;\n",
       "    }\n",
       "\n",
       "    .dataframe tbody tr th {\n",
       "        vertical-align: top;\n",
       "    }\n",
       "</style>\n",
       "<table border=\"1\" class=\"dataframe\">\n",
       "  <thead>\n",
       "    <tr style=\"text-align: right;\">\n",
       "      <th>words</th>\n",
       "      <th>0</th>\n",
       "      <th>a</th>\n",
       "      <th>abandon</th>\n",
       "      <th>ability</th>\n",
       "      <th>abolish</th>\n",
       "      <th>absence</th>\n",
       "      <th>absorb</th>\n",
       "      <th>absorption</th>\n",
       "      <th>abstract</th>\n",
       "      <th>abstraction</th>\n",
       "      <th>...</th>\n",
       "      <th>yes</th>\n",
       "      <th>yesterday</th>\n",
       "      <th>yield</th>\n",
       "      <th>yokuts</th>\n",
       "      <th>york</th>\n",
       "      <th>young</th>\n",
       "      <th>youth</th>\n",
       "      <th>yr</th>\n",
       "      <th>zero</th>\n",
       "      <th>zinc</th>\n",
       "    </tr>\n",
       "  </thead>\n",
       "  <tbody>\n",
       "    <tr>\n",
       "      <th>noun.Tops</th>\n",
       "      <td>0.0</td>\n",
       "      <td>0.0</td>\n",
       "      <td>0.000000</td>\n",
       "      <td>0.000000</td>\n",
       "      <td>0.0</td>\n",
       "      <td>0.00</td>\n",
       "      <td>0.0</td>\n",
       "      <td>0.0</td>\n",
       "      <td>0.000000</td>\n",
       "      <td>0.000000</td>\n",
       "      <td>...</td>\n",
       "      <td>0.0</td>\n",
       "      <td>0.0</td>\n",
       "      <td>0.00</td>\n",
       "      <td>0.0</td>\n",
       "      <td>0.0</td>\n",
       "      <td>0.000000</td>\n",
       "      <td>0.00</td>\n",
       "      <td>0.0</td>\n",
       "      <td>0.0</td>\n",
       "      <td>0.0</td>\n",
       "    </tr>\n",
       "    <tr>\n",
       "      <th>noun.act</th>\n",
       "      <td>0.0</td>\n",
       "      <td>0.0</td>\n",
       "      <td>0.000000</td>\n",
       "      <td>0.000000</td>\n",
       "      <td>0.0</td>\n",
       "      <td>0.25</td>\n",
       "      <td>0.0</td>\n",
       "      <td>0.0</td>\n",
       "      <td>0.000000</td>\n",
       "      <td>0.250000</td>\n",
       "      <td>...</td>\n",
       "      <td>0.0</td>\n",
       "      <td>0.0</td>\n",
       "      <td>0.00</td>\n",
       "      <td>0.0</td>\n",
       "      <td>0.0</td>\n",
       "      <td>0.000000</td>\n",
       "      <td>0.00</td>\n",
       "      <td>0.0</td>\n",
       "      <td>0.0</td>\n",
       "      <td>0.0</td>\n",
       "    </tr>\n",
       "    <tr>\n",
       "      <th>noun.animal</th>\n",
       "      <td>0.0</td>\n",
       "      <td>0.0</td>\n",
       "      <td>0.000000</td>\n",
       "      <td>0.000000</td>\n",
       "      <td>0.0</td>\n",
       "      <td>0.00</td>\n",
       "      <td>0.0</td>\n",
       "      <td>0.0</td>\n",
       "      <td>0.000000</td>\n",
       "      <td>0.000000</td>\n",
       "      <td>...</td>\n",
       "      <td>0.0</td>\n",
       "      <td>0.0</td>\n",
       "      <td>0.00</td>\n",
       "      <td>0.0</td>\n",
       "      <td>0.0</td>\n",
       "      <td>0.304348</td>\n",
       "      <td>0.00</td>\n",
       "      <td>0.0</td>\n",
       "      <td>0.0</td>\n",
       "      <td>0.0</td>\n",
       "    </tr>\n",
       "    <tr>\n",
       "      <th>noun.artifact</th>\n",
       "      <td>0.0</td>\n",
       "      <td>0.0</td>\n",
       "      <td>0.000000</td>\n",
       "      <td>0.000000</td>\n",
       "      <td>0.0</td>\n",
       "      <td>0.00</td>\n",
       "      <td>0.0</td>\n",
       "      <td>0.0</td>\n",
       "      <td>0.272727</td>\n",
       "      <td>0.166667</td>\n",
       "      <td>...</td>\n",
       "      <td>0.0</td>\n",
       "      <td>0.0</td>\n",
       "      <td>0.16</td>\n",
       "      <td>0.0</td>\n",
       "      <td>0.0</td>\n",
       "      <td>0.000000</td>\n",
       "      <td>0.00</td>\n",
       "      <td>0.0</td>\n",
       "      <td>0.0</td>\n",
       "      <td>0.0</td>\n",
       "    </tr>\n",
       "    <tr>\n",
       "      <th>noun.attribute</th>\n",
       "      <td>0.0</td>\n",
       "      <td>0.0</td>\n",
       "      <td>0.035714</td>\n",
       "      <td>0.703704</td>\n",
       "      <td>0.0</td>\n",
       "      <td>0.00</td>\n",
       "      <td>0.0</td>\n",
       "      <td>0.0</td>\n",
       "      <td>0.000000</td>\n",
       "      <td>0.000000</td>\n",
       "      <td>...</td>\n",
       "      <td>0.0</td>\n",
       "      <td>0.0</td>\n",
       "      <td>0.00</td>\n",
       "      <td>0.0</td>\n",
       "      <td>0.0</td>\n",
       "      <td>0.000000</td>\n",
       "      <td>0.08</td>\n",
       "      <td>0.0</td>\n",
       "      <td>0.0</td>\n",
       "      <td>0.0</td>\n",
       "    </tr>\n",
       "  </tbody>\n",
       "</table>\n",
       "<p>5 rows × 4199 columns</p>\n",
       "</div>"
      ],
      "text/plain": [
       "words             0    a   abandon   ability  abolish  absence  absorb  \\\n",
       "noun.Tops       0.0  0.0  0.000000  0.000000      0.0     0.00     0.0   \n",
       "noun.act        0.0  0.0  0.000000  0.000000      0.0     0.25     0.0   \n",
       "noun.animal     0.0  0.0  0.000000  0.000000      0.0     0.00     0.0   \n",
       "noun.artifact   0.0  0.0  0.000000  0.000000      0.0     0.00     0.0   \n",
       "noun.attribute  0.0  0.0  0.035714  0.703704      0.0     0.00     0.0   \n",
       "\n",
       "words           absorption  abstract  abstraction  ...   yes  yesterday  \\\n",
       "noun.Tops              0.0  0.000000     0.000000  ...   0.0        0.0   \n",
       "noun.act               0.0  0.000000     0.250000  ...   0.0        0.0   \n",
       "noun.animal            0.0  0.000000     0.000000  ...   0.0        0.0   \n",
       "noun.artifact          0.0  0.272727     0.166667  ...   0.0        0.0   \n",
       "noun.attribute         0.0  0.000000     0.000000  ...   0.0        0.0   \n",
       "\n",
       "words           yield  yokuts  york     young  youth   yr  zero  zinc  \n",
       "noun.Tops        0.00     0.0   0.0  0.000000   0.00  0.0   0.0   0.0  \n",
       "noun.act         0.00     0.0   0.0  0.000000   0.00  0.0   0.0   0.0  \n",
       "noun.animal      0.00     0.0   0.0  0.304348   0.00  0.0   0.0   0.0  \n",
       "noun.artifact    0.16     0.0   0.0  0.000000   0.00  0.0   0.0   0.0  \n",
       "noun.attribute   0.00     0.0   0.0  0.000000   0.08  0.0   0.0   0.0  \n",
       "\n",
       "[5 rows x 4199 columns]"
      ]
     },
     "execution_count": 36,
     "metadata": {},
     "output_type": "execute_result"
    }
   ],
   "source": [
    "subset.head()"
   ]
  },
  {
   "cell_type": "markdown",
   "metadata": {},
   "source": [
    "### Learnt word embeddings\n",
    "\n",
    "The original paper trains various different models of varying sizes. At a later stage I could do that, but for now I'm happy with using pre-trained embeddings."
   ]
  },
  {
   "cell_type": "code",
   "execution_count": 37,
   "metadata": {},
   "outputs": [
    {
     "data": {
      "text/html": [
       "<div>\n",
       "<style>\n",
       "    .dataframe thead tr:only-child th {\n",
       "        text-align: right;\n",
       "    }\n",
       "\n",
       "    .dataframe thead th {\n",
       "        text-align: left;\n",
       "    }\n",
       "\n",
       "    .dataframe tbody tr th {\n",
       "        vertical-align: top;\n",
       "    }\n",
       "</style>\n",
       "<table border=\"1\" class=\"dataframe\">\n",
       "  <thead>\n",
       "    <tr style=\"text-align: right;\">\n",
       "      <th></th>\n",
       "      <th>the</th>\n",
       "      <th>,</th>\n",
       "      <th>.</th>\n",
       "      <th>of</th>\n",
       "      <th>to</th>\n",
       "      <th>and</th>\n",
       "      <th>in</th>\n",
       "      <th>a</th>\n",
       "      <th>\"</th>\n",
       "      <th>'s</th>\n",
       "      <th>...</th>\n",
       "      <th>sigarms</th>\n",
       "      <th>katuna</th>\n",
       "      <th>aqm</th>\n",
       "      <th>1.3775</th>\n",
       "      <th>corythosaurus</th>\n",
       "      <th>chanty</th>\n",
       "      <th>kronik</th>\n",
       "      <th>rolonda</th>\n",
       "      <th>zsombor</th>\n",
       "      <th>sandberger</th>\n",
       "    </tr>\n",
       "  </thead>\n",
       "  <tbody>\n",
       "    <tr>\n",
       "      <th>1</th>\n",
       "      <td>0.046560</td>\n",
       "      <td>-0.255390</td>\n",
       "      <td>-0.125590</td>\n",
       "      <td>-0.076947</td>\n",
       "      <td>-0.257560</td>\n",
       "      <td>0.038466</td>\n",
       "      <td>-0.44399</td>\n",
       "      <td>-0.297120</td>\n",
       "      <td>0.694700</td>\n",
       "      <td>-0.001272</td>\n",
       "      <td>...</td>\n",
       "      <td>0.14649</td>\n",
       "      <td>-0.030013</td>\n",
       "      <td>0.46348</td>\n",
       "      <td>0.71376</td>\n",
       "      <td>0.886490</td>\n",
       "      <td>0.392700</td>\n",
       "      <td>0.136790</td>\n",
       "      <td>0.075713</td>\n",
       "      <td>0.81451</td>\n",
       "      <td>0.429191</td>\n",
       "    </tr>\n",
       "    <tr>\n",
       "      <th>2</th>\n",
       "      <td>0.213180</td>\n",
       "      <td>-0.257230</td>\n",
       "      <td>0.013630</td>\n",
       "      <td>-0.021211</td>\n",
       "      <td>-0.057132</td>\n",
       "      <td>-0.039792</td>\n",
       "      <td>0.12817</td>\n",
       "      <td>0.094049</td>\n",
       "      <td>0.221840</td>\n",
       "      <td>0.365140</td>\n",
       "      <td>...</td>\n",
       "      <td>-0.47266</td>\n",
       "      <td>0.246260</td>\n",
       "      <td>-0.42811</td>\n",
       "      <td>-0.56625</td>\n",
       "      <td>-0.095745</td>\n",
       "      <td>-0.022505</td>\n",
       "      <td>-0.139090</td>\n",
       "      <td>-0.040502</td>\n",
       "      <td>-0.36221</td>\n",
       "      <td>-0.296897</td>\n",
       "    </tr>\n",
       "    <tr>\n",
       "      <th>3</th>\n",
       "      <td>-0.007436</td>\n",
       "      <td>0.131690</td>\n",
       "      <td>0.103060</td>\n",
       "      <td>0.212710</td>\n",
       "      <td>-0.671900</td>\n",
       "      <td>0.082747</td>\n",
       "      <td>-0.25247</td>\n",
       "      <td>-0.096662</td>\n",
       "      <td>0.105260</td>\n",
       "      <td>-0.077363</td>\n",
       "      <td>...</td>\n",
       "      <td>0.17144</td>\n",
       "      <td>0.068192</td>\n",
       "      <td>0.45750</td>\n",
       "      <td>-0.18468</td>\n",
       "      <td>0.189610</td>\n",
       "      <td>0.304580</td>\n",
       "      <td>-0.360890</td>\n",
       "      <td>0.183450</td>\n",
       "      <td>0.31186</td>\n",
       "      <td>0.150110</td>\n",
       "    </tr>\n",
       "    <tr>\n",
       "      <th>4</th>\n",
       "      <td>-0.458540</td>\n",
       "      <td>-0.042688</td>\n",
       "      <td>-0.101230</td>\n",
       "      <td>-0.722320</td>\n",
       "      <td>-0.380820</td>\n",
       "      <td>-0.389230</td>\n",
       "      <td>-0.18582</td>\n",
       "      <td>-0.344000</td>\n",
       "      <td>0.012382</td>\n",
       "      <td>-0.265590</td>\n",
       "      <td>...</td>\n",
       "      <td>0.26431</td>\n",
       "      <td>0.089033</td>\n",
       "      <td>0.25317</td>\n",
       "      <td>0.30104</td>\n",
       "      <td>0.012919</td>\n",
       "      <td>0.187990</td>\n",
       "      <td>0.079864</td>\n",
       "      <td>0.512300</td>\n",
       "      <td>0.81381</td>\n",
       "      <td>0.245201</td>\n",
       "    </tr>\n",
       "    <tr>\n",
       "      <th>5</th>\n",
       "      <td>-0.035639</td>\n",
       "      <td>0.218170</td>\n",
       "      <td>0.098128</td>\n",
       "      <td>-0.139880</td>\n",
       "      <td>-0.364210</td>\n",
       "      <td>-0.214310</td>\n",
       "      <td>-0.16614</td>\n",
       "      <td>-0.184830</td>\n",
       "      <td>-0.255800</td>\n",
       "      <td>0.179870</td>\n",
       "      <td>...</td>\n",
       "      <td>-0.13895</td>\n",
       "      <td>-0.199770</td>\n",
       "      <td>0.58327</td>\n",
       "      <td>-0.56443</td>\n",
       "      <td>-0.409250</td>\n",
       "      <td>0.141180</td>\n",
       "      <td>0.321490</td>\n",
       "      <td>-0.228560</td>\n",
       "      <td>0.18852</td>\n",
       "      <td>-0.003520</td>\n",
       "    </tr>\n",
       "  </tbody>\n",
       "</table>\n",
       "<p>5 rows × 400000 columns</p>\n",
       "</div>"
      ],
      "text/plain": [
       "0       the         ,         .        of        to       and       in  \\\n",
       "1  0.046560 -0.255390 -0.125590 -0.076947 -0.257560  0.038466 -0.44399   \n",
       "2  0.213180 -0.257230  0.013630 -0.021211 -0.057132 -0.039792  0.12817   \n",
       "3 -0.007436  0.131690  0.103060  0.212710 -0.671900  0.082747 -0.25247   \n",
       "4 -0.458540 -0.042688 -0.101230 -0.722320 -0.380820 -0.389230 -0.18582   \n",
       "5 -0.035639  0.218170  0.098128 -0.139880 -0.364210 -0.214310 -0.16614   \n",
       "\n",
       "0         a         \"        's     ...      sigarms    katuna      aqm  \\\n",
       "1 -0.297120  0.694700 -0.001272     ...      0.14649 -0.030013  0.46348   \n",
       "2  0.094049  0.221840  0.365140     ...     -0.47266  0.246260 -0.42811   \n",
       "3 -0.096662  0.105260 -0.077363     ...      0.17144  0.068192  0.45750   \n",
       "4 -0.344000  0.012382 -0.265590     ...      0.26431  0.089033  0.25317   \n",
       "5 -0.184830 -0.255800  0.179870     ...     -0.13895 -0.199770  0.58327   \n",
       "\n",
       "0   1.3775  corythosaurus    chanty    kronik   rolonda  zsombor  sandberger  \n",
       "1  0.71376       0.886490  0.392700  0.136790  0.075713  0.81451    0.429191  \n",
       "2 -0.56625      -0.095745 -0.022505 -0.139090 -0.040502 -0.36221   -0.296897  \n",
       "3 -0.18468       0.189610  0.304580 -0.360890  0.183450  0.31186    0.150110  \n",
       "4  0.30104       0.012919  0.187990  0.079864  0.512300  0.81381    0.245201  \n",
       "5 -0.56443      -0.409250  0.141180  0.321490 -0.228560  0.18852   -0.003520  \n",
       "\n",
       "[5 rows x 400000 columns]"
      ]
     },
     "execution_count": 37,
     "metadata": {},
     "output_type": "execute_result"
    }
   ],
   "source": [
    "import csv\n",
    "size = 300\n",
    "fname = '../adl-hatespeech-2017/python/embeddings/glove.6B.{}d.txt'.format(size)\n",
    "embeddings = pd.read_csv(fname, sep=' ', header=None, index_col=0, quoting=csv.QUOTE_NONE).T\n",
    "embeddings.head()"
   ]
  },
  {
   "cell_type": "code",
   "execution_count": 39,
   "metadata": {
    "collapsed": true
   },
   "outputs": [],
   "source": [
    "common_words = embeddings.columns.intersection(subset.columns)\n",
    "embeddings = embeddings[common_words]\n",
    "embeddings.to_csv('glove_embeddings.csv')"
   ]
  },
  {
   "cell_type": "markdown",
   "metadata": {},
   "source": [
    "The Python variables S and X refer to $S$ and $X$ exactly as above."
   ]
  },
  {
   "cell_type": "code",
   "execution_count": 40,
   "metadata": {
    "collapsed": true
   },
   "outputs": [],
   "source": [
    "S = subset[common_words]\n",
    "X = embeddings[common_words]"
   ]
  },
  {
   "cell_type": "markdown",
   "metadata": {},
   "source": [
    "Now we want the correlation between the rows of S and the rows of X. This may not be the easiest way to do it but it works."
   ]
  },
  {
   "cell_type": "code",
   "execution_count": 41,
   "metadata": {
    "collapsed": true
   },
   "outputs": [],
   "source": [
    "correlations = pd.DataFrame({i:X.corrwith(S.iloc[i], axis=1) for i in range(len(S))})\n",
    "correlations.columns = S.index"
   ]
  },
  {
   "cell_type": "markdown",
   "metadata": {},
   "source": [
    "For each row of this correlation matrix (i.e. for each of the dimenions of the embeddings), we want the linguistic feature that it is most correlated with. We also get the value of that correlation."
   ]
  },
  {
   "cell_type": "code",
   "execution_count": 42,
   "metadata": {},
   "outputs": [
    {
     "data": {
      "text/plain": [
       "1    0.103305\n",
       "2    0.079669\n",
       "3    0.132868\n",
       "4    0.118316\n",
       "5    0.073610\n",
       "dtype: float64"
      ]
     },
     "execution_count": 42,
     "metadata": {},
     "output_type": "execute_result"
    }
   ],
   "source": [
    "alignments = correlations.idxmax(axis=1)\n",
    "correlations.max(axis=1).head()"
   ]
  },
  {
   "cell_type": "markdown",
   "metadata": {},
   "source": [
    "The score of the embeddings relative to the linguistic features is the sum of the maximum correlations. Note how this value depends on how many dimensions in the embeddings there are. For 300 dimension vectors trained (by them) from GloVe, the authors get 34.4, while I get 32.4. Note that our linguistic features are still different, so the fact that the discrepancy here is not too big is encouraging."
   ]
  },
  {
   "cell_type": "code",
   "execution_count": 43,
   "metadata": {},
   "outputs": [
    {
     "data": {
      "text/plain": [
       "33.937268703923273"
      ]
     },
     "execution_count": 43,
     "metadata": {},
     "output_type": "execute_result"
    }
   ],
   "source": [
    "qvec = correlations.max(axis=1).sum()\n",
    "qvec"
   ]
  },
  {
   "cell_type": "markdown",
   "metadata": {},
   "source": [
    "We don't really need it, but just to be explicit let's get the matrix $A$ of alignments."
   ]
  },
  {
   "cell_type": "code",
   "execution_count": 44,
   "metadata": {
    "collapsed": true
   },
   "outputs": [],
   "source": [
    "A = pd.DataFrame(0, index=range(len(X)), columns=S.index)\n",
    "for dim, feat in alignments.iteritems():\n",
    "    A[feat][dim] = 1"
   ]
  },
  {
   "cell_type": "code",
   "execution_count": 45,
   "metadata": {},
   "outputs": [
    {
     "data": {
      "text/html": [
       "<div>\n",
       "<style>\n",
       "    .dataframe thead tr:only-child th {\n",
       "        text-align: right;\n",
       "    }\n",
       "\n",
       "    .dataframe thead th {\n",
       "        text-align: left;\n",
       "    }\n",
       "\n",
       "    .dataframe tbody tr th {\n",
       "        vertical-align: top;\n",
       "    }\n",
       "</style>\n",
       "<table border=\"1\" class=\"dataframe\">\n",
       "  <thead>\n",
       "    <tr style=\"text-align: right;\">\n",
       "      <th></th>\n",
       "      <th>noun.Tops</th>\n",
       "      <th>noun.act</th>\n",
       "      <th>noun.animal</th>\n",
       "      <th>noun.artifact</th>\n",
       "      <th>noun.attribute</th>\n",
       "      <th>noun.body</th>\n",
       "      <th>noun.cognition</th>\n",
       "      <th>noun.communication</th>\n",
       "      <th>noun.event</th>\n",
       "      <th>noun.feeling</th>\n",
       "      <th>...</th>\n",
       "      <th>verb.consumption</th>\n",
       "      <th>verb.contact</th>\n",
       "      <th>verb.creation</th>\n",
       "      <th>verb.emotion</th>\n",
       "      <th>verb.motion</th>\n",
       "      <th>verb.perception</th>\n",
       "      <th>verb.possession</th>\n",
       "      <th>verb.social</th>\n",
       "      <th>verb.stative</th>\n",
       "      <th>verb.weather</th>\n",
       "    </tr>\n",
       "  </thead>\n",
       "  <tbody>\n",
       "    <tr>\n",
       "      <th>0</th>\n",
       "      <td>0</td>\n",
       "      <td>0</td>\n",
       "      <td>0</td>\n",
       "      <td>0</td>\n",
       "      <td>0</td>\n",
       "      <td>0</td>\n",
       "      <td>0</td>\n",
       "      <td>0</td>\n",
       "      <td>0</td>\n",
       "      <td>0</td>\n",
       "      <td>...</td>\n",
       "      <td>0</td>\n",
       "      <td>0</td>\n",
       "      <td>0</td>\n",
       "      <td>0</td>\n",
       "      <td>0</td>\n",
       "      <td>0</td>\n",
       "      <td>0</td>\n",
       "      <td>0</td>\n",
       "      <td>0</td>\n",
       "      <td>0</td>\n",
       "    </tr>\n",
       "    <tr>\n",
       "      <th>1</th>\n",
       "      <td>0</td>\n",
       "      <td>1</td>\n",
       "      <td>0</td>\n",
       "      <td>0</td>\n",
       "      <td>0</td>\n",
       "      <td>0</td>\n",
       "      <td>0</td>\n",
       "      <td>0</td>\n",
       "      <td>0</td>\n",
       "      <td>0</td>\n",
       "      <td>...</td>\n",
       "      <td>0</td>\n",
       "      <td>0</td>\n",
       "      <td>0</td>\n",
       "      <td>0</td>\n",
       "      <td>0</td>\n",
       "      <td>0</td>\n",
       "      <td>0</td>\n",
       "      <td>0</td>\n",
       "      <td>0</td>\n",
       "      <td>0</td>\n",
       "    </tr>\n",
       "    <tr>\n",
       "      <th>2</th>\n",
       "      <td>0</td>\n",
       "      <td>0</td>\n",
       "      <td>0</td>\n",
       "      <td>0</td>\n",
       "      <td>0</td>\n",
       "      <td>0</td>\n",
       "      <td>0</td>\n",
       "      <td>0</td>\n",
       "      <td>0</td>\n",
       "      <td>0</td>\n",
       "      <td>...</td>\n",
       "      <td>0</td>\n",
       "      <td>0</td>\n",
       "      <td>0</td>\n",
       "      <td>0</td>\n",
       "      <td>0</td>\n",
       "      <td>0</td>\n",
       "      <td>0</td>\n",
       "      <td>0</td>\n",
       "      <td>0</td>\n",
       "      <td>0</td>\n",
       "    </tr>\n",
       "    <tr>\n",
       "      <th>3</th>\n",
       "      <td>0</td>\n",
       "      <td>1</td>\n",
       "      <td>0</td>\n",
       "      <td>0</td>\n",
       "      <td>0</td>\n",
       "      <td>0</td>\n",
       "      <td>0</td>\n",
       "      <td>0</td>\n",
       "      <td>0</td>\n",
       "      <td>0</td>\n",
       "      <td>...</td>\n",
       "      <td>0</td>\n",
       "      <td>0</td>\n",
       "      <td>0</td>\n",
       "      <td>0</td>\n",
       "      <td>0</td>\n",
       "      <td>0</td>\n",
       "      <td>0</td>\n",
       "      <td>0</td>\n",
       "      <td>0</td>\n",
       "      <td>0</td>\n",
       "    </tr>\n",
       "    <tr>\n",
       "      <th>4</th>\n",
       "      <td>0</td>\n",
       "      <td>0</td>\n",
       "      <td>0</td>\n",
       "      <td>0</td>\n",
       "      <td>0</td>\n",
       "      <td>0</td>\n",
       "      <td>0</td>\n",
       "      <td>0</td>\n",
       "      <td>0</td>\n",
       "      <td>0</td>\n",
       "      <td>...</td>\n",
       "      <td>0</td>\n",
       "      <td>0</td>\n",
       "      <td>0</td>\n",
       "      <td>0</td>\n",
       "      <td>0</td>\n",
       "      <td>0</td>\n",
       "      <td>0</td>\n",
       "      <td>0</td>\n",
       "      <td>0</td>\n",
       "      <td>0</td>\n",
       "    </tr>\n",
       "  </tbody>\n",
       "</table>\n",
       "<p>5 rows × 41 columns</p>\n",
       "</div>"
      ],
      "text/plain": [
       "   noun.Tops  noun.act  noun.animal  noun.artifact  noun.attribute  noun.body  \\\n",
       "0          0         0            0              0               0          0   \n",
       "1          0         1            0              0               0          0   \n",
       "2          0         0            0              0               0          0   \n",
       "3          0         1            0              0               0          0   \n",
       "4          0         0            0              0               0          0   \n",
       "\n",
       "   noun.cognition  noun.communication  noun.event  noun.feeling      ...       \\\n",
       "0               0                   0           0             0      ...        \n",
       "1               0                   0           0             0      ...        \n",
       "2               0                   0           0             0      ...        \n",
       "3               0                   0           0             0      ...        \n",
       "4               0                   0           0             0      ...        \n",
       "\n",
       "   verb.consumption  verb.contact  verb.creation  verb.emotion  verb.motion  \\\n",
       "0                 0             0              0             0            0   \n",
       "1                 0             0              0             0            0   \n",
       "2                 0             0              0             0            0   \n",
       "3                 0             0              0             0            0   \n",
       "4                 0             0              0             0            0   \n",
       "\n",
       "   verb.perception  verb.possession  verb.social  verb.stative  verb.weather  \n",
       "0                0                0            0             0             0  \n",
       "1                0                0            0             0             0  \n",
       "2                0                0            0             0             0  \n",
       "3                0                0            0             0             0  \n",
       "4                0                0            0             0             0  \n",
       "\n",
       "[5 rows x 41 columns]"
      ]
     },
     "execution_count": 45,
     "metadata": {},
     "output_type": "execute_result"
    }
   ],
   "source": [
    "A.head()"
   ]
  },
  {
   "cell_type": "markdown",
   "metadata": {
    "collapsed": true
   },
   "source": [
    "The rest of the paper is a series of experiments training large models and evaluating them on both instrinic and extrinsic tasks, including QVEC. I'm not going to replicate that here, but the QVEC implementation is complete."
   ]
  },
  {
   "cell_type": "markdown",
   "metadata": {},
   "source": [
    "## Exploring QVEC\n",
    "\n",
    "I want to spend some time now looking closer at QVEC's output, namely the correlations and the alignment matrix. The second main point of the original paper is that the alignments allow you to interpret individual dimensions of embeddings."
   ]
  },
  {
   "cell_type": "code",
   "execution_count": 46,
   "metadata": {
    "collapsed": true
   },
   "outputs": [],
   "source": [
    "%matplotlib inline\n",
    "import matplotlib.pyplot as plt\n",
    "import seaborn as sns\n",
    "sns.set()"
   ]
  },
  {
   "cell_type": "markdown",
   "metadata": {},
   "source": [
    "#### On average, how correlated are the dimensions with the linguistic features?\n",
    "\n",
    "This plot suggests \"not really\". In fact it looks very normal. That is, on average there is **no** correlation between the dimensions of a word embedding and linguistic features."
   ]
  },
  {
   "cell_type": "code",
   "execution_count": 47,
   "metadata": {},
   "outputs": [
    {
     "data": {
      "image/png": "[encoded data removed]",
      "text/plain": [
       "<matplotlib.figure.Figure at 0x7f9cf85a6668>"
      ]
     },
     "metadata": {},
     "output_type": "display_data"
    }
   ],
   "source": [
    "sns.distplot(correlations.mean(axis=1));"
   ]
  },
  {
   "cell_type": "markdown",
   "metadata": {},
   "source": [
    "#### What do the maximum correlations look like?\n",
    "\n",
    "These are all positive. But are they different enough from 0? What test can I use here?"
   ]
  },
  {
   "cell_type": "code",
   "execution_count": 48,
   "metadata": {},
   "outputs": [
    {
     "data": {
      "image/png": "[encoded data removed]",
      "text/plain": [
       "<matplotlib.figure.Figure at 0x7f9cf81aeef0>"
      ]
     },
     "metadata": {},
     "output_type": "display_data"
    }
   ],
   "source": [
    "sns.distplot(correlations.max(axis=1));"
   ]
  },
  {
   "cell_type": "code",
   "execution_count": 51,
   "metadata": {},
   "outputs": [
    {
     "data": {
      "image/png": "[encoded data removed]",
      "text/plain": [
       "<matplotlib.figure.Figure at 0x7f9cf9aae438>"
      ]
     },
     "metadata": {},
     "output_type": "display_data"
    }
   ],
   "source": [
    "sns.heatmap(correlations);"
   ]
  },
  {
   "cell_type": "markdown",
   "metadata": {},
   "source": [
    "## Canonical Correlation Analysis\n",
    "\n",
    "In a follow-up 2016 paper, a subset of the original authors introduce QVEC-CCA. It's really just QVEC except instead of summing the highest row-wise correlations, they use canonical correlation analysis. I didn't know what that was, but after reading a bit I have a reasonable grasp of it. I'm going to replicate that 2016 paper, or at least the most important part of it which is the use of CCA. Note that the other new thing in the 2016 paper is the use of syntactic features, in addition to semantic, which I won't do right now.\n",
    "\n",
    "Scikit-learn has an implementation of CCA. It took me a while to figure out what are the learnt parameters that I want, and I'm only 80% confident I have it right."
   ]
  },
  {
   "cell_type": "code",
   "execution_count": 31,
   "metadata": {
    "collapsed": true
   },
   "outputs": [],
   "source": [
    "from sklearn.cross_decomposition import CCA\n",
    "\n",
    "cca = CCA(n_components=1)\n",
    "cca = cca.fit(X.T, S.T)"
   ]
  },
  {
   "cell_type": "markdown",
   "metadata": {},
   "source": [
    "I believe the linear combinations I want are stored in the `x_weights_` and `y_weights_` attributes."
   ]
  },
  {
   "cell_type": "code",
   "execution_count": 32,
   "metadata": {},
   "outputs": [
    {
     "data": {
      "text/plain": [
       "(array([ 0.74860902]), array([ 0.]))"
      ]
     },
     "execution_count": 32,
     "metadata": {},
     "output_type": "execute_result"
    }
   ],
   "source": [
    "a = np.dot(X.T, cca.x_weights_)\n",
    "b = np.dot(S.T, cca.y_weights_)\n",
    "stats.pearsonr(a, b)"
   ]
  },
  {
   "cell_type": "markdown",
   "metadata": {
    "collapsed": true
   },
   "source": [
    "## Todo\n",
    "- Use different linguistic features (semantic, syntactic, etc.)\n",
    "- Use different correlation metric\n",
    "- Explore the correlations, alignments and top k words more\n",
    "- Levin's verb classification"
   ]
  },
  {
   "cell_type": "markdown",
   "metadata": {
    "collapsed": true
   },
   "source": [
    "## Explore correlations, alignments and top k words"
   ]
  },
  {
   "cell_type": "markdown",
   "metadata": {
    "collapsed": true
   },
   "source": [
    "#### Top K words\n",
    "In the paper they give the top K words for a dimension. The code prints, for each dimension, the dimension number, the aligned linguistic feature, the correlation between the two previous things, and the top k words associated with the dimension. I understand the last bit to mean \"the k words with the highest value in the dimension\"."
   ]
  },
  {
   "cell_type": "code",
   "execution_count": 53,
   "metadata": {},
   "outputs": [],
   "source": [
    "k = 50\n",
    "top_k = pd.DataFrame(alignments, columns=['feature'])\n",
    "top_k['correlation'] = correlations.max(axis=1)\n",
    "tmp = pd.DataFrame([embeddings.loc[i].nlargest(n=k).index for i in top_k.index])\n",
    "top_k = pd.merge(top_k, tmp, left_index=True, right_index=True)"
   ]
  },
  {
   "cell_type": "code",
   "execution_count": 74,
   "metadata": {},
   "outputs": [
    {
     "data": {
      "text/html": [
       "<div>\n",
       "<style>\n",
       "    .dataframe thead tr:only-child th {\n",
       "        text-align: right;\n",
       "    }\n",
       "\n",
       "    .dataframe thead th {\n",
       "        text-align: left;\n",
       "    }\n",
       "\n",
       "    .dataframe tbody tr th {\n",
       "        vertical-align: top;\n",
       "    }\n",
       "</style>\n",
       "<table border=\"1\" class=\"dataframe\">\n",
       "  <thead>\n",
       "    <tr style=\"text-align: right;\">\n",
       "      <th></th>\n",
       "      <th>feature</th>\n",
       "      <th>correlation</th>\n",
       "      <th>0</th>\n",
       "      <th>1</th>\n",
       "      <th>2</th>\n",
       "      <th>3</th>\n",
       "      <th>4</th>\n",
       "      <th>5</th>\n",
       "      <th>6</th>\n",
       "      <th>7</th>\n",
       "      <th>...</th>\n",
       "      <th>40</th>\n",
       "      <th>41</th>\n",
       "      <th>42</th>\n",
       "      <th>43</th>\n",
       "      <th>44</th>\n",
       "      <th>45</th>\n",
       "      <th>46</th>\n",
       "      <th>47</th>\n",
       "      <th>48</th>\n",
       "      <th>49</th>\n",
       "    </tr>\n",
       "  </thead>\n",
       "  <tbody>\n",
       "    <tr>\n",
       "      <th>1</th>\n",
       "      <td>noun.act</td>\n",
       "      <td>0.103305</td>\n",
       "      <td>marksman</td>\n",
       "      <td>football</td>\n",
       "      <td>goal</td>\n",
       "      <td>chromatography</td>\n",
       "      <td>bowl</td>\n",
       "      <td>feedlot</td>\n",
       "      <td>additive</td>\n",
       "      <td>mg</td>\n",
       "      <td>...</td>\n",
       "      <td>liter</td>\n",
       "      <td>coach</td>\n",
       "      <td>rifle</td>\n",
       "      <td>kick</td>\n",
       "      <td>range</td>\n",
       "      <td>species</td>\n",
       "      <td>equilibrium</td>\n",
       "      <td>defense</td>\n",
       "      <td>qualification</td>\n",
       "      <td>unit</td>\n",
       "    </tr>\n",
       "    <tr>\n",
       "      <th>2</th>\n",
       "      <td>noun.food</td>\n",
       "      <td>0.079669</td>\n",
       "      <td>binomial</td>\n",
       "      <td>cancer</td>\n",
       "      <td>retirement</td>\n",
       "      <td>resentment</td>\n",
       "      <td>breast</td>\n",
       "      <td>anger</td>\n",
       "      <td>vector</td>\n",
       "      <td>escalation</td>\n",
       "      <td>...</td>\n",
       "      <td>apprentice</td>\n",
       "      <td>hazard</td>\n",
       "      <td>redcoat</td>\n",
       "      <td>chaos</td>\n",
       "      <td>divan</td>\n",
       "      <td>sky</td>\n",
       "      <td>commander</td>\n",
       "      <td>transit</td>\n",
       "      <td>rebel</td>\n",
       "      <td>ray</td>\n",
       "    </tr>\n",
       "    <tr>\n",
       "      <th>3</th>\n",
       "      <td>noun.act</td>\n",
       "      <td>0.132868</td>\n",
       "      <td>hr</td>\n",
       "      <td>creep</td>\n",
       "      <td>sneak</td>\n",
       "      <td>average</td>\n",
       "      <td>deduction</td>\n",
       "      <td>pound</td>\n",
       "      <td>expire</td>\n",
       "      <td>procreation</td>\n",
       "      <td>...</td>\n",
       "      <td>hop</td>\n",
       "      <td>regulate</td>\n",
       "      <td>tax</td>\n",
       "      <td>errand</td>\n",
       "      <td>nickel</td>\n",
       "      <td>fee</td>\n",
       "      <td>pill</td>\n",
       "      <td>estimate</td>\n",
       "      <td>psychologist</td>\n",
       "      <td>record</td>\n",
       "    </tr>\n",
       "    <tr>\n",
       "      <th>4</th>\n",
       "      <td>noun.time</td>\n",
       "      <td>0.118316</td>\n",
       "      <td>checkbook</td>\n",
       "      <td>diet</td>\n",
       "      <td>witch</td>\n",
       "      <td>contraceptive</td>\n",
       "      <td>stimulate</td>\n",
       "      <td>excite</td>\n",
       "      <td>imagination</td>\n",
       "      <td>flask</td>\n",
       "      <td>...</td>\n",
       "      <td>budget</td>\n",
       "      <td>impulse</td>\n",
       "      <td>calcium</td>\n",
       "      <td>robber</td>\n",
       "      <td>concentrate</td>\n",
       "      <td>resource</td>\n",
       "      <td>contact</td>\n",
       "      <td>inspire</td>\n",
       "      <td>donor</td>\n",
       "      <td>advice</td>\n",
       "    </tr>\n",
       "    <tr>\n",
       "      <th>5</th>\n",
       "      <td>noun.person</td>\n",
       "      <td>0.073610</td>\n",
       "      <td>mm</td>\n",
       "      <td>draft</td>\n",
       "      <td>summary</td>\n",
       "      <td>ages</td>\n",
       "      <td>size</td>\n",
       "      <td>brood</td>\n",
       "      <td>pool</td>\n",
       "      <td>africa</td>\n",
       "      <td>...</td>\n",
       "      <td>span</td>\n",
       "      <td>edition</td>\n",
       "      <td>america</td>\n",
       "      <td>effectiveness</td>\n",
       "      <td>probability</td>\n",
       "      <td>baseball</td>\n",
       "      <td>age</td>\n",
       "      <td>catcher</td>\n",
       "      <td>perish</td>\n",
       "      <td>europe</td>\n",
       "    </tr>\n",
       "  </tbody>\n",
       "</table>\n",
       "<p>5 rows × 52 columns</p>\n",
       "</div>"
      ],
      "text/plain": [
       "       feature  correlation          0         1           2               3  \\\n",
       "1     noun.act     0.103305   marksman  football        goal  chromatography   \n",
       "2    noun.food     0.079669   binomial    cancer  retirement      resentment   \n",
       "3     noun.act     0.132868         hr     creep       sneak         average   \n",
       "4    noun.time     0.118316  checkbook      diet       witch   contraceptive   \n",
       "5  noun.person     0.073610         mm     draft     summary            ages   \n",
       "\n",
       "           4        5            6            7   ...            40        41  \\\n",
       "1       bowl  feedlot     additive           mg   ...         liter     coach   \n",
       "2     breast    anger       vector   escalation   ...    apprentice    hazard   \n",
       "3  deduction    pound       expire  procreation   ...           hop  regulate   \n",
       "4  stimulate   excite  imagination        flask   ...        budget   impulse   \n",
       "5       size    brood         pool       africa   ...          span   edition   \n",
       "\n",
       "        42             43           44        45           46        47  \\\n",
       "1    rifle           kick        range   species  equilibrium   defense   \n",
       "2  redcoat          chaos        divan       sky    commander   transit   \n",
       "3      tax         errand       nickel       fee         pill  estimate   \n",
       "4  calcium         robber  concentrate  resource      contact   inspire   \n",
       "5  america  effectiveness  probability  baseball          age   catcher   \n",
       "\n",
       "              48      49  \n",
       "1  qualification    unit  \n",
       "2          rebel     ray  \n",
       "3   psychologist  record  \n",
       "4          donor  advice  \n",
       "5         perish  europe  \n",
       "\n",
       "[5 rows x 52 columns]"
      ]
     },
     "execution_count": 74,
     "metadata": {},
     "output_type": "execute_result"
    }
   ],
   "source": [
    "top_k.head()"
   ]
  },
  {
   "cell_type": "markdown",
   "metadata": {},
   "source": [
    "Most of these top words seem like junk. However, it'd be good to tease this apart a bit more. Here are some questions I'd like to ask:\n",
    "- Are the top k words even of the right POS?\n",
    "- Which features are missing (i.e. not the most correlated with any dimension)?\n",
    "- How can I objectively measure whether the top k words are \"correct\"?"
   ]
  },
  {
   "cell_type": "code",
   "execution_count": 56,
   "metadata": {},
   "outputs": [],
   "source": [
    "def get_dims(feature, df=top_k):\n",
    "    \"\"\"Return the dimensions aligned with `feature` in `df`.\"\"\"\n",
    "    return df[df['feature']==feature]"
   ]
  },
  {
   "cell_type": "code",
   "execution_count": 73,
   "metadata": {},
   "outputs": [
    {
     "data": {
      "text/html": [
       "<div>\n",
       "<style>\n",
       "    .dataframe thead tr:only-child th {\n",
       "        text-align: right;\n",
       "    }\n",
       "\n",
       "    .dataframe thead th {\n",
       "        text-align: left;\n",
       "    }\n",
       "\n",
       "    .dataframe tbody tr th {\n",
       "        vertical-align: top;\n",
       "    }\n",
       "</style>\n",
       "<table border=\"1\" class=\"dataframe\">\n",
       "  <thead>\n",
       "    <tr style=\"text-align: right;\">\n",
       "      <th></th>\n",
       "      <th>feature</th>\n",
       "      <th>correlation</th>\n",
       "      <th>0</th>\n",
       "      <th>1</th>\n",
       "      <th>2</th>\n",
       "      <th>3</th>\n",
       "      <th>4</th>\n",
       "      <th>5</th>\n",
       "      <th>6</th>\n",
       "      <th>7</th>\n",
       "      <th>...</th>\n",
       "      <th>40</th>\n",
       "      <th>41</th>\n",
       "      <th>42</th>\n",
       "      <th>43</th>\n",
       "      <th>44</th>\n",
       "      <th>45</th>\n",
       "      <th>46</th>\n",
       "      <th>47</th>\n",
       "      <th>48</th>\n",
       "      <th>49</th>\n",
       "    </tr>\n",
       "  </thead>\n",
       "  <tbody>\n",
       "    <tr>\n",
       "      <th>72</th>\n",
       "      <td>noun.animal</td>\n",
       "      <td>0.128498</td>\n",
       "      <td>pleura</td>\n",
       "      <td>deduct</td>\n",
       "      <td>cruise</td>\n",
       "      <td>vertex</td>\n",
       "      <td>diaphragm</td>\n",
       "      <td>mucosa</td>\n",
       "      <td>opening</td>\n",
       "      <td>rib</td>\n",
       "      <td>...</td>\n",
       "      <td>shakespeare</td>\n",
       "      <td>deduction</td>\n",
       "      <td>allowance</td>\n",
       "      <td>differentiation</td>\n",
       "      <td>broaden</td>\n",
       "      <td>uptake</td>\n",
       "      <td>l</td>\n",
       "      <td>repair</td>\n",
       "      <td>ultraviolet</td>\n",
       "      <td>protein</td>\n",
       "    </tr>\n",
       "    <tr>\n",
       "      <th>101</th>\n",
       "      <td>noun.animal</td>\n",
       "      <td>0.091112</td>\n",
       "      <td>vest</td>\n",
       "      <td>belt</td>\n",
       "      <td>slipper</td>\n",
       "      <td>cap</td>\n",
       "      <td>mm</td>\n",
       "      <td>column</td>\n",
       "      <td>tetrachloride</td>\n",
       "      <td>farming</td>\n",
       "      <td>...</td>\n",
       "      <td>stravinsky</td>\n",
       "      <td>whisky</td>\n",
       "      <td>birdie</td>\n",
       "      <td>truck</td>\n",
       "      <td>buckle</td>\n",
       "      <td>bubble</td>\n",
       "      <td>particle</td>\n",
       "      <td>salvation</td>\n",
       "      <td>plato</td>\n",
       "      <td>sweep</td>\n",
       "    </tr>\n",
       "    <tr>\n",
       "      <th>128</th>\n",
       "      <td>noun.animal</td>\n",
       "      <td>0.086233</td>\n",
       "      <td>member</td>\n",
       "      <td>sergeant</td>\n",
       "      <td>tolerate</td>\n",
       "      <td>positivist</td>\n",
       "      <td>merchant</td>\n",
       "      <td>hover</td>\n",
       "      <td>navy</td>\n",
       "      <td>crew</td>\n",
       "      <td>...</td>\n",
       "      <td>columbia</td>\n",
       "      <td>accuse</td>\n",
       "      <td>sheriff</td>\n",
       "      <td>bomber</td>\n",
       "      <td>physician</td>\n",
       "      <td>antagonism</td>\n",
       "      <td>weaken</td>\n",
       "      <td>native</td>\n",
       "      <td>slip</td>\n",
       "      <td>cent</td>\n",
       "    </tr>\n",
       "    <tr>\n",
       "      <th>134</th>\n",
       "      <td>noun.animal</td>\n",
       "      <td>0.101755</td>\n",
       "      <td>secede</td>\n",
       "      <td>stack</td>\n",
       "      <td>marshal</td>\n",
       "      <td>traverse</td>\n",
       "      <td>chimney</td>\n",
       "      <td>deck</td>\n",
       "      <td>log</td>\n",
       "      <td>blaze</td>\n",
       "      <td>...</td>\n",
       "      <td>amend</td>\n",
       "      <td>diet</td>\n",
       "      <td>code</td>\n",
       "      <td>catcher</td>\n",
       "      <td>cloud</td>\n",
       "      <td>carrier</td>\n",
       "      <td>battery</td>\n",
       "      <td>island</td>\n",
       "      <td>herd</td>\n",
       "      <td>oxygen</td>\n",
       "    </tr>\n",
       "    <tr>\n",
       "      <th>147</th>\n",
       "      <td>noun.animal</td>\n",
       "      <td>0.079551</td>\n",
       "      <td>bang</td>\n",
       "      <td>diagram</td>\n",
       "      <td>survey</td>\n",
       "      <td>pan</td>\n",
       "      <td>venus</td>\n",
       "      <td>rig</td>\n",
       "      <td>exploration</td>\n",
       "      <td>voyage</td>\n",
       "      <td>...</td>\n",
       "      <td>boil</td>\n",
       "      <td>examination</td>\n",
       "      <td>chromatography</td>\n",
       "      <td>see</td>\n",
       "      <td>photograph</td>\n",
       "      <td>railroad</td>\n",
       "      <td>epoch</td>\n",
       "      <td>scene</td>\n",
       "      <td>sewer</td>\n",
       "      <td>smoke</td>\n",
       "    </tr>\n",
       "    <tr>\n",
       "      <th>230</th>\n",
       "      <td>noun.animal</td>\n",
       "      <td>0.090885</td>\n",
       "      <td>twitch</td>\n",
       "      <td>wet</td>\n",
       "      <td>certify</td>\n",
       "      <td>knot</td>\n",
       "      <td>dipole</td>\n",
       "      <td>procurement</td>\n",
       "      <td>chain</td>\n",
       "      <td>towel</td>\n",
       "      <td>...</td>\n",
       "      <td>neutralist</td>\n",
       "      <td>neck</td>\n",
       "      <td>drugstore</td>\n",
       "      <td>disturbance</td>\n",
       "      <td>holster</td>\n",
       "      <td>tissue</td>\n",
       "      <td>veil</td>\n",
       "      <td>jab</td>\n",
       "      <td>fabric</td>\n",
       "      <td>rot</td>\n",
       "    </tr>\n",
       "  </tbody>\n",
       "</table>\n",
       "<p>6 rows × 52 columns</p>\n",
       "</div>"
      ],
      "text/plain": [
       "         feature  correlation       0         1         2           3  \\\n",
       "72   noun.animal     0.128498  pleura    deduct    cruise      vertex   \n",
       "101  noun.animal     0.091112    vest      belt   slipper         cap   \n",
       "128  noun.animal     0.086233  member  sergeant  tolerate  positivist   \n",
       "134  noun.animal     0.101755  secede     stack   marshal    traverse   \n",
       "147  noun.animal     0.079551    bang   diagram    survey         pan   \n",
       "230  noun.animal     0.090885  twitch       wet   certify        knot   \n",
       "\n",
       "             4            5              6        7   ...              40  \\\n",
       "72   diaphragm       mucosa        opening      rib   ...     shakespeare   \n",
       "101         mm       column  tetrachloride  farming   ...      stravinsky   \n",
       "128   merchant        hover           navy     crew   ...        columbia   \n",
       "134    chimney         deck            log    blaze   ...           amend   \n",
       "147      venus          rig    exploration   voyage   ...            boil   \n",
       "230     dipole  procurement          chain    towel   ...      neutralist   \n",
       "\n",
       "              41              42               43          44          45  \\\n",
       "72     deduction       allowance  differentiation     broaden      uptake   \n",
       "101       whisky          birdie            truck      buckle      bubble   \n",
       "128       accuse         sheriff           bomber   physician  antagonism   \n",
       "134         diet            code          catcher       cloud     carrier   \n",
       "147  examination  chromatography              see  photograph    railroad   \n",
       "230         neck       drugstore      disturbance     holster      tissue   \n",
       "\n",
       "           46         47           48       49  \n",
       "72          l     repair  ultraviolet  protein  \n",
       "101  particle  salvation        plato    sweep  \n",
       "128    weaken     native         slip     cent  \n",
       "134   battery     island         herd   oxygen  \n",
       "147     epoch      scene        sewer    smoke  \n",
       "230      veil        jab       fabric      rot  \n",
       "\n",
       "[6 rows x 52 columns]"
      ]
     },
     "execution_count": 73,
     "metadata": {},
     "output_type": "execute_result"
    }
   ],
   "source": [
    "get_dims('noun.animal')"
   ]
  },
  {
   "cell_type": "markdown",
   "metadata": {},
   "source": [
    "#### Which features are not the most correlated with any dimension?"
   ]
  },
  {
   "cell_type": "code",
   "execution_count": 75,
   "metadata": {},
   "outputs": [
    {
     "data": {
      "text/plain": [
       "Index(['noun.Tops', 'noun.event', 'noun.motive', 'noun.relation',\n",
       "       'verb.competition', 'verb.consumption', 'verb.perception',\n",
       "       'verb.weather'],\n",
       "      dtype='object')"
      ]
     },
     "execution_count": 75,
     "metadata": {},
     "output_type": "execute_result"
    }
   ],
   "source": [
    "subset.index.difference(top_k['feature'])"
   ]
  },
  {
   "cell_type": "markdown",
   "metadata": {},
   "source": [
    "#### FrameNet\n",
    "\n",
    "- What is the appropriate way to use FrameNet resources as features?"
   ]
  },
  {
   "cell_type": "code",
   "execution_count": 79,
   "metadata": {},
   "outputs": [],
   "source": [
    "from nltk.corpus import framenet as fn"
   ]
  },
  {
   "cell_type": "code",
   "execution_count": 113,
   "metadata": {},
   "outputs": [
    {
     "data": {
      "text/plain": [
       "lexical unit (4886): happen.v\n",
       "\n",
       "[definition]\n",
       "  COD: take place, occur.\n",
       "\n",
       "[frame] Event(187)\n",
       "\n",
       "[POS] V\n",
       "\n",
       "[status] Finished_Initial\n",
       "\n",
       "[lexemes] happen/V\n",
       "\n",
       "[semTypes] 0 semantic types\n",
       "\n",
       "[URL] https://framenet2.icsi.berkeley.edu/fnReports/data/lu/lu4886.xml\n",
       "\n",
       "[subCorpus] 13 subcorpora\n",
       "  V-429-s20-lcoll-accident, V-429-s20-lcoll-what,\n",
       "  V-429-s20-rcoll-if, V-680-s20-pass, V-730-s20-ppafter,\n",
       "  V-730-s20-ppbefore, V-730-s20-ppin, V-780-s20-ppother,\n",
       "  V-810-s20-pother, V-880-s20-intrans-simple,\n",
       "  V-890-s20-intrans-adverb, V-900-s20-other, manually-added\n",
       "\n",
       "[exemplars] 36 sentences across all subcorpora\n"
      ]
     },
     "execution_count": 113,
     "metadata": {},
     "output_type": "execute_result"
    }
   ],
   "source": [
    "fn.lus('happen.v')[1]"
   ]
  },
  {
   "cell_type": "code",
   "execution_count": 106,
   "metadata": {},
   "outputs": [
    {
     "data": {
      "text/plain": [
       "[Tree('DT', ['The']),\n",
       " Tree(Lemma('group.n.01.group'), [Tree('NE', [Tree('NNP', ['Fulton', 'County', 'Grand', 'Jury'])])]),\n",
       " Tree(Lemma('state.v.01.say'), [Tree('VB', ['said'])]),\n",
       " Tree(Lemma('friday.n.01.Friday'), [Tree('NN', ['Friday'])]),\n",
       " Tree('DT', ['an']),\n",
       " Tree(Lemma('probe.n.01.investigation'), [Tree('NN', ['investigation'])]),\n",
       " Tree('IN', ['of']),\n",
       " Tree(Lemma('atlanta.n.01.Atlanta'), [Tree('NN', ['Atlanta'])]),\n",
       " Tree('POS', [\"'s\"]),\n",
       " Tree(Lemma('late.s.03.recent'), [Tree('JJ', ['recent'])]),\n",
       " Tree(Lemma('primary.n.01.primary_election'), [Tree('NN', ['primary', 'election'])]),\n",
       " Tree(Lemma('produce.v.04.produce'), [Tree('VB', ['produced'])]),\n",
       " Tree(None, ['``']),\n",
       " Tree('DT', ['no']),\n",
       " Tree(Lemma('evidence.n.01.evidence'), [Tree('NN', ['evidence'])]),\n",
       " Tree(None, [\"''\"]),\n",
       " Tree('IN', ['that']),\n",
       " Tree('DT', ['any']),\n",
       " Tree(Lemma('abnormality.n.04.irregularity'), [Tree('NN', ['irregularities'])]),\n",
       " Tree(Lemma('happen.v.01.take_place'), [Tree('VB', ['took', 'place'])])]"
      ]
     },
     "execution_count": 106,
     "metadata": {},
     "output_type": "execute_result"
    }
   ],
   "source": [
    "tagged_chunks[:20]"
   ]
  },
  {
   "cell_type": "code",
   "execution_count": null,
   "metadata": {
    "collapsed": true
   },
   "outputs": [],
   "source": []
  }
 ],
 "metadata": {
  "kernelspec": {
   "display_name": "Python 3",
   "language": "python",
   "name": "python3"
  },
  "language_info": {
   "codemirror_mode": {
    "name": "ipython",
    "version": 3
   },
   "file_extension": ".py",
   "mimetype": "text/x-python",
   "name": "python",
   "nbconvert_exporter": "python",
   "pygments_lexer": "ipython3",
   "version": "3.6.1"
  }
 },
 "nbformat": 4,
 "nbformat_minor": 2
}
