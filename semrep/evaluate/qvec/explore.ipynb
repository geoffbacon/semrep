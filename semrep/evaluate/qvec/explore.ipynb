{
 "cells": [
  {
   "cell_type": "markdown",
   "metadata": {},
   "source": [
    "# Exploring QVEC\n",
    "\n",
    "I want to spend some time now looking closer at QVEC's output, namely the correlations and the alignment matrix. The second main point of the original paper is that the alignments allow you to interpret individual dimensions of embeddings."
   ]
  },
  {
   "cell_type": "code",
   "execution_count": 3,
   "metadata": {
    "collapsed": true
   },
   "outputs": [],
   "source": [
    "%matplotlib inline\n",
    "import os\n",
    "import csv\n",
    "import pandas as pd\n",
    "import numpy as np\n",
    "from scipy import stats\n",
    "import matplotlib.pyplot as plt\n",
    "import seaborn as sns\n",
    "sns.set()\n",
    "\n",
    "data_path = '../../data'\n",
    "tmp_path = '../../tmp'"
   ]
  },
  {
   "cell_type": "markdown",
   "metadata": {},
   "source": [
    "### Linguistic features"
   ]
  },
  {
   "cell_type": "code",
   "execution_count": 37,
   "metadata": {
    "collapsed": true
   },
   "outputs": [],
   "source": [
    "feature_path = os.path.join(data_path, 'evaluation/semcor/tsvetkov_semcor.csv')\n",
    "subset = pd.read_csv(feature_path, index_col=0)\n",
    "subset.columns = [c.replace('semcor.', '') for c in subset.columns]\n",
    "subset.set_index('words', inplace=True)\n",
    "subset = subset.T"
   ]
  },
  {
   "cell_type": "markdown",
   "metadata": {},
   "source": [
    "### Learnt embeddings"
   ]
  },
  {
   "cell_type": "code",
   "execution_count": 38,
   "metadata": {
    "collapsed": true
   },
   "outputs": [],
   "source": [
    "size = 300\n",
    "fname = 'embeddings/glove.6B.{}d.txt'.format(size)\n",
    "embedding_path = os.path.join(data_path, fname)\n",
    "embeddings = pd.read_csv(embedding_path, sep=' ', header=None, index_col=0, quoting=csv.QUOTE_NONE).T"
   ]
  },
  {
   "cell_type": "markdown",
   "metadata": {},
   "source": [
    "### QVEC model"
   ]
  },
  {
   "cell_type": "code",
   "execution_count": 53,
   "metadata": {
    "collapsed": true
   },
   "outputs": [],
   "source": [
    "def qvec(features, embeddings):\n",
    "    \"\"\"\n",
    "    Returns correlations between columns of `features` and `embeddings`.\n",
    "    \n",
    "    The aligned feature is the one with the highest correlation.\n",
    "    The qvec score is the sum of correlations of aligned features.\n",
    "    \"\"\"\n",
    "    common_words = embeddings.columns.intersection(features.columns)\n",
    "    S = features[common_words]\n",
    "    X = embeddings[common_words]\n",
    "    correlations = pd.DataFrame({i:X.corrwith(S.iloc[i], axis=1) for i in range(len(S))})\n",
    "    correlations.columns = S.index\n",
    "    return correlations"
   ]
  },
  {
   "cell_type": "code",
   "execution_count": 40,
   "metadata": {},
   "outputs": [],
   "source": [
    "correlations = qvec(subset, embeddings)\n",
    "V = len(embeddings.columns.intersection(subset.columns))"
   ]
  },
  {
   "cell_type": "code",
   "execution_count": 22,
   "metadata": {},
   "outputs": [
    {
     "data": {
      "text/html": [
       "<div>\n",
       "<style>\n",
       "    .dataframe thead tr:only-child th {\n",
       "        text-align: right;\n",
       "    }\n",
       "\n",
       "    .dataframe thead th {\n",
       "        text-align: left;\n",
       "    }\n",
       "\n",
       "    .dataframe tbody tr th {\n",
       "        vertical-align: top;\n",
       "    }\n",
       "</style>\n",
       "<table border=\"1\" class=\"dataframe\">\n",
       "  <thead>\n",
       "    <tr style=\"text-align: right;\">\n",
       "      <th></th>\n",
       "      <th>noun.Tops</th>\n",
       "      <th>noun.act</th>\n",
       "      <th>noun.animal</th>\n",
       "      <th>noun.artifact</th>\n",
       "      <th>noun.attribute</th>\n",
       "      <th>noun.body</th>\n",
       "      <th>noun.cognition</th>\n",
       "      <th>noun.communication</th>\n",
       "      <th>noun.event</th>\n",
       "      <th>noun.feeling</th>\n",
       "      <th>...</th>\n",
       "      <th>verb.consumption</th>\n",
       "      <th>verb.contact</th>\n",
       "      <th>verb.creation</th>\n",
       "      <th>verb.emotion</th>\n",
       "      <th>verb.motion</th>\n",
       "      <th>verb.perception</th>\n",
       "      <th>verb.possession</th>\n",
       "      <th>verb.social</th>\n",
       "      <th>verb.stative</th>\n",
       "      <th>verb.weather</th>\n",
       "    </tr>\n",
       "  </thead>\n",
       "  <tbody>\n",
       "    <tr>\n",
       "      <th>1</th>\n",
       "      <td>-0.025195</td>\n",
       "      <td>0.103305</td>\n",
       "      <td>0.022804</td>\n",
       "      <td>0.019960</td>\n",
       "      <td>-0.005073</td>\n",
       "      <td>-0.063040</td>\n",
       "      <td>0.001746</td>\n",
       "      <td>-0.044627</td>\n",
       "      <td>0.060426</td>\n",
       "      <td>-0.000629</td>\n",
       "      <td>...</td>\n",
       "      <td>-0.000923</td>\n",
       "      <td>0.032615</td>\n",
       "      <td>-0.059228</td>\n",
       "      <td>0.002191</td>\n",
       "      <td>0.043395</td>\n",
       "      <td>0.016654</td>\n",
       "      <td>-0.000253</td>\n",
       "      <td>0.015861</td>\n",
       "      <td>-0.058195</td>\n",
       "      <td>0.027505</td>\n",
       "    </tr>\n",
       "    <tr>\n",
       "      <th>2</th>\n",
       "      <td>0.025052</td>\n",
       "      <td>0.003521</td>\n",
       "      <td>0.071996</td>\n",
       "      <td>0.033976</td>\n",
       "      <td>0.046986</td>\n",
       "      <td>0.000275</td>\n",
       "      <td>-0.025890</td>\n",
       "      <td>-0.093323</td>\n",
       "      <td>0.013002</td>\n",
       "      <td>-0.026363</td>\n",
       "      <td>...</td>\n",
       "      <td>0.041451</td>\n",
       "      <td>0.004752</td>\n",
       "      <td>0.008058</td>\n",
       "      <td>-0.024316</td>\n",
       "      <td>-0.043428</td>\n",
       "      <td>0.021968</td>\n",
       "      <td>-0.003188</td>\n",
       "      <td>0.024070</td>\n",
       "      <td>0.064498</td>\n",
       "      <td>-0.034473</td>\n",
       "    </tr>\n",
       "    <tr>\n",
       "      <th>3</th>\n",
       "      <td>0.000335</td>\n",
       "      <td>0.132868</td>\n",
       "      <td>-0.020388</td>\n",
       "      <td>-0.043322</td>\n",
       "      <td>0.026484</td>\n",
       "      <td>-0.031252</td>\n",
       "      <td>0.051305</td>\n",
       "      <td>0.025105</td>\n",
       "      <td>0.069223</td>\n",
       "      <td>0.112211</td>\n",
       "      <td>...</td>\n",
       "      <td>-0.009357</td>\n",
       "      <td>-0.078781</td>\n",
       "      <td>-0.096304</td>\n",
       "      <td>-0.000102</td>\n",
       "      <td>-0.010545</td>\n",
       "      <td>-0.015110</td>\n",
       "      <td>-0.082116</td>\n",
       "      <td>-0.047947</td>\n",
       "      <td>-0.098220</td>\n",
       "      <td>0.008797</td>\n",
       "    </tr>\n",
       "    <tr>\n",
       "      <th>4</th>\n",
       "      <td>0.003880</td>\n",
       "      <td>0.020326</td>\n",
       "      <td>0.023546</td>\n",
       "      <td>-0.164084</td>\n",
       "      <td>-0.013492</td>\n",
       "      <td>-0.079157</td>\n",
       "      <td>0.008527</td>\n",
       "      <td>0.045884</td>\n",
       "      <td>-0.002118</td>\n",
       "      <td>-0.003778</td>\n",
       "      <td>...</td>\n",
       "      <td>0.031046</td>\n",
       "      <td>-0.015342</td>\n",
       "      <td>-0.029799</td>\n",
       "      <td>0.009851</td>\n",
       "      <td>0.045801</td>\n",
       "      <td>-0.023565</td>\n",
       "      <td>0.036102</td>\n",
       "      <td>0.003050</td>\n",
       "      <td>0.059049</td>\n",
       "      <td>-0.009769</td>\n",
       "    </tr>\n",
       "    <tr>\n",
       "      <th>5</th>\n",
       "      <td>0.011347</td>\n",
       "      <td>0.032593</td>\n",
       "      <td>0.008034</td>\n",
       "      <td>-0.031921</td>\n",
       "      <td>-0.015440</td>\n",
       "      <td>0.030811</td>\n",
       "      <td>0.026431</td>\n",
       "      <td>-0.020380</td>\n",
       "      <td>-0.054214</td>\n",
       "      <td>0.032733</td>\n",
       "      <td>...</td>\n",
       "      <td>-0.006414</td>\n",
       "      <td>-0.024326</td>\n",
       "      <td>-0.012067</td>\n",
       "      <td>0.045959</td>\n",
       "      <td>-0.026189</td>\n",
       "      <td>-0.051913</td>\n",
       "      <td>0.013840</td>\n",
       "      <td>-0.012455</td>\n",
       "      <td>0.000732</td>\n",
       "      <td>-0.006095</td>\n",
       "    </tr>\n",
       "  </tbody>\n",
       "</table>\n",
       "<p>5 rows × 41 columns</p>\n",
       "</div>"
      ],
      "text/plain": [
       "   noun.Tops  noun.act  noun.animal  noun.artifact  noun.attribute  noun.body  \\\n",
       "1  -0.025195  0.103305     0.022804       0.019960       -0.005073  -0.063040   \n",
       "2   0.025052  0.003521     0.071996       0.033976        0.046986   0.000275   \n",
       "3   0.000335  0.132868    -0.020388      -0.043322        0.026484  -0.031252   \n",
       "4   0.003880  0.020326     0.023546      -0.164084       -0.013492  -0.079157   \n",
       "5   0.011347  0.032593     0.008034      -0.031921       -0.015440   0.030811   \n",
       "\n",
       "   noun.cognition  noun.communication  noun.event  noun.feeling      ...       \\\n",
       "1        0.001746           -0.044627    0.060426     -0.000629      ...        \n",
       "2       -0.025890           -0.093323    0.013002     -0.026363      ...        \n",
       "3        0.051305            0.025105    0.069223      0.112211      ...        \n",
       "4        0.008527            0.045884   -0.002118     -0.003778      ...        \n",
       "5        0.026431           -0.020380   -0.054214      0.032733      ...        \n",
       "\n",
       "   verb.consumption  verb.contact  verb.creation  verb.emotion  verb.motion  \\\n",
       "1         -0.000923      0.032615      -0.059228      0.002191     0.043395   \n",
       "2          0.041451      0.004752       0.008058     -0.024316    -0.043428   \n",
       "3         -0.009357     -0.078781      -0.096304     -0.000102    -0.010545   \n",
       "4          0.031046     -0.015342      -0.029799      0.009851     0.045801   \n",
       "5         -0.006414     -0.024326      -0.012067      0.045959    -0.026189   \n",
       "\n",
       "   verb.perception  verb.possession  verb.social  verb.stative  verb.weather  \n",
       "1         0.016654        -0.000253     0.015861     -0.058195      0.027505  \n",
       "2         0.021968        -0.003188     0.024070      0.064498     -0.034473  \n",
       "3        -0.015110        -0.082116    -0.047947     -0.098220      0.008797  \n",
       "4        -0.023565         0.036102     0.003050      0.059049     -0.009769  \n",
       "5        -0.051913         0.013840    -0.012455      0.000732     -0.006095  \n",
       "\n",
       "[5 rows x 41 columns]"
      ]
     },
     "execution_count": 22,
     "metadata": {},
     "output_type": "execute_result"
    }
   ],
   "source": [
    "correlations.head()"
   ]
  },
  {
   "cell_type": "markdown",
   "metadata": {},
   "source": [
    "#### On average, how correlated are the dimensions with the linguistic features?\n",
    "\n",
    "This plot suggests \"not really\". In fact it looks very normal. That is, on average there is **no** correlation between the dimensions of a word embedding and linguistic features.\n",
    "\n",
    "This plot isn't that interesting. It's telling me the average of 40 numbers is normally distributed, which comes from CLT."
   ]
  },
  {
   "cell_type": "code",
   "execution_count": 41,
   "metadata": {},
   "outputs": [
    {
     "data": {
      "image/png": "[encoded data removed]",
      "text/plain": [
       "<matplotlib.figure.Figure at 0x7f1824484ba8>"
      ]
     },
     "metadata": {},
     "output_type": "display_data"
    }
   ],
   "source": [
    "sns.distplot(correlations.mean(axis=1));"
   ]
  },
  {
   "cell_type": "markdown",
   "metadata": {},
   "source": [
    "#### How correlated are the features and learnt dimensions?\n",
    "\n",
    "This is a more meaningful plot. It says that the correlations are normally distributed around 0."
   ]
  },
  {
   "cell_type": "code",
   "execution_count": 42,
   "metadata": {},
   "outputs": [
    {
     "data": {
      "image/png": "[encoded data removed]",
      "text/plain": [
       "<matplotlib.figure.Figure at 0x7f1816308cc0>"
      ]
     },
     "metadata": {},
     "output_type": "display_data"
    }
   ],
   "source": [
    "sns.distplot(correlations.values.flatten());"
   ]
  },
  {
   "cell_type": "markdown",
   "metadata": {},
   "source": [
    "The following summary shows that the $(41*300)$ correlations are centered at 0 with std 0.05. The largest is 0.32, and the smallest is 0.30. These don't seem like very high numbers. The 75% percentile is 0.03. By looking back at the histogram above, it's obviously these dimensions are not highly correlated with these linguistic features.\n",
    "\n",
    "Another important point from this is that the distribution of correlations is symmetric. So using the the max, rather than the max absolute, seems arbitrary. It doesn't allow for reversed dimensions."
   ]
  },
  {
   "cell_type": "code",
   "execution_count": 43,
   "metadata": {},
   "outputs": [
    {
     "data": {
      "text/plain": [
       "count    12300.000000\n",
       "mean        -0.000063\n",
       "std          0.048710\n",
       "min         -0.298277\n",
       "25%         -0.028078\n",
       "50%          0.000444\n",
       "75%          0.028427\n",
       "max          0.318956\n",
       "dtype: float64"
      ]
     },
     "execution_count": 43,
     "metadata": {},
     "output_type": "execute_result"
    }
   ],
   "source": [
    "pd.Series(correlations.values.flatten()).describe()"
   ]
  },
  {
   "cell_type": "markdown",
   "metadata": {},
   "source": [
    "#### What do the maximum correlations look like?\n",
    "\n",
    "These are all positive. But are they different enough from 0? What test can I use here?"
   ]
  },
  {
   "cell_type": "code",
   "execution_count": 45,
   "metadata": {},
   "outputs": [
    {
     "data": {
      "image/png": "[encoded data removed]",
      "text/plain": [
       "<matplotlib.figure.Figure at 0x7f1821cf4fd0>"
      ]
     },
     "metadata": {},
     "output_type": "display_data"
    }
   ],
   "source": [
    "sns.distplot(correlations.max(axis=1));"
   ]
  },
  {
   "cell_type": "code",
   "execution_count": 30,
   "metadata": {
    "collapsed": true
   },
   "outputs": [],
   "source": [
    "def test(r, N):\n",
    "    \"\"\"\"\"\"\n",
    "    return r / (np.sqrt((1-r**2)/(N-2)))"
   ]
  },
  {
   "cell_type": "code",
   "execution_count": 47,
   "metadata": {},
   "outputs": [
    {
     "data": {
      "text/plain": [
       "20.342128644814871"
      ]
     },
     "execution_count": 47,
     "metadata": {},
     "output_type": "execute_result"
    }
   ],
   "source": [
    "test(0.3, V)"
   ]
  },
  {
   "cell_type": "code",
   "execution_count": null,
   "metadata": {
    "collapsed": true
   },
   "outputs": [],
   "source": [
    "stats.t()"
   ]
  },
  {
   "cell_type": "code",
   "execution_count": 29,
   "metadata": {},
   "outputs": [
    {
     "data": {
      "image/png": "[encoded data removed]",
      "text/plain": [
       "<matplotlib.figure.Figure at 0x7f181fe20208>"
      ]
     },
     "metadata": {},
     "output_type": "display_data"
    }
   ],
   "source": [
    "sns.heatmap(correlations);"
   ]
  },
  {
   "cell_type": "markdown",
   "metadata": {},
   "source": [
    "#### What dimensions and features are aligned?\n",
    "\n",
    "The dataframe below is as follows: index is the dimension of the learnt embedding, 'feature' is the name of the linguistic feature aligned with that dimension, 'position' is the position of the feature in the feature matrix, and 'max_corr' is the correlation between the dimension and feature."
   ]
  },
  {
   "cell_type": "code",
   "execution_count": 100,
   "metadata": {},
   "outputs": [
    {
     "data": {
      "text/html": [
       "<div>\n",
       "<style>\n",
       "    .dataframe thead tr:only-child th {\n",
       "        text-align: right;\n",
       "    }\n",
       "\n",
       "    .dataframe thead th {\n",
       "        text-align: left;\n",
       "    }\n",
       "\n",
       "    .dataframe tbody tr th {\n",
       "        vertical-align: top;\n",
       "    }\n",
       "</style>\n",
       "<table border=\"1\" class=\"dataframe\">\n",
       "  <thead>\n",
       "    <tr style=\"text-align: right;\">\n",
       "      <th></th>\n",
       "      <th>feature</th>\n",
       "      <th>position</th>\n",
       "      <th>max_corr</th>\n",
       "    </tr>\n",
       "  </thead>\n",
       "  <tbody>\n",
       "    <tr>\n",
       "      <th>1</th>\n",
       "      <td>noun.act</td>\n",
       "      <td>1</td>\n",
       "      <td>0.103305</td>\n",
       "    </tr>\n",
       "    <tr>\n",
       "      <th>2</th>\n",
       "      <td>noun.food</td>\n",
       "      <td>10</td>\n",
       "      <td>0.079669</td>\n",
       "    </tr>\n",
       "    <tr>\n",
       "      <th>3</th>\n",
       "      <td>noun.act</td>\n",
       "      <td>1</td>\n",
       "      <td>0.132868</td>\n",
       "    </tr>\n",
       "    <tr>\n",
       "      <th>4</th>\n",
       "      <td>noun.time</td>\n",
       "      <td>25</td>\n",
       "      <td>0.118316</td>\n",
       "    </tr>\n",
       "    <tr>\n",
       "      <th>5</th>\n",
       "      <td>noun.person</td>\n",
       "      <td>15</td>\n",
       "      <td>0.073610</td>\n",
       "    </tr>\n",
       "    <tr>\n",
       "      <th>6</th>\n",
       "      <td>verb.stative</td>\n",
       "      <td>39</td>\n",
       "      <td>0.074339</td>\n",
       "    </tr>\n",
       "    <tr>\n",
       "      <th>7</th>\n",
       "      <td>verb.possession</td>\n",
       "      <td>37</td>\n",
       "      <td>0.130992</td>\n",
       "    </tr>\n",
       "    <tr>\n",
       "      <th>8</th>\n",
       "      <td>verb.stative</td>\n",
       "      <td>39</td>\n",
       "      <td>0.102332</td>\n",
       "    </tr>\n",
       "    <tr>\n",
       "      <th>9</th>\n",
       "      <td>verb.change</td>\n",
       "      <td>27</td>\n",
       "      <td>0.135012</td>\n",
       "    </tr>\n",
       "    <tr>\n",
       "      <th>10</th>\n",
       "      <td>noun.person</td>\n",
       "      <td>15</td>\n",
       "      <td>0.151002</td>\n",
       "    </tr>\n",
       "    <tr>\n",
       "      <th>11</th>\n",
       "      <td>noun.cognition</td>\n",
       "      <td>6</td>\n",
       "      <td>0.078366</td>\n",
       "    </tr>\n",
       "    <tr>\n",
       "      <th>12</th>\n",
       "      <td>noun.communication</td>\n",
       "      <td>7</td>\n",
       "      <td>0.114438</td>\n",
       "    </tr>\n",
       "    <tr>\n",
       "      <th>13</th>\n",
       "      <td>noun.artifact</td>\n",
       "      <td>3</td>\n",
       "      <td>0.144335</td>\n",
       "    </tr>\n",
       "    <tr>\n",
       "      <th>14</th>\n",
       "      <td>noun.food</td>\n",
       "      <td>10</td>\n",
       "      <td>0.098536</td>\n",
       "    </tr>\n",
       "    <tr>\n",
       "      <th>15</th>\n",
       "      <td>noun.location</td>\n",
       "      <td>12</td>\n",
       "      <td>0.092998</td>\n",
       "    </tr>\n",
       "    <tr>\n",
       "      <th>16</th>\n",
       "      <td>noun.body</td>\n",
       "      <td>5</td>\n",
       "      <td>0.088876</td>\n",
       "    </tr>\n",
       "    <tr>\n",
       "      <th>17</th>\n",
       "      <td>noun.act</td>\n",
       "      <td>1</td>\n",
       "      <td>0.084360</td>\n",
       "    </tr>\n",
       "    <tr>\n",
       "      <th>18</th>\n",
       "      <td>noun.body</td>\n",
       "      <td>5</td>\n",
       "      <td>0.157412</td>\n",
       "    </tr>\n",
       "    <tr>\n",
       "      <th>19</th>\n",
       "      <td>verb.motion</td>\n",
       "      <td>35</td>\n",
       "      <td>0.111126</td>\n",
       "    </tr>\n",
       "    <tr>\n",
       "      <th>20</th>\n",
       "      <td>verb.motion</td>\n",
       "      <td>35</td>\n",
       "      <td>0.091465</td>\n",
       "    </tr>\n",
       "    <tr>\n",
       "      <th>21</th>\n",
       "      <td>verb.communication</td>\n",
       "      <td>29</td>\n",
       "      <td>0.109434</td>\n",
       "    </tr>\n",
       "    <tr>\n",
       "      <th>22</th>\n",
       "      <td>noun.person</td>\n",
       "      <td>15</td>\n",
       "      <td>0.088038</td>\n",
       "    </tr>\n",
       "    <tr>\n",
       "      <th>23</th>\n",
       "      <td>noun.group</td>\n",
       "      <td>11</td>\n",
       "      <td>0.102414</td>\n",
       "    </tr>\n",
       "    <tr>\n",
       "      <th>24</th>\n",
       "      <td>noun.communication</td>\n",
       "      <td>7</td>\n",
       "      <td>0.122010</td>\n",
       "    </tr>\n",
       "    <tr>\n",
       "      <th>25</th>\n",
       "      <td>noun.phenomenon</td>\n",
       "      <td>16</td>\n",
       "      <td>0.079313</td>\n",
       "    </tr>\n",
       "    <tr>\n",
       "      <th>26</th>\n",
       "      <td>noun.act</td>\n",
       "      <td>1</td>\n",
       "      <td>0.091694</td>\n",
       "    </tr>\n",
       "    <tr>\n",
       "      <th>27</th>\n",
       "      <td>noun.feeling</td>\n",
       "      <td>9</td>\n",
       "      <td>0.077159</td>\n",
       "    </tr>\n",
       "    <tr>\n",
       "      <th>28</th>\n",
       "      <td>verb.possession</td>\n",
       "      <td>37</td>\n",
       "      <td>0.153693</td>\n",
       "    </tr>\n",
       "    <tr>\n",
       "      <th>29</th>\n",
       "      <td>noun.feeling</td>\n",
       "      <td>9</td>\n",
       "      <td>0.118572</td>\n",
       "    </tr>\n",
       "    <tr>\n",
       "      <th>30</th>\n",
       "      <td>noun.attribute</td>\n",
       "      <td>4</td>\n",
       "      <td>0.072412</td>\n",
       "    </tr>\n",
       "    <tr>\n",
       "      <th>...</th>\n",
       "      <td>...</td>\n",
       "      <td>...</td>\n",
       "      <td>...</td>\n",
       "    </tr>\n",
       "    <tr>\n",
       "      <th>271</th>\n",
       "      <td>verb.change</td>\n",
       "      <td>27</td>\n",
       "      <td>0.106502</td>\n",
       "    </tr>\n",
       "    <tr>\n",
       "      <th>272</th>\n",
       "      <td>verb.change</td>\n",
       "      <td>27</td>\n",
       "      <td>0.145280</td>\n",
       "    </tr>\n",
       "    <tr>\n",
       "      <th>273</th>\n",
       "      <td>verb.cognition</td>\n",
       "      <td>28</td>\n",
       "      <td>0.099391</td>\n",
       "    </tr>\n",
       "    <tr>\n",
       "      <th>274</th>\n",
       "      <td>verb.social</td>\n",
       "      <td>38</td>\n",
       "      <td>0.096145</td>\n",
       "    </tr>\n",
       "    <tr>\n",
       "      <th>275</th>\n",
       "      <td>noun.time</td>\n",
       "      <td>25</td>\n",
       "      <td>0.095630</td>\n",
       "    </tr>\n",
       "    <tr>\n",
       "      <th>276</th>\n",
       "      <td>noun.cognition</td>\n",
       "      <td>6</td>\n",
       "      <td>0.095720</td>\n",
       "    </tr>\n",
       "    <tr>\n",
       "      <th>277</th>\n",
       "      <td>noun.body</td>\n",
       "      <td>5</td>\n",
       "      <td>0.126588</td>\n",
       "    </tr>\n",
       "    <tr>\n",
       "      <th>278</th>\n",
       "      <td>noun.artifact</td>\n",
       "      <td>3</td>\n",
       "      <td>0.093523</td>\n",
       "    </tr>\n",
       "    <tr>\n",
       "      <th>279</th>\n",
       "      <td>noun.communication</td>\n",
       "      <td>7</td>\n",
       "      <td>0.172891</td>\n",
       "    </tr>\n",
       "    <tr>\n",
       "      <th>280</th>\n",
       "      <td>noun.artifact</td>\n",
       "      <td>3</td>\n",
       "      <td>0.070332</td>\n",
       "    </tr>\n",
       "    <tr>\n",
       "      <th>281</th>\n",
       "      <td>verb.communication</td>\n",
       "      <td>29</td>\n",
       "      <td>0.127974</td>\n",
       "    </tr>\n",
       "    <tr>\n",
       "      <th>282</th>\n",
       "      <td>verb.contact</td>\n",
       "      <td>32</td>\n",
       "      <td>0.084724</td>\n",
       "    </tr>\n",
       "    <tr>\n",
       "      <th>283</th>\n",
       "      <td>verb.body</td>\n",
       "      <td>26</td>\n",
       "      <td>0.074544</td>\n",
       "    </tr>\n",
       "    <tr>\n",
       "      <th>284</th>\n",
       "      <td>noun.body</td>\n",
       "      <td>5</td>\n",
       "      <td>0.105083</td>\n",
       "    </tr>\n",
       "    <tr>\n",
       "      <th>285</th>\n",
       "      <td>noun.cognition</td>\n",
       "      <td>6</td>\n",
       "      <td>0.155487</td>\n",
       "    </tr>\n",
       "    <tr>\n",
       "      <th>286</th>\n",
       "      <td>noun.artifact</td>\n",
       "      <td>3</td>\n",
       "      <td>0.155935</td>\n",
       "    </tr>\n",
       "    <tr>\n",
       "      <th>287</th>\n",
       "      <td>verb.communication</td>\n",
       "      <td>29</td>\n",
       "      <td>0.133159</td>\n",
       "    </tr>\n",
       "    <tr>\n",
       "      <th>288</th>\n",
       "      <td>noun.group</td>\n",
       "      <td>11</td>\n",
       "      <td>0.120380</td>\n",
       "    </tr>\n",
       "    <tr>\n",
       "      <th>289</th>\n",
       "      <td>noun.feeling</td>\n",
       "      <td>9</td>\n",
       "      <td>0.166693</td>\n",
       "    </tr>\n",
       "    <tr>\n",
       "      <th>290</th>\n",
       "      <td>noun.communication</td>\n",
       "      <td>7</td>\n",
       "      <td>0.092138</td>\n",
       "    </tr>\n",
       "    <tr>\n",
       "      <th>291</th>\n",
       "      <td>noun.location</td>\n",
       "      <td>12</td>\n",
       "      <td>0.077567</td>\n",
       "    </tr>\n",
       "    <tr>\n",
       "      <th>292</th>\n",
       "      <td>noun.attribute</td>\n",
       "      <td>4</td>\n",
       "      <td>0.098779</td>\n",
       "    </tr>\n",
       "    <tr>\n",
       "      <th>293</th>\n",
       "      <td>verb.cognition</td>\n",
       "      <td>28</td>\n",
       "      <td>0.094353</td>\n",
       "    </tr>\n",
       "    <tr>\n",
       "      <th>294</th>\n",
       "      <td>noun.cognition</td>\n",
       "      <td>6</td>\n",
       "      <td>0.110449</td>\n",
       "    </tr>\n",
       "    <tr>\n",
       "      <th>295</th>\n",
       "      <td>noun.cognition</td>\n",
       "      <td>6</td>\n",
       "      <td>0.080960</td>\n",
       "    </tr>\n",
       "    <tr>\n",
       "      <th>296</th>\n",
       "      <td>noun.group</td>\n",
       "      <td>11</td>\n",
       "      <td>0.153578</td>\n",
       "    </tr>\n",
       "    <tr>\n",
       "      <th>297</th>\n",
       "      <td>noun.artifact</td>\n",
       "      <td>3</td>\n",
       "      <td>0.112932</td>\n",
       "    </tr>\n",
       "    <tr>\n",
       "      <th>298</th>\n",
       "      <td>noun.person</td>\n",
       "      <td>15</td>\n",
       "      <td>0.130420</td>\n",
       "    </tr>\n",
       "    <tr>\n",
       "      <th>299</th>\n",
       "      <td>noun.body</td>\n",
       "      <td>5</td>\n",
       "      <td>0.084260</td>\n",
       "    </tr>\n",
       "    <tr>\n",
       "      <th>300</th>\n",
       "      <td>noun.person</td>\n",
       "      <td>15</td>\n",
       "      <td>0.215958</td>\n",
       "    </tr>\n",
       "  </tbody>\n",
       "</table>\n",
       "<p>300 rows × 3 columns</p>\n",
       "</div>"
      ],
      "text/plain": [
       "                feature  position  max_corr\n",
       "1              noun.act         1  0.103305\n",
       "2             noun.food        10  0.079669\n",
       "3              noun.act         1  0.132868\n",
       "4             noun.time        25  0.118316\n",
       "5           noun.person        15  0.073610\n",
       "6          verb.stative        39  0.074339\n",
       "7       verb.possession        37  0.130992\n",
       "8          verb.stative        39  0.102332\n",
       "9           verb.change        27  0.135012\n",
       "10          noun.person        15  0.151002\n",
       "11       noun.cognition         6  0.078366\n",
       "12   noun.communication         7  0.114438\n",
       "13        noun.artifact         3  0.144335\n",
       "14            noun.food        10  0.098536\n",
       "15        noun.location        12  0.092998\n",
       "16            noun.body         5  0.088876\n",
       "17             noun.act         1  0.084360\n",
       "18            noun.body         5  0.157412\n",
       "19          verb.motion        35  0.111126\n",
       "20          verb.motion        35  0.091465\n",
       "21   verb.communication        29  0.109434\n",
       "22          noun.person        15  0.088038\n",
       "23           noun.group        11  0.102414\n",
       "24   noun.communication         7  0.122010\n",
       "25      noun.phenomenon        16  0.079313\n",
       "26             noun.act         1  0.091694\n",
       "27         noun.feeling         9  0.077159\n",
       "28      verb.possession        37  0.153693\n",
       "29         noun.feeling         9  0.118572\n",
       "30       noun.attribute         4  0.072412\n",
       "..                  ...       ...       ...\n",
       "271         verb.change        27  0.106502\n",
       "272         verb.change        27  0.145280\n",
       "273      verb.cognition        28  0.099391\n",
       "274         verb.social        38  0.096145\n",
       "275           noun.time        25  0.095630\n",
       "276      noun.cognition         6  0.095720\n",
       "277           noun.body         5  0.126588\n",
       "278       noun.artifact         3  0.093523\n",
       "279  noun.communication         7  0.172891\n",
       "280       noun.artifact         3  0.070332\n",
       "281  verb.communication        29  0.127974\n",
       "282        verb.contact        32  0.084724\n",
       "283           verb.body        26  0.074544\n",
       "284           noun.body         5  0.105083\n",
       "285      noun.cognition         6  0.155487\n",
       "286       noun.artifact         3  0.155935\n",
       "287  verb.communication        29  0.133159\n",
       "288          noun.group        11  0.120380\n",
       "289        noun.feeling         9  0.166693\n",
       "290  noun.communication         7  0.092138\n",
       "291       noun.location        12  0.077567\n",
       "292      noun.attribute         4  0.098779\n",
       "293      verb.cognition        28  0.094353\n",
       "294      noun.cognition         6  0.110449\n",
       "295      noun.cognition         6  0.080960\n",
       "296          noun.group        11  0.153578\n",
       "297       noun.artifact         3  0.112932\n",
       "298         noun.person        15  0.130420\n",
       "299           noun.body         5  0.084260\n",
       "300         noun.person        15  0.215958\n",
       "\n",
       "[300 rows x 3 columns]"
      ]
     },
     "execution_count": 100,
     "metadata": {},
     "output_type": "execute_result"
    }
   ],
   "source": [
    "alignments = pd.DataFrame(correlations.idxmax(axis=1))\n",
    "alignments.columns = ['feature']\n",
    "alignments['position'] = alignments['feature'].apply(lambda x: subset.index.get_loc(x))\n",
    "alignments['max_corr'] = correlations.max(axis=1)\n",
    "alignments"
   ]
  },
  {
   "cell_type": "markdown",
   "metadata": {},
   "source": [
    "#### What is QVEC doing?\n",
    "\n",
    "A consistent observation is that the distribution of the linguistic features are strongly peaked at 0. That is, almost all words have 0 for for most features. Sometimes, there is some mass at 1. This suggests to me that the linguistic features being used are not appropriate."
   ]
  },
  {
   "cell_type": "code",
   "execution_count": 97,
   "metadata": {},
   "outputs": [],
   "source": [
    "common_words = embeddings.columns.intersection(subset.columns)\n",
    "S = subset[common_words]\n",
    "X = embeddings[common_words]\n",
    "def plot(i, j):\n",
    "    \"\"\"Plot ith dimension of embeddings against feature j.\"\"\"\n",
    "    x = X.loc[i]\n",
    "    s = S.loc[j]\n",
    "    sns.jointplot(x, s);"
   ]
  },
  {
   "cell_type": "code",
   "execution_count": 101,
   "metadata": {},
   "outputs": [
    {
     "data": {
      "image/png": "[encoded data removed]",
      "text/plain": [
       "<matplotlib.figure.Figure at 0x7f181e2526d8>"
      ]
     },
     "metadata": {},
     "output_type": "display_data"
    }
   ],
   "source": [
    "plot(300,'noun.person')"
   ]
  },
  {
   "cell_type": "markdown",
   "metadata": {},
   "source": [
    "## Todo\n",
    "- Use different linguistic features (semantic, syntactic, etc.)\n",
    "- Use different correlation metric\n",
    "- Explore the correlations, alignments and top k words more\n",
    "- Levin's verb classification\n",
    "\n",
    "## Explore correlations, alignments and top k words\n",
    "\n",
    "#### Top K words\n",
    "In the paper they give the top K words for a dimension. The code prints, for each dimension, the dimension number, the aligned linguistic feature, the correlation between the two previous things, and the top k words associated with the dimension. I understand the last bit to mean \"the k words with the highest value in the dimension\"."
   ]
  },
  {
   "cell_type": "code",
   "execution_count": null,
   "metadata": {
    "collapsed": true
   },
   "outputs": [],
   "source": [
    "k = 50\n",
    "top_k = pd.DataFrame(alignments, columns=['feature'])\n",
    "top_k['correlation'] = correlations.max(axis=1)\n",
    "tmp = pd.DataFrame([embeddings.loc[i].nlargest(n=k).index for i in top_k.index])\n",
    "top_k = pd.merge(top_k, tmp, left_index=True, right_index=True)\n",
    "\n",
    "top_k.head()"
   ]
  },
  {
   "cell_type": "markdown",
   "metadata": {},
   "source": [
    "Most of these top words seem like junk. However, it'd be good to tease this apart a bit more. Here are some questions I'd like to ask:\n",
    "- Are the top k words even of the right POS?\n",
    "- Which features are missing (i.e. not the most correlated with any dimension)?\n",
    "- How can I objectively measure whether the top k words are \"correct\"?"
   ]
  },
  {
   "cell_type": "code",
   "execution_count": null,
   "metadata": {
    "collapsed": true
   },
   "outputs": [],
   "source": [
    "def get_dims(feature, df=top_k):\n",
    "    \"\"\"Return the dimensions aligned with `feature` in `df`.\"\"\"\n",
    "    return df[df['feature']==feature]\n",
    "\n",
    "get_dims('noun.animal')"
   ]
  },
  {
   "cell_type": "markdown",
   "metadata": {},
   "source": [
    "#### Which features are not the most correlated with any dimension?"
   ]
  },
  {
   "cell_type": "code",
   "execution_count": null,
   "metadata": {
    "collapsed": true
   },
   "outputs": [],
   "source": [
    "subset.index.difference(top_k['feature'])"
   ]
  },
  {
   "cell_type": "markdown",
   "metadata": {},
   "source": [
    "#### FrameNet\n",
    "\n",
    "- What is the appropriate way to use FrameNet resources as features?"
   ]
  },
  {
   "cell_type": "code",
   "execution_count": null,
   "metadata": {
    "collapsed": true
   },
   "outputs": [],
   "source": [
    "from nltk.corpus import framenet as fn\n",
    "\n",
    "fn.lus('happen.v')[1]\n",
    "\n",
    "tagged_chunks[:20]"
   ]
  }
 ],
 "metadata": {
  "kernelspec": {
   "display_name": "Python 3",
   "language": "python",
   "name": "python3"
  },
  "language_info": {
   "codemirror_mode": {
    "name": "ipython",
    "version": 3
   },
   "file_extension": ".py",
   "mimetype": "text/x-python",
   "name": "python",
   "nbconvert_exporter": "python",
   "pygments_lexer": "ipython3",
   "version": "3.6.1"
  }
 },
 "nbformat": 4,
 "nbformat_minor": 2
}
