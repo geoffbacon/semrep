{
 "cells": [
  {
   "cell_type": "markdown",
   "metadata": {},
   "source": [
    "# Exploring QVEC\n",
    "\n",
    "I want to spend some time now looking closer at QVEC's output, namely the correlations and the alignment matrix. The second main point of the original paper is that the alignments allow you to interpret individual dimensions of embeddings."
   ]
  },
  {
   "cell_type": "code",
   "execution_count": 67,
   "metadata": {},
   "outputs": [
    {
     "name": "stderr",
     "output_type": "stream",
     "text": [
      "/home/bacon/miniconda3/lib/python3.6/site-packages/statsmodels/compat/pandas.py:56: FutureWarning: The pandas.core.datetools module is deprecated and will be removed in a future version. Please use the pandas.tseries module instead.\n",
      "  from pandas.core import datetools\n"
     ]
    }
   ],
   "source": [
    "%matplotlib inline\n",
    "import os\n",
    "import csv\n",
    "import pandas as pd\n",
    "import numpy as np\n",
    "from scipy import stats\n",
    "import statsmodels.api as sm\n",
    "import matplotlib.pyplot as plt\n",
    "import seaborn as sns\n",
    "sns.set()\n",
    "\n",
    "data_path = '../../data'\n",
    "tmp_path = '../../tmp'"
   ]
  },
  {
   "cell_type": "markdown",
   "metadata": {},
   "source": [
    "### Linguistic features"
   ]
  },
  {
   "cell_type": "code",
   "execution_count": 2,
   "metadata": {
    "collapsed": true
   },
   "outputs": [],
   "source": [
    "feature_path = os.path.join(data_path, 'evaluation/semcor/tsvetkov_semcor.csv')\n",
    "subset = pd.read_csv(feature_path, index_col=0)\n",
    "subset.columns = [c.replace('semcor.', '') for c in subset.columns]\n",
    "subset.set_index('words', inplace=True)\n",
    "subset = subset.T"
   ]
  },
  {
   "cell_type": "markdown",
   "metadata": {},
   "source": [
    "### Learnt embeddings"
   ]
  },
  {
   "cell_type": "code",
   "execution_count": 3,
   "metadata": {
    "collapsed": true
   },
   "outputs": [],
   "source": [
    "size = 300\n",
    "fname = 'embeddings/glove.6B.{}d.txt'.format(size)\n",
    "embedding_path = os.path.join(data_path, fname)\n",
    "embeddings = pd.read_csv(embedding_path, sep=' ', header=None, index_col=0, quoting=csv.QUOTE_NONE).T"
   ]
  },
  {
   "cell_type": "markdown",
   "metadata": {},
   "source": [
    "### QVEC model"
   ]
  },
  {
   "cell_type": "code",
   "execution_count": 4,
   "metadata": {
    "collapsed": true
   },
   "outputs": [],
   "source": [
    "def qvec(features, embeddings):\n",
    "    \"\"\"\n",
    "    Returns correlations between columns of `features` and `embeddings`.\n",
    "    \n",
    "    The aligned feature is the one with the highest correlation.\n",
    "    The qvec score is the sum of correlations of aligned features.\n",
    "    \"\"\"\n",
    "    common_words = embeddings.columns.intersection(features.columns)\n",
    "    S = features[common_words]\n",
    "    X = embeddings[common_words]\n",
    "    correlations = pd.DataFrame({i:X.corrwith(S.iloc[i], axis=1) for i in range(len(S))})\n",
    "    correlations.columns = S.index\n",
    "    return correlations"
   ]
  },
  {
   "cell_type": "code",
   "execution_count": 5,
   "metadata": {
    "collapsed": true
   },
   "outputs": [],
   "source": [
    "correlations = qvec(subset, embeddings)\n",
    "V = len(embeddings.columns.intersection(subset.columns))"
   ]
  },
  {
   "cell_type": "code",
   "execution_count": 6,
   "metadata": {},
   "outputs": [
    {
     "data": {
      "text/html": [
       "<div>\n",
       "<style>\n",
       "    .dataframe thead tr:only-child th {\n",
       "        text-align: right;\n",
       "    }\n",
       "\n",
       "    .dataframe thead th {\n",
       "        text-align: left;\n",
       "    }\n",
       "\n",
       "    .dataframe tbody tr th {\n",
       "        vertical-align: top;\n",
       "    }\n",
       "</style>\n",
       "<table border=\"1\" class=\"dataframe\">\n",
       "  <thead>\n",
       "    <tr style=\"text-align: right;\">\n",
       "      <th></th>\n",
       "      <th>noun.Tops</th>\n",
       "      <th>noun.act</th>\n",
       "      <th>noun.animal</th>\n",
       "      <th>noun.artifact</th>\n",
       "      <th>noun.attribute</th>\n",
       "      <th>noun.body</th>\n",
       "      <th>noun.cognition</th>\n",
       "      <th>noun.communication</th>\n",
       "      <th>noun.event</th>\n",
       "      <th>noun.feeling</th>\n",
       "      <th>...</th>\n",
       "      <th>verb.consumption</th>\n",
       "      <th>verb.contact</th>\n",
       "      <th>verb.creation</th>\n",
       "      <th>verb.emotion</th>\n",
       "      <th>verb.motion</th>\n",
       "      <th>verb.perception</th>\n",
       "      <th>verb.possession</th>\n",
       "      <th>verb.social</th>\n",
       "      <th>verb.stative</th>\n",
       "      <th>verb.weather</th>\n",
       "    </tr>\n",
       "  </thead>\n",
       "  <tbody>\n",
       "    <tr>\n",
       "      <th>1</th>\n",
       "      <td>-0.025195</td>\n",
       "      <td>0.103305</td>\n",
       "      <td>0.022804</td>\n",
       "      <td>0.019960</td>\n",
       "      <td>-0.005073</td>\n",
       "      <td>-0.063040</td>\n",
       "      <td>0.001746</td>\n",
       "      <td>-0.044627</td>\n",
       "      <td>0.060426</td>\n",
       "      <td>-0.000629</td>\n",
       "      <td>...</td>\n",
       "      <td>-0.000923</td>\n",
       "      <td>0.032615</td>\n",
       "      <td>-0.059228</td>\n",
       "      <td>0.002191</td>\n",
       "      <td>0.043395</td>\n",
       "      <td>0.016654</td>\n",
       "      <td>-0.000253</td>\n",
       "      <td>0.015861</td>\n",
       "      <td>-0.058195</td>\n",
       "      <td>0.027505</td>\n",
       "    </tr>\n",
       "    <tr>\n",
       "      <th>2</th>\n",
       "      <td>0.025052</td>\n",
       "      <td>0.003521</td>\n",
       "      <td>0.071996</td>\n",
       "      <td>0.033976</td>\n",
       "      <td>0.046986</td>\n",
       "      <td>0.000275</td>\n",
       "      <td>-0.025890</td>\n",
       "      <td>-0.093323</td>\n",
       "      <td>0.013002</td>\n",
       "      <td>-0.026363</td>\n",
       "      <td>...</td>\n",
       "      <td>0.041451</td>\n",
       "      <td>0.004752</td>\n",
       "      <td>0.008058</td>\n",
       "      <td>-0.024316</td>\n",
       "      <td>-0.043428</td>\n",
       "      <td>0.021968</td>\n",
       "      <td>-0.003188</td>\n",
       "      <td>0.024070</td>\n",
       "      <td>0.064498</td>\n",
       "      <td>-0.034473</td>\n",
       "    </tr>\n",
       "    <tr>\n",
       "      <th>3</th>\n",
       "      <td>0.000335</td>\n",
       "      <td>0.132868</td>\n",
       "      <td>-0.020388</td>\n",
       "      <td>-0.043322</td>\n",
       "      <td>0.026484</td>\n",
       "      <td>-0.031252</td>\n",
       "      <td>0.051305</td>\n",
       "      <td>0.025105</td>\n",
       "      <td>0.069223</td>\n",
       "      <td>0.112211</td>\n",
       "      <td>...</td>\n",
       "      <td>-0.009357</td>\n",
       "      <td>-0.078781</td>\n",
       "      <td>-0.096304</td>\n",
       "      <td>-0.000102</td>\n",
       "      <td>-0.010545</td>\n",
       "      <td>-0.015110</td>\n",
       "      <td>-0.082116</td>\n",
       "      <td>-0.047947</td>\n",
       "      <td>-0.098220</td>\n",
       "      <td>0.008797</td>\n",
       "    </tr>\n",
       "    <tr>\n",
       "      <th>4</th>\n",
       "      <td>0.003880</td>\n",
       "      <td>0.020326</td>\n",
       "      <td>0.023546</td>\n",
       "      <td>-0.164084</td>\n",
       "      <td>-0.013492</td>\n",
       "      <td>-0.079157</td>\n",
       "      <td>0.008527</td>\n",
       "      <td>0.045884</td>\n",
       "      <td>-0.002118</td>\n",
       "      <td>-0.003778</td>\n",
       "      <td>...</td>\n",
       "      <td>0.031046</td>\n",
       "      <td>-0.015342</td>\n",
       "      <td>-0.029799</td>\n",
       "      <td>0.009851</td>\n",
       "      <td>0.045801</td>\n",
       "      <td>-0.023565</td>\n",
       "      <td>0.036102</td>\n",
       "      <td>0.003050</td>\n",
       "      <td>0.059049</td>\n",
       "      <td>-0.009769</td>\n",
       "    </tr>\n",
       "    <tr>\n",
       "      <th>5</th>\n",
       "      <td>0.011347</td>\n",
       "      <td>0.032593</td>\n",
       "      <td>0.008034</td>\n",
       "      <td>-0.031921</td>\n",
       "      <td>-0.015440</td>\n",
       "      <td>0.030811</td>\n",
       "      <td>0.026431</td>\n",
       "      <td>-0.020380</td>\n",
       "      <td>-0.054214</td>\n",
       "      <td>0.032733</td>\n",
       "      <td>...</td>\n",
       "      <td>-0.006414</td>\n",
       "      <td>-0.024326</td>\n",
       "      <td>-0.012067</td>\n",
       "      <td>0.045959</td>\n",
       "      <td>-0.026189</td>\n",
       "      <td>-0.051913</td>\n",
       "      <td>0.013840</td>\n",
       "      <td>-0.012455</td>\n",
       "      <td>0.000732</td>\n",
       "      <td>-0.006095</td>\n",
       "    </tr>\n",
       "  </tbody>\n",
       "</table>\n",
       "<p>5 rows × 41 columns</p>\n",
       "</div>"
      ],
      "text/plain": [
       "   noun.Tops  noun.act  noun.animal  noun.artifact  noun.attribute  noun.body  \\\n",
       "1  -0.025195  0.103305     0.022804       0.019960       -0.005073  -0.063040   \n",
       "2   0.025052  0.003521     0.071996       0.033976        0.046986   0.000275   \n",
       "3   0.000335  0.132868    -0.020388      -0.043322        0.026484  -0.031252   \n",
       "4   0.003880  0.020326     0.023546      -0.164084       -0.013492  -0.079157   \n",
       "5   0.011347  0.032593     0.008034      -0.031921       -0.015440   0.030811   \n",
       "\n",
       "   noun.cognition  noun.communication  noun.event  noun.feeling      ...       \\\n",
       "1        0.001746           -0.044627    0.060426     -0.000629      ...        \n",
       "2       -0.025890           -0.093323    0.013002     -0.026363      ...        \n",
       "3        0.051305            0.025105    0.069223      0.112211      ...        \n",
       "4        0.008527            0.045884   -0.002118     -0.003778      ...        \n",
       "5        0.026431           -0.020380   -0.054214      0.032733      ...        \n",
       "\n",
       "   verb.consumption  verb.contact  verb.creation  verb.emotion  verb.motion  \\\n",
       "1         -0.000923      0.032615      -0.059228      0.002191     0.043395   \n",
       "2          0.041451      0.004752       0.008058     -0.024316    -0.043428   \n",
       "3         -0.009357     -0.078781      -0.096304     -0.000102    -0.010545   \n",
       "4          0.031046     -0.015342      -0.029799      0.009851     0.045801   \n",
       "5         -0.006414     -0.024326      -0.012067      0.045959    -0.026189   \n",
       "\n",
       "   verb.perception  verb.possession  verb.social  verb.stative  verb.weather  \n",
       "1         0.016654        -0.000253     0.015861     -0.058195      0.027505  \n",
       "2         0.021968        -0.003188     0.024070      0.064498     -0.034473  \n",
       "3        -0.015110        -0.082116    -0.047947     -0.098220      0.008797  \n",
       "4        -0.023565         0.036102     0.003050      0.059049     -0.009769  \n",
       "5        -0.051913         0.013840    -0.012455      0.000732     -0.006095  \n",
       "\n",
       "[5 rows x 41 columns]"
      ]
     },
     "execution_count": 6,
     "metadata": {},
     "output_type": "execute_result"
    }
   ],
   "source": [
    "correlations.head()"
   ]
  },
  {
   "cell_type": "markdown",
   "metadata": {},
   "source": [
    "## Exploration"
   ]
  },
  {
   "cell_type": "markdown",
   "metadata": {},
   "source": [
    "#### What dimensions and features are aligned?\n",
    "\n",
    "The dataframe below is as follows: index is the dimension of the learnt embedding, 'feature' is the name of the linguistic feature aligned with that dimension, and 'max_corr' is the correlation between the dimension and feature. The sum of the 'max_corr' column is the qvec score."
   ]
  },
  {
   "cell_type": "code",
   "execution_count": 14,
   "metadata": {},
   "outputs": [
    {
     "data": {
      "text/html": [
       "<div>\n",
       "<style>\n",
       "    .dataframe thead tr:only-child th {\n",
       "        text-align: right;\n",
       "    }\n",
       "\n",
       "    .dataframe thead th {\n",
       "        text-align: left;\n",
       "    }\n",
       "\n",
       "    .dataframe tbody tr th {\n",
       "        vertical-align: top;\n",
       "    }\n",
       "</style>\n",
       "<table border=\"1\" class=\"dataframe\">\n",
       "  <thead>\n",
       "    <tr style=\"text-align: right;\">\n",
       "      <th></th>\n",
       "      <th>feature</th>\n",
       "      <th>max_corr</th>\n",
       "    </tr>\n",
       "  </thead>\n",
       "  <tbody>\n",
       "    <tr>\n",
       "      <th>296</th>\n",
       "      <td>noun.group</td>\n",
       "      <td>0.153578</td>\n",
       "    </tr>\n",
       "    <tr>\n",
       "      <th>297</th>\n",
       "      <td>noun.artifact</td>\n",
       "      <td>0.112932</td>\n",
       "    </tr>\n",
       "    <tr>\n",
       "      <th>298</th>\n",
       "      <td>noun.person</td>\n",
       "      <td>0.130420</td>\n",
       "    </tr>\n",
       "    <tr>\n",
       "      <th>299</th>\n",
       "      <td>noun.body</td>\n",
       "      <td>0.084260</td>\n",
       "    </tr>\n",
       "    <tr>\n",
       "      <th>300</th>\n",
       "      <td>noun.person</td>\n",
       "      <td>0.215958</td>\n",
       "    </tr>\n",
       "  </tbody>\n",
       "</table>\n",
       "</div>"
      ],
      "text/plain": [
       "           feature  max_corr\n",
       "296     noun.group  0.153578\n",
       "297  noun.artifact  0.112932\n",
       "298    noun.person  0.130420\n",
       "299      noun.body  0.084260\n",
       "300    noun.person  0.215958"
      ]
     },
     "execution_count": 14,
     "metadata": {},
     "output_type": "execute_result"
    }
   ],
   "source": [
    "alignments = pd.DataFrame(correlations.idxmax(axis=1))\n",
    "alignments.columns = ['feature']\n",
    "alignments['max_corr'] = correlations.max(axis=1)\n",
    "alignments.tail()"
   ]
  },
  {
   "cell_type": "markdown",
   "metadata": {},
   "source": [
    "#### What is QVEC doing?\n",
    "\n",
    "QVEC is looking at 41 correlation coefficients (or as many linguistic features as there are) and finding the maximum. Here, I show the relevant scatterplot for the highest correlation.\n",
    "\n",
    "A consistent observation is that the distribution of the linguistic features are strongly peaked at 0. That is, almost all words have 0 for for most features. Sometimes, there is some mass at 1. This suggests to me that the linguistic features being used are not appropriate."
   ]
  },
  {
   "cell_type": "code",
   "execution_count": 11,
   "metadata": {
    "collapsed": true
   },
   "outputs": [],
   "source": [
    "common_words = embeddings.columns.intersection(subset.columns)\n",
    "S = subset[common_words]\n",
    "X = embeddings[common_words]\n",
    "def plot(i, j):\n",
    "    \"\"\"Plot ith dimension of embeddings against feature j.\"\"\"\n",
    "    x = X.loc[i]\n",
    "    s = S.loc[j]\n",
    "    sns.jointplot(x, s);"
   ]
  },
  {
   "cell_type": "code",
   "execution_count": 19,
   "metadata": {},
   "outputs": [
    {
     "data": {
      "image/png": "[encoded data removed]",
      "text/plain": [
       "<matplotlib.figure.Figure at 0x7f9da496b588>"
      ]
     },
     "metadata": {},
     "output_type": "display_data"
    }
   ],
   "source": [
    "plot(300,'noun.person')"
   ]
  },
  {
   "cell_type": "markdown",
   "metadata": {},
   "source": [
    "#### What do the learnt embeddings looks like?\n",
    "\n",
    "**In sum: each dimension looks pretty normal, but the formal tests I'm using suggest otherwise. Most are centered at 0 with std around 0.4.**\n",
    "\n",
    "From the marginal distribution plots above, it looks like each dimension is normally distributed. I don't know if that's purposively done during training or if it just turns out that way."
   ]
  },
  {
   "cell_type": "code",
   "execution_count": 30,
   "metadata": {},
   "outputs": [
    {
     "data": {
      "image/png": "[encoded data removed]",
      "text/plain": [
       "<matplotlib.figure.Figure at 0x7f9da2076a58>"
      ]
     },
     "metadata": {},
     "output_type": "display_data"
    }
   ],
   "source": [
    "sns.distplot(X.loc[89]);"
   ]
  },
  {
   "cell_type": "markdown",
   "metadata": {},
   "source": [
    "#### Graphical test of normality\n",
    "\n",
    "I'm plotting a QQ plot and a probability plot side by side."
   ]
  },
  {
   "cell_type": "code",
   "execution_count": 86,
   "metadata": {},
   "outputs": [
    {
     "data": {
      "image/png": "[encoded data removed]",
      "text/plain": [
       "<matplotlib.figure.Figure at 0x7f9da3def828>"
      ]
     },
     "metadata": {},
     "output_type": "display_data"
    }
   ],
   "source": [
    "fig, axs = plt.subplots(1,2)\n",
    "vector = X.loc[1]\n",
    "sm.qqplot(vector, ax=axs[0]);\n",
    "stats.probplot(vector, plot=axs[1]);"
   ]
  },
  {
   "cell_type": "markdown",
   "metadata": {},
   "source": [
    "#### KS test\n",
    "\n",
    "The preliminary results suggest that some dimensions are not normally distributed.\n",
    "\n",
    "The KS test is clear, but I have some uncertainty about how to use it in scipy. In particular, do I give it the std or var of the distribution being tested? "
   ]
  },
  {
   "cell_type": "code",
   "execution_count": 60,
   "metadata": {},
   "outputs": [
    {
     "data": {
      "image/png": "[encoded data removed]",
      "text/plain": [
       "<matplotlib.figure.Figure at 0x7f9da11ffc50>"
      ]
     },
     "metadata": {},
     "output_type": "display_data"
    }
   ],
   "source": [
    "def do_kstest(i):\n",
    "    vector = X.loc[i]\n",
    "    ybar = vector.mean()\n",
    "    s = vector.std()\n",
    "    result = stats.kstest(vector, cdf='norm', args=(ybar, s))\n",
    "    return result.pvalue\n",
    "\n",
    "p_values = [do_kstest(i) for i in X.index]\n",
    "sns.distplot(p_values);"
   ]
  },
  {
   "cell_type": "markdown",
   "metadata": {},
   "source": [
    "#### Shapiro-Wilk test"
   ]
  },
  {
   "cell_type": "code",
   "execution_count": 64,
   "metadata": {},
   "outputs": [
    {
     "data": {
      "image/png": "[encoded data removed]",
      "text/plain": [
       "<matplotlib.figure.Figure at 0x7f9da3ee1898>"
      ]
     },
     "metadata": {},
     "output_type": "display_data"
    }
   ],
   "source": [
    "def do_shapirotest(i):\n",
    "    vector = X.loc[i]\n",
    "    result = stats.shapiro(vector)\n",
    "    return result[1]\n",
    "\n",
    "p_values = [do_shapirotest(i) for i in X.index]\n",
    "sns.distplot(p_values);"
   ]
  },
  {
   "cell_type": "markdown",
   "metadata": {},
   "source": [
    "#### Lilliefors test"
   ]
  },
  {
   "cell_type": "code",
   "execution_count": 75,
   "metadata": {},
   "outputs": [],
   "source": [
    "def do_lillieforstest(i):\n",
    "    vector = X.loc[i]\n",
    "    result = sm.stats.lilliefors(vector)\n",
    "    return result[1]"
   ]
  },
  {
   "cell_type": "code",
   "execution_count": 76,
   "metadata": {},
   "outputs": [
    {
     "data": {
      "image/png": "[encoded data removed]",
      "text/plain": [
       "<matplotlib.figure.Figure at 0x7f9da225fa20>"
      ]
     },
     "metadata": {},
     "output_type": "display_data"
    }
   ],
   "source": [
    "p_values = [do_lillieforstest(i) for i in X.index]\n",
    "sns.distplot(p_values);"
   ]
  },
  {
   "cell_type": "markdown",
   "metadata": {},
   "source": [
    "#### Location & spread of each dimension"
   ]
  },
  {
   "cell_type": "code",
   "execution_count": 136,
   "metadata": {},
   "outputs": [
    {
     "data": {
      "image/png": "[encoded data removed]",
      "text/plain": [
       "<matplotlib.figure.Figure at 0x7f9d753a24a8>"
      ]
     },
     "metadata": {},
     "output_type": "display_data"
    }
   ],
   "source": [
    "fig, axs = plt.subplots(1,2)\n",
    "sns.distplot(X.mean(axis=1), ax=axs[0]);\n",
    "sns.distplot(X.std(axis=1), ax=axs[1]);"
   ]
  },
  {
   "cell_type": "markdown",
   "metadata": {},
   "source": [
    "#### What does each learnt embedding look like?\n",
    "\n",
    "**In sum: Centered at 0 with std 0.4, but less clearly normal.**\n",
    "\n",
    "How to answer this effectively?"
   ]
  },
  {
   "cell_type": "code",
   "execution_count": 98,
   "metadata": {},
   "outputs": [
    {
     "data": {
      "image/png": "[encoded data removed]",
      "text/plain": [
       "<matplotlib.figure.Figure at 0x7f9da3a5e320>"
      ]
     },
     "metadata": {},
     "output_type": "display_data"
    }
   ],
   "source": [
    "sns.distplot(X['bird']);"
   ]
  },
  {
   "cell_type": "markdown",
   "metadata": {},
   "source": [
    "#### Location & spread of each word embedding"
   ]
  },
  {
   "cell_type": "code",
   "execution_count": 137,
   "metadata": {},
   "outputs": [
    {
     "data": {
      "image/png": "[encoded data removed]",
      "text/plain": [
       "<matplotlib.figure.Figure at 0x7f9d751f18d0>"
      ]
     },
     "metadata": {},
     "output_type": "display_data"
    }
   ],
   "source": [
    "fig, axs = plt.subplots(1,2)\n",
    "sns.distplot(X.mean(), ax=axs[0]);\n",
    "sns.distplot(X.std(), ax=axs[1]);"
   ]
  },
  {
   "cell_type": "markdown",
   "metadata": {},
   "source": [
    "#### What do the features look like?\n",
    "\n",
    "**The features are strongly bimodal.** The usual summary statistics of mean, median and std are not appropriate for bimodal distributions.\n",
    "\n",
    "If you were to randomly select a word, on average its feature representation would have 1.3% for an animal noun."
   ]
  },
  {
   "cell_type": "code",
   "execution_count": 165,
   "metadata": {},
   "outputs": [
    {
     "data": {
      "text/plain": [
       "noun.artifact         0.100604\n",
       "noun.person           0.081092\n",
       "noun.act              0.066654\n",
       "noun.communication    0.060680\n",
       "verb.communication    0.050085\n",
       "dtype: float64"
      ]
     },
     "execution_count": 165,
     "metadata": {},
     "output_type": "execute_result"
    }
   ],
   "source": [
    "S.mean(axis=1).sort_values(ascending=False).head()"
   ]
  },
  {
   "cell_type": "code",
   "execution_count": 163,
   "metadata": {},
   "outputs": [
    {
     "data": {
      "image/png": "[encoded data removed]",
      "text/plain": [
       "<matplotlib.figure.Figure at 0x7f9da3d12c88>"
      ]
     },
     "metadata": {},
     "output_type": "display_data"
    }
   ],
   "source": [
    "fig, axs = plt.subplots(ncols=4, figsize=(10, 4), sharey=True)\n",
    "sns.distplot(S.loc['noun.artifact'], ax=axs[0], kde=False);\n",
    "sns.distplot(S.loc['noun.person'], ax=axs[1], kde=False);\n",
    "sns.distplot(S.loc['noun.act'], ax=axs[2], kde=False);\n",
    "sns.distplot(S.loc['noun.communication'], ax=axs[3], kde=False);"
   ]
  },
  {
   "cell_type": "markdown",
   "metadata": {},
   "source": [
    "#### What proportion of words in the vocab have a non-zero value for each feature?\n",
    "\n",
    "On average across all 41 features, 6% of words have a nonzero entry for features. The highest proportion is 21%."
   ]
  },
  {
   "cell_type": "code",
   "execution_count": 168,
   "metadata": {},
   "outputs": [
    {
     "name": "stdout",
     "output_type": "stream",
     "text": [
      "noun.artifact         0.210702\n",
      "noun.act              0.181796\n",
      "noun.communication    0.151935\n",
      "noun.person           0.135929\n",
      "verb.communication    0.116579\n",
      "dtype: float64\n"
     ]
    },
    {
     "data": {
      "text/plain": [
       "count    41.000000\n",
       "mean      0.060783\n",
       "std       0.048772\n",
       "min       0.002628\n",
       "25%       0.024606\n",
       "50%       0.043717\n",
       "75%       0.091495\n",
       "max       0.210702\n",
       "dtype: float64"
      ]
     },
     "execution_count": 168,
     "metadata": {},
     "output_type": "execute_result"
    }
   ],
   "source": [
    "proportions = S.astype(bool).sum(axis=1) / len(S.columns)\n",
    "print(proportions.sort_values(ascending=False).head())\n",
    "proportions.describe()"
   ]
  },
  {
   "cell_type": "markdown",
   "metadata": {},
   "source": [
    "#### How can I actually measure an association between linguistic features and learnt dimensions?\n",
    "\n",
    "Knowing that the dimensions of the learnt embeddings are normally distributed and that the features are strongly bimodal, what is the best way to measure their correlation? It's clear that Pearson's $r$ and Spearman's $\\rho$ are not appropriate because of the high number of ties.\n",
    "\n",
    "I see two broad approaches:\n",
    "\n",
    "- Remove all 0's and use Pearson's or Spearman's.\n",
    "- Treat the feature as binary and compare means.\n",
    "\n",
    "#### Remove 0's"
   ]
  },
  {
   "cell_type": "markdown",
   "metadata": {},
   "source": [
    "Todo:\n",
    "- Do the two things above in order to find a way to properly measure any association between linguistic features and learnt embeddings.\n",
    "- Use better features (e.g. FrameNet)"
   ]
  },
  {
   "cell_type": "code",
   "execution_count": 186,
   "metadata": {},
   "outputs": [
    {
     "data": {
      "text/html": [
       "<div>\n",
       "<style>\n",
       "    .dataframe thead tr:only-child th {\n",
       "        text-align: right;\n",
       "    }\n",
       "\n",
       "    .dataframe thead th {\n",
       "        text-align: left;\n",
       "    }\n",
       "\n",
       "    .dataframe tbody tr th {\n",
       "        vertical-align: top;\n",
       "    }\n",
       "</style>\n",
       "<table border=\"1\" class=\"dataframe\">\n",
       "  <thead>\n",
       "    <tr style=\"text-align: right;\">\n",
       "      <th>words</th>\n",
       "      <th>in</th>\n",
       "      <th>a</th>\n",
       "      <th>be</th>\n",
       "      <th>have</th>\n",
       "      <th>will</th>\n",
       "      <th>one</th>\n",
       "      <th>two</th>\n",
       "      <th>more</th>\n",
       "      <th>first</th>\n",
       "      <th>up</th>\n",
       "      <th>...</th>\n",
       "      <th>epiphysis</th>\n",
       "      <th>alveolus</th>\n",
       "      <th>antiserum</th>\n",
       "      <th>quirt</th>\n",
       "      <th>polyphosphate</th>\n",
       "      <th>catkin</th>\n",
       "      <th>illumine</th>\n",
       "      <th>thyroglobulin</th>\n",
       "      <th>pushup</th>\n",
       "      <th>compulsivity</th>\n",
       "    </tr>\n",
       "  </thead>\n",
       "  <tbody>\n",
       "    <tr>\n",
       "      <th>noun.Tops</th>\n",
       "      <td>0.000000</td>\n",
       "      <td>0.0</td>\n",
       "      <td>0.0</td>\n",
       "      <td>0.0</td>\n",
       "      <td>0.000000</td>\n",
       "      <td>0.0</td>\n",
       "      <td>0.0</td>\n",
       "      <td>0.0</td>\n",
       "      <td>0.000000</td>\n",
       "      <td>0.0</td>\n",
       "      <td>...</td>\n",
       "      <td>0.0</td>\n",
       "      <td>0.0</td>\n",
       "      <td>0.0</td>\n",
       "      <td>0.0</td>\n",
       "      <td>0.0</td>\n",
       "      <td>0.0</td>\n",
       "      <td>0.0</td>\n",
       "      <td>0.0</td>\n",
       "      <td>0.0</td>\n",
       "      <td>0.0</td>\n",
       "    </tr>\n",
       "    <tr>\n",
       "      <th>noun.act</th>\n",
       "      <td>0.181818</td>\n",
       "      <td>0.0</td>\n",
       "      <td>0.0</td>\n",
       "      <td>0.0</td>\n",
       "      <td>0.000000</td>\n",
       "      <td>0.0</td>\n",
       "      <td>0.0</td>\n",
       "      <td>0.0</td>\n",
       "      <td>0.322581</td>\n",
       "      <td>0.0</td>\n",
       "      <td>...</td>\n",
       "      <td>0.0</td>\n",
       "      <td>0.0</td>\n",
       "      <td>0.0</td>\n",
       "      <td>0.0</td>\n",
       "      <td>0.0</td>\n",
       "      <td>0.0</td>\n",
       "      <td>0.0</td>\n",
       "      <td>0.0</td>\n",
       "      <td>1.0</td>\n",
       "      <td>0.0</td>\n",
       "    </tr>\n",
       "    <tr>\n",
       "      <th>noun.animal</th>\n",
       "      <td>0.000000</td>\n",
       "      <td>0.0</td>\n",
       "      <td>0.0</td>\n",
       "      <td>0.0</td>\n",
       "      <td>0.000000</td>\n",
       "      <td>0.0</td>\n",
       "      <td>0.0</td>\n",
       "      <td>0.0</td>\n",
       "      <td>0.000000</td>\n",
       "      <td>0.0</td>\n",
       "      <td>...</td>\n",
       "      <td>0.0</td>\n",
       "      <td>0.0</td>\n",
       "      <td>0.0</td>\n",
       "      <td>0.0</td>\n",
       "      <td>0.0</td>\n",
       "      <td>0.0</td>\n",
       "      <td>0.0</td>\n",
       "      <td>0.0</td>\n",
       "      <td>0.0</td>\n",
       "      <td>0.0</td>\n",
       "    </tr>\n",
       "    <tr>\n",
       "      <th>noun.artifact</th>\n",
       "      <td>0.090909</td>\n",
       "      <td>0.0</td>\n",
       "      <td>0.0</td>\n",
       "      <td>0.0</td>\n",
       "      <td>0.000000</td>\n",
       "      <td>0.0</td>\n",
       "      <td>0.0</td>\n",
       "      <td>0.0</td>\n",
       "      <td>0.000000</td>\n",
       "      <td>0.0</td>\n",
       "      <td>...</td>\n",
       "      <td>0.0</td>\n",
       "      <td>0.0</td>\n",
       "      <td>0.0</td>\n",
       "      <td>1.0</td>\n",
       "      <td>0.0</td>\n",
       "      <td>0.0</td>\n",
       "      <td>0.0</td>\n",
       "      <td>0.0</td>\n",
       "      <td>0.0</td>\n",
       "      <td>0.0</td>\n",
       "    </tr>\n",
       "    <tr>\n",
       "      <th>noun.attribute</th>\n",
       "      <td>0.090909</td>\n",
       "      <td>0.0</td>\n",
       "      <td>0.0</td>\n",
       "      <td>0.0</td>\n",
       "      <td>0.111111</td>\n",
       "      <td>0.0</td>\n",
       "      <td>0.0</td>\n",
       "      <td>0.0</td>\n",
       "      <td>0.032258</td>\n",
       "      <td>0.0</td>\n",
       "      <td>...</td>\n",
       "      <td>0.0</td>\n",
       "      <td>0.0</td>\n",
       "      <td>0.0</td>\n",
       "      <td>0.0</td>\n",
       "      <td>0.0</td>\n",
       "      <td>0.0</td>\n",
       "      <td>0.0</td>\n",
       "      <td>0.0</td>\n",
       "      <td>0.0</td>\n",
       "      <td>1.0</td>\n",
       "    </tr>\n",
       "  </tbody>\n",
       "</table>\n",
       "<p>5 rows × 4186 columns</p>\n",
       "</div>"
      ],
      "text/plain": [
       "words                 in    a   be  have      will  one  two  more     first  \\\n",
       "noun.Tops       0.000000  0.0  0.0   0.0  0.000000  0.0  0.0   0.0  0.000000   \n",
       "noun.act        0.181818  0.0  0.0   0.0  0.000000  0.0  0.0   0.0  0.322581   \n",
       "noun.animal     0.000000  0.0  0.0   0.0  0.000000  0.0  0.0   0.0  0.000000   \n",
       "noun.artifact   0.090909  0.0  0.0   0.0  0.000000  0.0  0.0   0.0  0.000000   \n",
       "noun.attribute  0.090909  0.0  0.0   0.0  0.111111  0.0  0.0   0.0  0.032258   \n",
       "\n",
       "words            up      ...       epiphysis  alveolus  antiserum  quirt  \\\n",
       "noun.Tops       0.0      ...             0.0       0.0        0.0    0.0   \n",
       "noun.act        0.0      ...             0.0       0.0        0.0    0.0   \n",
       "noun.animal     0.0      ...             0.0       0.0        0.0    0.0   \n",
       "noun.artifact   0.0      ...             0.0       0.0        0.0    1.0   \n",
       "noun.attribute  0.0      ...             0.0       0.0        0.0    0.0   \n",
       "\n",
       "words           polyphosphate  catkin  illumine  thyroglobulin  pushup  \\\n",
       "noun.Tops                 0.0     0.0       0.0            0.0     0.0   \n",
       "noun.act                  0.0     0.0       0.0            0.0     1.0   \n",
       "noun.animal               0.0     0.0       0.0            0.0     0.0   \n",
       "noun.artifact             0.0     0.0       0.0            0.0     0.0   \n",
       "noun.attribute            0.0     0.0       0.0            0.0     0.0   \n",
       "\n",
       "words           compulsivity  \n",
       "noun.Tops                0.0  \n",
       "noun.act                 0.0  \n",
       "noun.animal              0.0  \n",
       "noun.artifact            0.0  \n",
       "noun.attribute           1.0  \n",
       "\n",
       "[5 rows x 4186 columns]"
      ]
     },
     "execution_count": 186,
     "metadata": {},
     "output_type": "execute_result"
    }
   ],
   "source": [
    "S.head()"
   ]
  },
  {
   "cell_type": "code",
   "execution_count": 187,
   "metadata": {},
   "outputs": [
    {
     "data": {
      "text/html": [
       "<div>\n",
       "<style>\n",
       "    .dataframe thead tr:only-child th {\n",
       "        text-align: right;\n",
       "    }\n",
       "\n",
       "    .dataframe thead th {\n",
       "        text-align: left;\n",
       "    }\n",
       "\n",
       "    .dataframe tbody tr th {\n",
       "        vertical-align: top;\n",
       "    }\n",
       "</style>\n",
       "<table border=\"1\" class=\"dataframe\">\n",
       "  <thead>\n",
       "    <tr style=\"text-align: right;\">\n",
       "      <th>words</th>\n",
       "      <th>in</th>\n",
       "      <th>a</th>\n",
       "      <th>be</th>\n",
       "      <th>have</th>\n",
       "      <th>will</th>\n",
       "      <th>one</th>\n",
       "      <th>two</th>\n",
       "      <th>more</th>\n",
       "      <th>first</th>\n",
       "      <th>up</th>\n",
       "      <th>...</th>\n",
       "      <th>epiphysis</th>\n",
       "      <th>alveolus</th>\n",
       "      <th>antiserum</th>\n",
       "      <th>quirt</th>\n",
       "      <th>polyphosphate</th>\n",
       "      <th>catkin</th>\n",
       "      <th>illumine</th>\n",
       "      <th>thyroglobulin</th>\n",
       "      <th>pushup</th>\n",
       "      <th>compulsivity</th>\n",
       "    </tr>\n",
       "  </thead>\n",
       "  <tbody>\n",
       "    <tr>\n",
       "      <th>noun.Tops</th>\n",
       "      <td>True</td>\n",
       "      <td>True</td>\n",
       "      <td>True</td>\n",
       "      <td>True</td>\n",
       "      <td>True</td>\n",
       "      <td>True</td>\n",
       "      <td>True</td>\n",
       "      <td>True</td>\n",
       "      <td>True</td>\n",
       "      <td>True</td>\n",
       "      <td>...</td>\n",
       "      <td>True</td>\n",
       "      <td>True</td>\n",
       "      <td>True</td>\n",
       "      <td>True</td>\n",
       "      <td>True</td>\n",
       "      <td>True</td>\n",
       "      <td>True</td>\n",
       "      <td>True</td>\n",
       "      <td>True</td>\n",
       "      <td>True</td>\n",
       "    </tr>\n",
       "    <tr>\n",
       "      <th>noun.act</th>\n",
       "      <td>False</td>\n",
       "      <td>True</td>\n",
       "      <td>True</td>\n",
       "      <td>True</td>\n",
       "      <td>True</td>\n",
       "      <td>True</td>\n",
       "      <td>True</td>\n",
       "      <td>True</td>\n",
       "      <td>False</td>\n",
       "      <td>True</td>\n",
       "      <td>...</td>\n",
       "      <td>True</td>\n",
       "      <td>True</td>\n",
       "      <td>True</td>\n",
       "      <td>True</td>\n",
       "      <td>True</td>\n",
       "      <td>True</td>\n",
       "      <td>True</td>\n",
       "      <td>True</td>\n",
       "      <td>False</td>\n",
       "      <td>True</td>\n",
       "    </tr>\n",
       "    <tr>\n",
       "      <th>noun.animal</th>\n",
       "      <td>True</td>\n",
       "      <td>True</td>\n",
       "      <td>True</td>\n",
       "      <td>True</td>\n",
       "      <td>True</td>\n",
       "      <td>True</td>\n",
       "      <td>True</td>\n",
       "      <td>True</td>\n",
       "      <td>True</td>\n",
       "      <td>True</td>\n",
       "      <td>...</td>\n",
       "      <td>True</td>\n",
       "      <td>True</td>\n",
       "      <td>True</td>\n",
       "      <td>True</td>\n",
       "      <td>True</td>\n",
       "      <td>True</td>\n",
       "      <td>True</td>\n",
       "      <td>True</td>\n",
       "      <td>True</td>\n",
       "      <td>True</td>\n",
       "    </tr>\n",
       "    <tr>\n",
       "      <th>noun.artifact</th>\n",
       "      <td>False</td>\n",
       "      <td>True</td>\n",
       "      <td>True</td>\n",
       "      <td>True</td>\n",
       "      <td>True</td>\n",
       "      <td>True</td>\n",
       "      <td>True</td>\n",
       "      <td>True</td>\n",
       "      <td>True</td>\n",
       "      <td>True</td>\n",
       "      <td>...</td>\n",
       "      <td>True</td>\n",
       "      <td>True</td>\n",
       "      <td>True</td>\n",
       "      <td>False</td>\n",
       "      <td>True</td>\n",
       "      <td>True</td>\n",
       "      <td>True</td>\n",
       "      <td>True</td>\n",
       "      <td>True</td>\n",
       "      <td>True</td>\n",
       "    </tr>\n",
       "    <tr>\n",
       "      <th>noun.attribute</th>\n",
       "      <td>False</td>\n",
       "      <td>True</td>\n",
       "      <td>True</td>\n",
       "      <td>True</td>\n",
       "      <td>False</td>\n",
       "      <td>True</td>\n",
       "      <td>True</td>\n",
       "      <td>True</td>\n",
       "      <td>False</td>\n",
       "      <td>True</td>\n",
       "      <td>...</td>\n",
       "      <td>True</td>\n",
       "      <td>True</td>\n",
       "      <td>True</td>\n",
       "      <td>True</td>\n",
       "      <td>True</td>\n",
       "      <td>True</td>\n",
       "      <td>True</td>\n",
       "      <td>True</td>\n",
       "      <td>True</td>\n",
       "      <td>False</td>\n",
       "    </tr>\n",
       "  </tbody>\n",
       "</table>\n",
       "<p>5 rows × 4186 columns</p>\n",
       "</div>"
      ],
      "text/plain": [
       "words              in     a    be  have   will   one   two  more  first    up  \\\n",
       "noun.Tops        True  True  True  True   True  True  True  True   True  True   \n",
       "noun.act        False  True  True  True   True  True  True  True  False  True   \n",
       "noun.animal      True  True  True  True   True  True  True  True   True  True   \n",
       "noun.artifact   False  True  True  True   True  True  True  True   True  True   \n",
       "noun.attribute  False  True  True  True  False  True  True  True  False  True   \n",
       "\n",
       "words               ...       epiphysis  alveolus  antiserum  quirt  \\\n",
       "noun.Tops           ...            True      True       True   True   \n",
       "noun.act            ...            True      True       True   True   \n",
       "noun.animal         ...            True      True       True   True   \n",
       "noun.artifact       ...            True      True       True  False   \n",
       "noun.attribute      ...            True      True       True   True   \n",
       "\n",
       "words           polyphosphate  catkin  illumine  thyroglobulin  pushup  \\\n",
       "noun.Tops                True    True      True           True    True   \n",
       "noun.act                 True    True      True           True   False   \n",
       "noun.animal              True    True      True           True    True   \n",
       "noun.artifact            True    True      True           True    True   \n",
       "noun.attribute           True    True      True           True    True   \n",
       "\n",
       "words           compulsivity  \n",
       "noun.Tops               True  \n",
       "noun.act                True  \n",
       "noun.animal             True  \n",
       "noun.artifact           True  \n",
       "noun.attribute         False  \n",
       "\n",
       "[5 rows x 4186 columns]"
      ]
     },
     "execution_count": 187,
     "metadata": {},
     "output_type": "execute_result"
    }
   ],
   "source": [
    "(S == 0).head()"
   ]
  },
  {
   "cell_type": "markdown",
   "metadata": {},
   "source": [
    "#### Treat linguistic features as binary\n",
    "\n",
    "One suggestion [here](https://stats.stackexchange.com/questions/102778/correlations-between-continuous-and-categorical-nominal-variables) is to "
   ]
  },
  {
   "cell_type": "code",
   "execution_count": 175,
   "metadata": {},
   "outputs": [
    {
     "data": {
      "text/html": [
       "<div>\n",
       "<style>\n",
       "    .dataframe thead tr:only-child th {\n",
       "        text-align: right;\n",
       "    }\n",
       "\n",
       "    .dataframe thead th {\n",
       "        text-align: left;\n",
       "    }\n",
       "\n",
       "    .dataframe tbody tr th {\n",
       "        vertical-align: top;\n",
       "    }\n",
       "</style>\n",
       "<table border=\"1\" class=\"dataframe\">\n",
       "  <thead>\n",
       "    <tr style=\"text-align: right;\">\n",
       "      <th>words</th>\n",
       "      <th>in</th>\n",
       "      <th>a</th>\n",
       "      <th>be</th>\n",
       "      <th>have</th>\n",
       "      <th>will</th>\n",
       "      <th>one</th>\n",
       "      <th>two</th>\n",
       "      <th>more</th>\n",
       "      <th>first</th>\n",
       "      <th>up</th>\n",
       "      <th>...</th>\n",
       "      <th>epiphysis</th>\n",
       "      <th>alveolus</th>\n",
       "      <th>antiserum</th>\n",
       "      <th>quirt</th>\n",
       "      <th>polyphosphate</th>\n",
       "      <th>catkin</th>\n",
       "      <th>illumine</th>\n",
       "      <th>thyroglobulin</th>\n",
       "      <th>pushup</th>\n",
       "      <th>compulsivity</th>\n",
       "    </tr>\n",
       "  </thead>\n",
       "  <tbody>\n",
       "    <tr>\n",
       "      <th>noun.Tops</th>\n",
       "      <td>0</td>\n",
       "      <td>0</td>\n",
       "      <td>0</td>\n",
       "      <td>0</td>\n",
       "      <td>0</td>\n",
       "      <td>0</td>\n",
       "      <td>0</td>\n",
       "      <td>0</td>\n",
       "      <td>0</td>\n",
       "      <td>0</td>\n",
       "      <td>...</td>\n",
       "      <td>0</td>\n",
       "      <td>0</td>\n",
       "      <td>0</td>\n",
       "      <td>0</td>\n",
       "      <td>0</td>\n",
       "      <td>0</td>\n",
       "      <td>0</td>\n",
       "      <td>0</td>\n",
       "      <td>0</td>\n",
       "      <td>0</td>\n",
       "    </tr>\n",
       "    <tr>\n",
       "      <th>noun.act</th>\n",
       "      <td>1</td>\n",
       "      <td>0</td>\n",
       "      <td>0</td>\n",
       "      <td>0</td>\n",
       "      <td>0</td>\n",
       "      <td>0</td>\n",
       "      <td>0</td>\n",
       "      <td>0</td>\n",
       "      <td>1</td>\n",
       "      <td>0</td>\n",
       "      <td>...</td>\n",
       "      <td>0</td>\n",
       "      <td>0</td>\n",
       "      <td>0</td>\n",
       "      <td>0</td>\n",
       "      <td>0</td>\n",
       "      <td>0</td>\n",
       "      <td>0</td>\n",
       "      <td>0</td>\n",
       "      <td>1</td>\n",
       "      <td>0</td>\n",
       "    </tr>\n",
       "    <tr>\n",
       "      <th>noun.animal</th>\n",
       "      <td>0</td>\n",
       "      <td>0</td>\n",
       "      <td>0</td>\n",
       "      <td>0</td>\n",
       "      <td>0</td>\n",
       "      <td>0</td>\n",
       "      <td>0</td>\n",
       "      <td>0</td>\n",
       "      <td>0</td>\n",
       "      <td>0</td>\n",
       "      <td>...</td>\n",
       "      <td>0</td>\n",
       "      <td>0</td>\n",
       "      <td>0</td>\n",
       "      <td>0</td>\n",
       "      <td>0</td>\n",
       "      <td>0</td>\n",
       "      <td>0</td>\n",
       "      <td>0</td>\n",
       "      <td>0</td>\n",
       "      <td>0</td>\n",
       "    </tr>\n",
       "    <tr>\n",
       "      <th>noun.artifact</th>\n",
       "      <td>1</td>\n",
       "      <td>0</td>\n",
       "      <td>0</td>\n",
       "      <td>0</td>\n",
       "      <td>0</td>\n",
       "      <td>0</td>\n",
       "      <td>0</td>\n",
       "      <td>0</td>\n",
       "      <td>0</td>\n",
       "      <td>0</td>\n",
       "      <td>...</td>\n",
       "      <td>0</td>\n",
       "      <td>0</td>\n",
       "      <td>0</td>\n",
       "      <td>1</td>\n",
       "      <td>0</td>\n",
       "      <td>0</td>\n",
       "      <td>0</td>\n",
       "      <td>0</td>\n",
       "      <td>0</td>\n",
       "      <td>0</td>\n",
       "    </tr>\n",
       "    <tr>\n",
       "      <th>noun.attribute</th>\n",
       "      <td>1</td>\n",
       "      <td>0</td>\n",
       "      <td>0</td>\n",
       "      <td>0</td>\n",
       "      <td>1</td>\n",
       "      <td>0</td>\n",
       "      <td>0</td>\n",
       "      <td>0</td>\n",
       "      <td>1</td>\n",
       "      <td>0</td>\n",
       "      <td>...</td>\n",
       "      <td>0</td>\n",
       "      <td>0</td>\n",
       "      <td>0</td>\n",
       "      <td>0</td>\n",
       "      <td>0</td>\n",
       "      <td>0</td>\n",
       "      <td>0</td>\n",
       "      <td>0</td>\n",
       "      <td>0</td>\n",
       "      <td>1</td>\n",
       "    </tr>\n",
       "  </tbody>\n",
       "</table>\n",
       "<p>5 rows × 4186 columns</p>\n",
       "</div>"
      ],
      "text/plain": [
       "words           in  a  be  have  will  one  two  more  first  up  \\\n",
       "noun.Tops        0  0   0     0     0    0    0     0      0   0   \n",
       "noun.act         1  0   0     0     0    0    0     0      1   0   \n",
       "noun.animal      0  0   0     0     0    0    0     0      0   0   \n",
       "noun.artifact    1  0   0     0     0    0    0     0      0   0   \n",
       "noun.attribute   1  0   0     0     1    0    0     0      1   0   \n",
       "\n",
       "words               ...       epiphysis  alveolus  antiserum  quirt  \\\n",
       "noun.Tops           ...               0         0          0      0   \n",
       "noun.act            ...               0         0          0      0   \n",
       "noun.animal         ...               0         0          0      0   \n",
       "noun.artifact       ...               0         0          0      1   \n",
       "noun.attribute      ...               0         0          0      0   \n",
       "\n",
       "words           polyphosphate  catkin  illumine  thyroglobulin  pushup  \\\n",
       "noun.Tops                   0       0         0              0       0   \n",
       "noun.act                    0       0         0              0       1   \n",
       "noun.animal                 0       0         0              0       0   \n",
       "noun.artifact               0       0         0              0       0   \n",
       "noun.attribute              0       0         0              0       0   \n",
       "\n",
       "words           compulsivity  \n",
       "noun.Tops                  0  \n",
       "noun.act                   0  \n",
       "noun.animal                0  \n",
       "noun.artifact              0  \n",
       "noun.attribute             1  \n",
       "\n",
       "[5 rows x 4186 columns]"
      ]
     },
     "execution_count": 175,
     "metadata": {},
     "output_type": "execute_result"
    }
   ],
   "source": [
    "S.astype(bool).astype(int).head()"
   ]
  },
  {
   "cell_type": "markdown",
   "metadata": {},
   "source": [
    "#### How sparse is the feature matrix?\n",
    "\n",
    "93% of the entries in the feature matrix are zero."
   ]
  },
  {
   "cell_type": "code",
   "execution_count": null,
   "metadata": {
    "collapsed": true
   },
   "outputs": [],
   "source": [
    "(subset.size - np.count_nonzero(subset.values)) / subset.size"
   ]
  },
  {
   "cell_type": "markdown",
   "metadata": {},
   "source": [
    "#### On average, how correlated are the dimensions with the linguistic features?\n",
    "\n",
    "This plot suggests \"not really\". In fact it looks very normal. That is, on average there is **no** correlation between the dimensions of a word embedding and linguistic features.\n",
    "\n",
    "This plot isn't that interesting. It's telling me the average of 40 numbers is normally distributed, which comes from CLT."
   ]
  },
  {
   "cell_type": "code",
   "execution_count": 7,
   "metadata": {},
   "outputs": [
    {
     "data": {
      "image/png": "[encoded data removed]",
      "text/plain": [
       "<matplotlib.figure.Figure at 0x7f7afcb4d860>"
      ]
     },
     "metadata": {},
     "output_type": "display_data"
    }
   ],
   "source": [
    "sns.distplot(correlations.mean(axis=1));"
   ]
  },
  {
   "cell_type": "markdown",
   "metadata": {},
   "source": [
    "#### How correlated are the features and learnt dimensions?\n",
    "\n",
    "This is a more meaningful plot. It says that the correlations are normally distributed around 0."
   ]
  },
  {
   "cell_type": "code",
   "execution_count": 8,
   "metadata": {},
   "outputs": [
    {
     "data": {
      "image/png": "[encoded data removed]",
      "text/plain": [
       "<matplotlib.figure.Figure at 0x7f7aff287908>"
      ]
     },
     "metadata": {},
     "output_type": "display_data"
    }
   ],
   "source": [
    "sns.distplot(correlations.values.flatten());"
   ]
  },
  {
   "cell_type": "markdown",
   "metadata": {},
   "source": [
    "The following summary shows that the $(41*300)$ correlations are centered at 0 with std 0.05. The largest is 0.32, and the smallest is 0.30. These don't seem like very high numbers. The 75% percentile is 0.03. By looking back at the histogram above, it's obviously these dimensions are not highly correlated with these linguistic features.\n",
    "\n",
    "Another important point from this is that the distribution of correlations is symmetric. So using the the max, rather than the max absolute, seems arbitrary. It doesn't allow for reversed dimensions."
   ]
  },
  {
   "cell_type": "code",
   "execution_count": 9,
   "metadata": {},
   "outputs": [
    {
     "data": {
      "text/plain": [
       "count    12300.000000\n",
       "mean        -0.000063\n",
       "std          0.048710\n",
       "min         -0.298277\n",
       "25%         -0.028078\n",
       "50%          0.000444\n",
       "75%          0.028427\n",
       "max          0.318956\n",
       "dtype: float64"
      ]
     },
     "execution_count": 9,
     "metadata": {},
     "output_type": "execute_result"
    }
   ],
   "source": [
    "pd.Series(correlations.values.flatten()).describe()"
   ]
  },
  {
   "cell_type": "markdown",
   "metadata": {},
   "source": [
    "#### What do the maximum correlations look like?\n",
    "\n",
    "These are all positive. But are they different enough from 0? What test can I use here?"
   ]
  },
  {
   "cell_type": "code",
   "execution_count": 10,
   "metadata": {},
   "outputs": [
    {
     "data": {
      "image/png": "[encoded data removed]",
      "text/plain": [
       "<matplotlib.figure.Figure at 0x7f7afc27c6a0>"
      ]
     },
     "metadata": {},
     "output_type": "display_data"
    }
   ],
   "source": [
    "sns.distplot(correlations.max(axis=1));"
   ]
  },
  {
   "cell_type": "code",
   "execution_count": 14,
   "metadata": {},
   "outputs": [
    {
     "data": {
      "image/png": "[encoded data removed]",
      "text/plain": [
       "<matplotlib.figure.Figure at 0x7f7afe2bc390>"
      ]
     },
     "metadata": {},
     "output_type": "display_data"
    }
   ],
   "source": [
    "sns.heatmap(correlations);"
   ]
  },
  {
   "cell_type": "markdown",
   "metadata": {},
   "source": [
    "## Todo\n",
    "- Use different linguistic features (semantic, syntactic, etc.)\n",
    "- Use different correlation metric\n",
    "- Explore the correlations, alignments and top k words more\n",
    "- Levin's verb classification\n",
    "\n",
    "## Explore correlations, alignments and top k words\n",
    "\n",
    "#### Top K words\n",
    "In the paper they give the top K words for a dimension. The code prints, for each dimension, the dimension number, the aligned linguistic feature, the correlation between the two previous things, and the top k words associated with the dimension. I understand the last bit to mean \"the k words with the highest value in the dimension\"."
   ]
  },
  {
   "cell_type": "code",
   "execution_count": null,
   "metadata": {
    "collapsed": true
   },
   "outputs": [],
   "source": [
    "k = 50\n",
    "top_k = pd.DataFrame(alignments, columns=['feature'])\n",
    "top_k['correlation'] = correlations.max(axis=1)\n",
    "tmp = pd.DataFrame([embeddings.loc[i].nlargest(n=k).index for i in top_k.index])\n",
    "top_k = pd.merge(top_k, tmp, left_index=True, right_index=True)\n",
    "\n",
    "top_k.head()"
   ]
  },
  {
   "cell_type": "markdown",
   "metadata": {},
   "source": [
    "Most of these top words seem like junk. However, it'd be good to tease this apart a bit more. Here are some questions I'd like to ask:\n",
    "- Are the top k words even of the right POS?\n",
    "- Which features are missing (i.e. not the most correlated with any dimension)?\n",
    "- How can I objectively measure whether the top k words are \"correct\"?"
   ]
  },
  {
   "cell_type": "code",
   "execution_count": null,
   "metadata": {
    "collapsed": true
   },
   "outputs": [],
   "source": [
    "def get_dims(feature, df=top_k):\n",
    "    \"\"\"Return the dimensions aligned with `feature` in `df`.\"\"\"\n",
    "    return df[df['feature']==feature]\n",
    "\n",
    "get_dims('noun.animal')"
   ]
  },
  {
   "cell_type": "markdown",
   "metadata": {},
   "source": [
    "#### Which features are not the most correlated with any dimension?"
   ]
  },
  {
   "cell_type": "code",
   "execution_count": null,
   "metadata": {
    "collapsed": true
   },
   "outputs": [],
   "source": [
    "subset.index.difference(top_k['feature'])"
   ]
  },
  {
   "cell_type": "markdown",
   "metadata": {},
   "source": [
    "#### FrameNet\n",
    "\n",
    "- What is the appropriate way to use FrameNet resources as features?"
   ]
  },
  {
   "cell_type": "code",
   "execution_count": null,
   "metadata": {
    "collapsed": true
   },
   "outputs": [],
   "source": [
    "from nltk.corpus import framenet as fn\n",
    "\n",
    "fn.lus('happen.v')[1]\n",
    "\n",
    "tagged_chunks[:20]"
   ]
  }
 ],
 "metadata": {
  "kernelspec": {
   "display_name": "Python 3",
   "language": "python",
   "name": "python3"
  },
  "language_info": {
   "codemirror_mode": {
    "name": "ipython",
    "version": 3
   },
   "file_extension": ".py",
   "mimetype": "text/x-python",
   "name": "python",
   "nbconvert_exporter": "python",
   "pygments_lexer": "ipython3",
   "version": "3.6.1"
  }
 },
 "nbformat": 4,
 "nbformat_minor": 2
}
