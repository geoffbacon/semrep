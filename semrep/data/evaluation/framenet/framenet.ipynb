{
 "cells": [
  {
   "cell_type": "markdown",
   "metadata": {},
   "source": [
    "# FrameNet\n",
    "\n",
    "I see three ways of getting features from FrameNet:\n",
    "\n",
    "1. Does word $j$ evoke frame $i$?\n",
    "2. Something with frame relations\n",
    "3. Something with frame elements"
   ]
  },
  {
   "cell_type": "code",
   "execution_count": 1,
   "metadata": {
    "collapsed": true
   },
   "outputs": [],
   "source": [
    "import pandas as pd\n",
    "from nltk.corpus import framenet as fn"
   ]
  },
  {
   "cell_type": "markdown",
   "metadata": {},
   "source": [
    "### 1. Does word $j$ evoke frame $i$?\n",
    "\n",
    "**In sum: too sparse to use.**"
   ]
  },
  {
   "cell_type": "code",
   "execution_count": 43,
   "metadata": {
    "collapsed": true
   },
   "outputs": [],
   "source": [
    "def get_lus(frame):\n",
    "    \"\"\"Helper to get lexemes from frame.\"\"\"\n",
    "    lus = list(frame['lexUnit'].keys())\n",
    "    return [k.partition('.')[0] for k in lus]"
   ]
  },
  {
   "cell_type": "code",
   "execution_count": 116,
   "metadata": {},
   "outputs": [],
   "source": [
    "all_frames = fn.frames('.*')\n",
    "all_frame_names = [f.name for f in all_frames]\n",
    "all_lus = [get_lus(f) for f in all_frames]\n",
    "all_lus = [item for sublist in all_lus for item in sublist]\n",
    "all_lus = list(set(all_lus))"
   ]
  },
  {
   "cell_type": "code",
   "execution_count": 125,
   "metadata": {},
   "outputs": [],
   "source": [
    "evoke = pd.DataFrame(0, index=all_frame_names, columns=all_lus)\n",
    "for frame in all_frames:\n",
    "    name = frame.name\n",
    "    lus = get_lus(frame)\n",
    "    for lu in lus:\n",
    "        evoke[lu][name] += 1"
   ]
  },
  {
   "cell_type": "markdown",
   "metadata": {},
   "source": [
    "Most words evoke one frame, some two, few three."
   ]
  },
  {
   "cell_type": "code",
   "execution_count": 128,
   "metadata": {},
   "outputs": [
    {
     "data": {
      "text/plain": [
       "1    9014\n",
       "2     402\n",
       "3       5\n",
       "dtype: int64"
      ]
     },
     "execution_count": 128,
     "metadata": {},
     "output_type": "execute_result"
    }
   ],
   "source": [
    "evoke.max().value_counts()"
   ]
  },
  {
   "cell_type": "code",
   "execution_count": 130,
   "metadata": {},
   "outputs": [
    {
     "data": {
      "text/html": [
       "<div>\n",
       "<style>\n",
       "    .dataframe thead tr:only-child th {\n",
       "        text-align: right;\n",
       "    }\n",
       "\n",
       "    .dataframe thead th {\n",
       "        text-align: left;\n",
       "    }\n",
       "\n",
       "    .dataframe tbody tr th {\n",
       "        vertical-align: top;\n",
       "    }\n",
       "</style>\n",
       "<table border=\"1\" class=\"dataframe\">\n",
       "  <thead>\n",
       "    <tr style=\"text-align: right;\">\n",
       "      <th></th>\n",
       "      <th>blast</th>\n",
       "      <th>crimson</th>\n",
       "      <th>desist</th>\n",
       "      <th>major general</th>\n",
       "      <th>desolate</th>\n",
       "      <th>sandspit</th>\n",
       "      <th>afterwards</th>\n",
       "      <th>seat</th>\n",
       "      <th>slog</th>\n",
       "      <th>cajole</th>\n",
       "      <th>...</th>\n",
       "      <th>pastry</th>\n",
       "      <th>pasha</th>\n",
       "      <th>amass</th>\n",
       "      <th>technician</th>\n",
       "      <th>shall</th>\n",
       "      <th>rill</th>\n",
       "      <th>in front (of)</th>\n",
       "      <th>satisfied</th>\n",
       "      <th>lavatory</th>\n",
       "      <th>hem</th>\n",
       "    </tr>\n",
       "  </thead>\n",
       "  <tbody>\n",
       "    <tr>\n",
       "      <th>Abandonment</th>\n",
       "      <td>0</td>\n",
       "      <td>0</td>\n",
       "      <td>0</td>\n",
       "      <td>0</td>\n",
       "      <td>0</td>\n",
       "      <td>0</td>\n",
       "      <td>0</td>\n",
       "      <td>0</td>\n",
       "      <td>0</td>\n",
       "      <td>0</td>\n",
       "      <td>...</td>\n",
       "      <td>0</td>\n",
       "      <td>0</td>\n",
       "      <td>0</td>\n",
       "      <td>0</td>\n",
       "      <td>0</td>\n",
       "      <td>0</td>\n",
       "      <td>0</td>\n",
       "      <td>0</td>\n",
       "      <td>0</td>\n",
       "      <td>0</td>\n",
       "    </tr>\n",
       "    <tr>\n",
       "      <th>Abounding_with</th>\n",
       "      <td>0</td>\n",
       "      <td>0</td>\n",
       "      <td>0</td>\n",
       "      <td>0</td>\n",
       "      <td>0</td>\n",
       "      <td>0</td>\n",
       "      <td>0</td>\n",
       "      <td>0</td>\n",
       "      <td>0</td>\n",
       "      <td>0</td>\n",
       "      <td>...</td>\n",
       "      <td>0</td>\n",
       "      <td>0</td>\n",
       "      <td>0</td>\n",
       "      <td>0</td>\n",
       "      <td>0</td>\n",
       "      <td>0</td>\n",
       "      <td>0</td>\n",
       "      <td>0</td>\n",
       "      <td>0</td>\n",
       "      <td>0</td>\n",
       "    </tr>\n",
       "    <tr>\n",
       "      <th>Absorb_heat</th>\n",
       "      <td>0</td>\n",
       "      <td>0</td>\n",
       "      <td>0</td>\n",
       "      <td>0</td>\n",
       "      <td>0</td>\n",
       "      <td>0</td>\n",
       "      <td>0</td>\n",
       "      <td>0</td>\n",
       "      <td>0</td>\n",
       "      <td>0</td>\n",
       "      <td>...</td>\n",
       "      <td>0</td>\n",
       "      <td>0</td>\n",
       "      <td>0</td>\n",
       "      <td>0</td>\n",
       "      <td>0</td>\n",
       "      <td>0</td>\n",
       "      <td>0</td>\n",
       "      <td>0</td>\n",
       "      <td>0</td>\n",
       "      <td>0</td>\n",
       "    </tr>\n",
       "    <tr>\n",
       "      <th>Abundance</th>\n",
       "      <td>0</td>\n",
       "      <td>0</td>\n",
       "      <td>0</td>\n",
       "      <td>0</td>\n",
       "      <td>0</td>\n",
       "      <td>0</td>\n",
       "      <td>0</td>\n",
       "      <td>0</td>\n",
       "      <td>0</td>\n",
       "      <td>0</td>\n",
       "      <td>...</td>\n",
       "      <td>0</td>\n",
       "      <td>0</td>\n",
       "      <td>0</td>\n",
       "      <td>0</td>\n",
       "      <td>0</td>\n",
       "      <td>0</td>\n",
       "      <td>0</td>\n",
       "      <td>0</td>\n",
       "      <td>0</td>\n",
       "      <td>0</td>\n",
       "    </tr>\n",
       "    <tr>\n",
       "      <th>Abusing</th>\n",
       "      <td>0</td>\n",
       "      <td>0</td>\n",
       "      <td>0</td>\n",
       "      <td>0</td>\n",
       "      <td>0</td>\n",
       "      <td>0</td>\n",
       "      <td>0</td>\n",
       "      <td>0</td>\n",
       "      <td>0</td>\n",
       "      <td>0</td>\n",
       "      <td>...</td>\n",
       "      <td>0</td>\n",
       "      <td>0</td>\n",
       "      <td>0</td>\n",
       "      <td>0</td>\n",
       "      <td>0</td>\n",
       "      <td>0</td>\n",
       "      <td>0</td>\n",
       "      <td>0</td>\n",
       "      <td>0</td>\n",
       "      <td>0</td>\n",
       "    </tr>\n",
       "  </tbody>\n",
       "</table>\n",
       "<p>5 rows × 9421 columns</p>\n",
       "</div>"
      ],
      "text/plain": [
       "                blast  crimson  desist  major general  desolate  sandspit  \\\n",
       "Abandonment         0        0       0              0         0         0   \n",
       "Abounding_with      0        0       0              0         0         0   \n",
       "Absorb_heat         0        0       0              0         0         0   \n",
       "Abundance           0        0       0              0         0         0   \n",
       "Abusing             0        0       0              0         0         0   \n",
       "\n",
       "                afterwards  seat  slog  cajole ...   pastry  pasha  amass  \\\n",
       "Abandonment              0     0     0       0 ...        0      0      0   \n",
       "Abounding_with           0     0     0       0 ...        0      0      0   \n",
       "Absorb_heat              0     0     0       0 ...        0      0      0   \n",
       "Abundance                0     0     0       0 ...        0      0      0   \n",
       "Abusing                  0     0     0       0 ...        0      0      0   \n",
       "\n",
       "                technician  shall  rill  in front (of)  satisfied  lavatory  \\\n",
       "Abandonment              0      0     0              0          0         0   \n",
       "Abounding_with           0      0     0              0          0         0   \n",
       "Absorb_heat              0      0     0              0          0         0   \n",
       "Abundance                0      0     0              0          0         0   \n",
       "Abusing                  0      0     0              0          0         0   \n",
       "\n",
       "                hem  \n",
       "Abandonment       0  \n",
       "Abounding_with    0  \n",
       "Absorb_heat       0  \n",
       "Abundance         0  \n",
       "Abusing           0  \n",
       "\n",
       "[5 rows x 9421 columns]"
      ]
     },
     "execution_count": 130,
     "metadata": {},
     "output_type": "execute_result"
    }
   ],
   "source": [
    "evoke.head()"
   ]
  },
  {
   "cell_type": "markdown",
   "metadata": {},
   "source": [
    "### 2. Frame relations"
   ]
  },
  {
   "cell_type": "code",
   "execution_count": 169,
   "metadata": {},
   "outputs": [
    {
     "data": {
      "text/plain": [
       "dict_keys(['subID', 'supID', 'subFrameName', 'superFrameName', 'ID', '_type', 'feRelations', 'type', 'superFrame', 'Parent', 'subFrame', 'Child'])"
      ]
     },
     "execution_count": 169,
     "metadata": {},
     "output_type": "execute_result"
    }
   ],
   "source": [
    "f = all_frames[4]\n",
    "relations = f.frameRelations[0]\n",
    "relations.keys()"
   ]
  },
  {
   "cell_type": "code",
   "execution_count": 175,
   "metadata": {},
   "outputs": [
    {
     "data": {
      "text/plain": [
       "700"
      ]
     },
     "execution_count": 175,
     "metadata": {},
     "output_type": "execute_result"
    }
   ],
   "source": [
    "relations.supID"
   ]
  },
  {
   "cell_type": "code",
   "execution_count": 176,
   "metadata": {},
   "outputs": [
    {
     "data": {
      "text/plain": [
       "frame (700): Committing_crime\n",
       "\n",
       "[URL] https://framenet2.icsi.berkeley.edu/fnReports/data/frame/Committing_crime.xml\n",
       "\n",
       "[definition]\n",
       "  A Perpetrator (generally intentionally) commits a Crime, i.e.\n",
       "  does something not permitted by the laws of society.  'They\n",
       "  perpetrated a felony by substituting a lie for negotiations.'\n",
       "  'The suspect had allegedly committed the crime to gain the\n",
       "  attention of a female celebrity.'\n",
       "\n",
       "[semTypes] 0 semantic types\n",
       "\n",
       "[frameRelations] 12 frame relations\n",
       "  <Parent=Committing_crime -- Inheritance -> Child=Abusing>\n",
       "  <Parent=Committing_crime -- Inheritance -> Child=Kidnapping>\n",
       "  <Parent=Committing_crime -- Inheritance -> Child=Piracy>\n",
       "  <Parent=Committing_crime -- Inheritance -> Child=Rape>\n",
       "  <Parent=Committing_crime -- Inheritance -> Child=Robbery>\n",
       "  <Parent=Committing_crime -- Inheritance -> Child=Smuggling>\n",
       "  <Parent=Committing_crime -- Inheritance -> Child=Theft>\n",
       "  <Parent=Misdeed -- Inheritance -> Child=Committing_crime>\n",
       "  <Complex=Crime_scenario -- Subframe -> Component=Committing_crime>\n",
       "  <Parent=Committing_crime -- Using -> Child=Offenses>\n",
       "  <Parent=Legality -- Using -> Child=Committing_crime>\n",
       "  <Earlier=Committing_crime -- Precedes -> Later=Criminal_investigation>\n",
       "\n",
       "[lexUnit] 4 lexical units\n",
       "  commission.n (12702), commit.v (8770), crime.n (11424),\n",
       "  perpetrate.v (8771)\n",
       "\n",
       "\n",
       "[FE] 10 frame elements\n",
       "            Core: Perpetrator (4600)\n",
       "Core-Unexpressed: Crime (4601)\n",
       "      Peripheral: Manner (4604), Means (4605), Place (4608), Purpose (4603), Time (4607)\n",
       "  Extra-Thematic: Explanation (4606), Frequency (5430), Instrument (4792)\n",
       "\n",
       "[FEcoreSets] 0 frame element core sets\n",
       "  \n"
      ]
     },
     "execution_count": 176,
     "metadata": {},
     "output_type": "execute_result"
    }
   ],
   "source": [
    "fn.frame(700)"
   ]
  },
  {
   "cell_type": "code",
   "execution_count": null,
   "metadata": {
    "collapsed": true
   },
   "outputs": [],
   "source": []
  }
 ],
 "metadata": {
  "kernelspec": {
   "display_name": "Python 3",
   "language": "python",
   "name": "python3"
  },
  "language_info": {
   "codemirror_mode": {
    "name": "ipython",
    "version": 3
   },
   "file_extension": ".py",
   "mimetype": "text/x-python",
   "name": "python",
   "nbconvert_exporter": "python",
   "pygments_lexer": "ipython3",
   "version": "3.6.1"
  }
 },
 "nbformat": 4,
 "nbformat_minor": 2
}
