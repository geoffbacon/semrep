{
 "cells": [
  {
   "cell_type": "markdown",
   "metadata": {},
   "source": [
    "# FrameNet\n",
    "\n",
    "I see three ways of getting features from FrameNet:\n",
    "\n",
    "1. Does word $j$ evoke frame $i$?\n",
    "2. Something with frame relations\n",
    "3. Something with frame elements"
   ]
  },
  {
   "cell_type": "code",
   "execution_count": 190,
   "metadata": {
    "collapsed": true
   },
   "outputs": [],
   "source": [
    "import numpy as np\n",
    "import pandas as pd\n",
    "from nltk.corpus import framenet as fn"
   ]
  },
  {
   "cell_type": "markdown",
   "metadata": {},
   "source": [
    "### 1. Does word $j$ evoke frame $i$?\n",
    "\n",
    "**In sum: too sparse to use.**"
   ]
  },
  {
   "cell_type": "code",
   "execution_count": 2,
   "metadata": {
    "collapsed": true
   },
   "outputs": [],
   "source": [
    "def get_lus(frame):\n",
    "    \"\"\"Helper to get lexemes from frame.\"\"\"\n",
    "    lus = frame['lexUnit'].keys()\n",
    "    return [k.partition('.')[0] for k in lus]"
   ]
  },
  {
   "cell_type": "code",
   "execution_count": 3,
   "metadata": {
    "collapsed": true
   },
   "outputs": [],
   "source": [
    "all_frames = fn.frames('.*')\n",
    "all_frame_names = [f.name for f in all_frames]\n",
    "all_lus = [get_lus(f) for f in all_frames]\n",
    "all_lus = [item for sublist in all_lus for item in sublist]\n",
    "all_lus = list(set(all_lus))"
   ]
  },
  {
   "cell_type": "code",
   "execution_count": 182,
   "metadata": {
    "collapsed": true
   },
   "outputs": [],
   "source": [
    "evoke = pd.DataFrame(0, index=all_frame_names, columns=all_lus)\n",
    "for frame in all_frames:\n",
    "    name = frame.name\n",
    "    lus = get_lus(frame)\n",
    "    for lu in lus:\n",
    "        evoke[lu][name] += 1"
   ]
  },
  {
   "cell_type": "markdown",
   "metadata": {},
   "source": [
    "Most words evoke one frame, some two, few three."
   ]
  },
  {
   "cell_type": "code",
   "execution_count": 5,
   "metadata": {},
   "outputs": [
    {
     "data": {
      "text/plain": [
       "1    9014\n",
       "2     402\n",
       "3       5\n",
       "dtype: int64"
      ]
     },
     "execution_count": 5,
     "metadata": {},
     "output_type": "execute_result"
    }
   ],
   "source": [
    "evoke.max().value_counts()"
   ]
  },
  {
   "cell_type": "code",
   "execution_count": 6,
   "metadata": {},
   "outputs": [
    {
     "data": {
      "text/html": [
       "<div>\n",
       "<style>\n",
       "    .dataframe thead tr:only-child th {\n",
       "        text-align: right;\n",
       "    }\n",
       "\n",
       "    .dataframe thead th {\n",
       "        text-align: left;\n",
       "    }\n",
       "\n",
       "    .dataframe tbody tr th {\n",
       "        vertical-align: top;\n",
       "    }\n",
       "</style>\n",
       "<table border=\"1\" class=\"dataframe\">\n",
       "  <thead>\n",
       "    <tr style=\"text-align: right;\">\n",
       "      <th></th>\n",
       "      <th>posse</th>\n",
       "      <th>find out</th>\n",
       "      <th>tun</th>\n",
       "      <th>mortification</th>\n",
       "      <th>reliance</th>\n",
       "      <th>monthly</th>\n",
       "      <th>pilfer</th>\n",
       "      <th>speak</th>\n",
       "      <th>jerk</th>\n",
       "      <th>weigh anchor</th>\n",
       "      <th>...</th>\n",
       "      <th>wet</th>\n",
       "      <th>jumble</th>\n",
       "      <th>honk</th>\n",
       "      <th>revelation</th>\n",
       "      <th>tenement</th>\n",
       "      <th>data</th>\n",
       "      <th>predestined</th>\n",
       "      <th>rainfall</th>\n",
       "      <th>recurrence</th>\n",
       "      <th>reminder</th>\n",
       "    </tr>\n",
       "  </thead>\n",
       "  <tbody>\n",
       "    <tr>\n",
       "      <th>Abandonment</th>\n",
       "      <td>0</td>\n",
       "      <td>0</td>\n",
       "      <td>0</td>\n",
       "      <td>0</td>\n",
       "      <td>0</td>\n",
       "      <td>0</td>\n",
       "      <td>0</td>\n",
       "      <td>0</td>\n",
       "      <td>0</td>\n",
       "      <td>0</td>\n",
       "      <td>...</td>\n",
       "      <td>0</td>\n",
       "      <td>0</td>\n",
       "      <td>0</td>\n",
       "      <td>0</td>\n",
       "      <td>0</td>\n",
       "      <td>0</td>\n",
       "      <td>0</td>\n",
       "      <td>0</td>\n",
       "      <td>0</td>\n",
       "      <td>0</td>\n",
       "    </tr>\n",
       "    <tr>\n",
       "      <th>Abounding_with</th>\n",
       "      <td>0</td>\n",
       "      <td>0</td>\n",
       "      <td>0</td>\n",
       "      <td>0</td>\n",
       "      <td>0</td>\n",
       "      <td>0</td>\n",
       "      <td>0</td>\n",
       "      <td>0</td>\n",
       "      <td>0</td>\n",
       "      <td>0</td>\n",
       "      <td>...</td>\n",
       "      <td>0</td>\n",
       "      <td>0</td>\n",
       "      <td>0</td>\n",
       "      <td>0</td>\n",
       "      <td>0</td>\n",
       "      <td>0</td>\n",
       "      <td>0</td>\n",
       "      <td>0</td>\n",
       "      <td>0</td>\n",
       "      <td>0</td>\n",
       "    </tr>\n",
       "    <tr>\n",
       "      <th>Absorb_heat</th>\n",
       "      <td>0</td>\n",
       "      <td>0</td>\n",
       "      <td>0</td>\n",
       "      <td>0</td>\n",
       "      <td>0</td>\n",
       "      <td>0</td>\n",
       "      <td>0</td>\n",
       "      <td>0</td>\n",
       "      <td>0</td>\n",
       "      <td>0</td>\n",
       "      <td>...</td>\n",
       "      <td>0</td>\n",
       "      <td>0</td>\n",
       "      <td>0</td>\n",
       "      <td>0</td>\n",
       "      <td>0</td>\n",
       "      <td>0</td>\n",
       "      <td>0</td>\n",
       "      <td>0</td>\n",
       "      <td>0</td>\n",
       "      <td>0</td>\n",
       "    </tr>\n",
       "    <tr>\n",
       "      <th>Abundance</th>\n",
       "      <td>0</td>\n",
       "      <td>0</td>\n",
       "      <td>0</td>\n",
       "      <td>0</td>\n",
       "      <td>0</td>\n",
       "      <td>0</td>\n",
       "      <td>0</td>\n",
       "      <td>0</td>\n",
       "      <td>0</td>\n",
       "      <td>0</td>\n",
       "      <td>...</td>\n",
       "      <td>0</td>\n",
       "      <td>0</td>\n",
       "      <td>0</td>\n",
       "      <td>0</td>\n",
       "      <td>0</td>\n",
       "      <td>0</td>\n",
       "      <td>0</td>\n",
       "      <td>0</td>\n",
       "      <td>0</td>\n",
       "      <td>0</td>\n",
       "    </tr>\n",
       "    <tr>\n",
       "      <th>Abusing</th>\n",
       "      <td>0</td>\n",
       "      <td>0</td>\n",
       "      <td>0</td>\n",
       "      <td>0</td>\n",
       "      <td>0</td>\n",
       "      <td>0</td>\n",
       "      <td>0</td>\n",
       "      <td>0</td>\n",
       "      <td>0</td>\n",
       "      <td>0</td>\n",
       "      <td>...</td>\n",
       "      <td>0</td>\n",
       "      <td>0</td>\n",
       "      <td>0</td>\n",
       "      <td>0</td>\n",
       "      <td>0</td>\n",
       "      <td>0</td>\n",
       "      <td>0</td>\n",
       "      <td>0</td>\n",
       "      <td>0</td>\n",
       "      <td>0</td>\n",
       "    </tr>\n",
       "  </tbody>\n",
       "</table>\n",
       "<p>5 rows × 9421 columns</p>\n",
       "</div>"
      ],
      "text/plain": [
       "                posse  find out  tun  mortification  reliance  monthly  \\\n",
       "Abandonment         0         0    0              0         0        0   \n",
       "Abounding_with      0         0    0              0         0        0   \n",
       "Absorb_heat         0         0    0              0         0        0   \n",
       "Abundance           0         0    0              0         0        0   \n",
       "Abusing             0         0    0              0         0        0   \n",
       "\n",
       "                pilfer  speak  jerk  weigh anchor    ...     wet  jumble  \\\n",
       "Abandonment          0      0     0             0    ...       0       0   \n",
       "Abounding_with       0      0     0             0    ...       0       0   \n",
       "Absorb_heat          0      0     0             0    ...       0       0   \n",
       "Abundance            0      0     0             0    ...       0       0   \n",
       "Abusing              0      0     0             0    ...       0       0   \n",
       "\n",
       "                honk  revelation  tenement  data  predestined  rainfall  \\\n",
       "Abandonment        0           0         0     0            0         0   \n",
       "Abounding_with     0           0         0     0            0         0   \n",
       "Absorb_heat        0           0         0     0            0         0   \n",
       "Abundance          0           0         0     0            0         0   \n",
       "Abusing            0           0         0     0            0         0   \n",
       "\n",
       "                recurrence  reminder  \n",
       "Abandonment              0         0  \n",
       "Abounding_with           0         0  \n",
       "Absorb_heat              0         0  \n",
       "Abundance                0         0  \n",
       "Abusing                  0         0  \n",
       "\n",
       "[5 rows x 9421 columns]"
      ]
     },
     "execution_count": 6,
     "metadata": {},
     "output_type": "execute_result"
    }
   ],
   "source": [
    "evoke.head()"
   ]
  },
  {
   "cell_type": "markdown",
   "metadata": {},
   "source": [
    "### 2. Frame relations\n",
    "\n",
    "In this approach, I represent a word by a bit vector indicating whether or not that word evokes a frame or evokes a frame that inherits from a frame."
   ]
  },
  {
   "cell_type": "code",
   "execution_count": 77,
   "metadata": {
    "collapsed": true
   },
   "outputs": [],
   "source": [
    "def evokes(frame):\n",
    "    \"\"\"Return words that evoke `frame`.\"\"\"\n",
    "    lus = frame['lexUnit'].keys()\n",
    "    return [k.partition('.')[0] for k in lus]"
   ]
  },
  {
   "cell_type": "code",
   "execution_count": 38,
   "metadata": {
    "collapsed": true
   },
   "outputs": [],
   "source": [
    "def is_inheritance_relation(relation):\n",
    "    return relation['type']['name'] == 'Inheritance'"
   ]
  },
  {
   "cell_type": "code",
   "execution_count": 101,
   "metadata": {},
   "outputs": [],
   "source": [
    "def is_parent_frame(frame, relation):\n",
    "    return frame.name == relation.superFrameName"
   ]
  },
  {
   "cell_type": "code",
   "execution_count": 146,
   "metadata": {
    "collapsed": true
   },
   "outputs": [],
   "source": [
    "def children(frame):\n",
    "    \"\"\"Return children of `frame`.\"\"\"\n",
    "    relations = frame.frameRelations\n",
    "    relations = [r for r in relations if is_inheritance_relation(r)]\n",
    "    relations = [r for r in relations if is_parent_frame(frame, r)]\n",
    "    return [fn.frame(r.subFrameName) for r in relations]"
   ]
  },
  {
   "cell_type": "code",
   "execution_count": 104,
   "metadata": {
    "collapsed": true
   },
   "outputs": [],
   "source": [
    "def flatten(lst):\n",
    "    return [item for sublist in lst for item in sublist]"
   ]
  },
  {
   "cell_type": "code",
   "execution_count": 147,
   "metadata": {
    "collapsed": true
   },
   "outputs": [],
   "source": [
    "def words(frame):\n",
    "    \"\"\"Return all words that evoke `frame`, including words that\n",
    "    evoke frames that inherit from `frame`.\"\"\"\n",
    "    kids = children(frame)\n",
    "    if not kids:\n",
    "        return evokes(frame)\n",
    "    evoke_sub_frames = [words(f) for f in kids]\n",
    "    return evokes(frame) + flatten(evoke_sub_frames)"
   ]
  },
  {
   "cell_type": "code",
   "execution_count": 183,
   "metadata": {
    "collapsed": true
   },
   "outputs": [],
   "source": [
    "relations = pd.DataFrame(0, index=all_frame_names, columns=all_lus)\n",
    "for frame in all_frames:\n",
    "    name = frame.name\n",
    "    lus = words(frame)\n",
    "    for lu in lus:\n",
    "        relations.loc[name, lu] += 1"
   ]
  },
  {
   "cell_type": "code",
   "execution_count": 187,
   "metadata": {},
   "outputs": [
    {
     "data": {
      "text/html": [
       "<div>\n",
       "<style>\n",
       "    .dataframe thead tr:only-child th {\n",
       "        text-align: right;\n",
       "    }\n",
       "\n",
       "    .dataframe thead th {\n",
       "        text-align: left;\n",
       "    }\n",
       "\n",
       "    .dataframe tbody tr th {\n",
       "        vertical-align: top;\n",
       "    }\n",
       "</style>\n",
       "<table border=\"1\" class=\"dataframe\">\n",
       "  <thead>\n",
       "    <tr style=\"text-align: right;\">\n",
       "      <th></th>\n",
       "      <th>posse</th>\n",
       "      <th>find out</th>\n",
       "      <th>tun</th>\n",
       "      <th>mortification</th>\n",
       "      <th>reliance</th>\n",
       "      <th>monthly</th>\n",
       "      <th>pilfer</th>\n",
       "      <th>speak</th>\n",
       "      <th>jerk</th>\n",
       "      <th>weigh anchor</th>\n",
       "      <th>...</th>\n",
       "      <th>wet</th>\n",
       "      <th>jumble</th>\n",
       "      <th>honk</th>\n",
       "      <th>revelation</th>\n",
       "      <th>tenement</th>\n",
       "      <th>data</th>\n",
       "      <th>predestined</th>\n",
       "      <th>rainfall</th>\n",
       "      <th>recurrence</th>\n",
       "      <th>reminder</th>\n",
       "    </tr>\n",
       "  </thead>\n",
       "  <tbody>\n",
       "    <tr>\n",
       "      <th>Abandonment</th>\n",
       "      <td>0</td>\n",
       "      <td>0</td>\n",
       "      <td>0</td>\n",
       "      <td>0</td>\n",
       "      <td>0</td>\n",
       "      <td>0</td>\n",
       "      <td>0</td>\n",
       "      <td>0</td>\n",
       "      <td>0</td>\n",
       "      <td>0</td>\n",
       "      <td>...</td>\n",
       "      <td>0</td>\n",
       "      <td>0</td>\n",
       "      <td>0</td>\n",
       "      <td>0</td>\n",
       "      <td>0</td>\n",
       "      <td>0</td>\n",
       "      <td>0</td>\n",
       "      <td>0</td>\n",
       "      <td>0</td>\n",
       "      <td>0</td>\n",
       "    </tr>\n",
       "    <tr>\n",
       "      <th>Abounding_with</th>\n",
       "      <td>0</td>\n",
       "      <td>0</td>\n",
       "      <td>0</td>\n",
       "      <td>0</td>\n",
       "      <td>0</td>\n",
       "      <td>0</td>\n",
       "      <td>0</td>\n",
       "      <td>0</td>\n",
       "      <td>0</td>\n",
       "      <td>0</td>\n",
       "      <td>...</td>\n",
       "      <td>0</td>\n",
       "      <td>0</td>\n",
       "      <td>0</td>\n",
       "      <td>0</td>\n",
       "      <td>0</td>\n",
       "      <td>0</td>\n",
       "      <td>0</td>\n",
       "      <td>0</td>\n",
       "      <td>0</td>\n",
       "      <td>0</td>\n",
       "    </tr>\n",
       "    <tr>\n",
       "      <th>Absorb_heat</th>\n",
       "      <td>0</td>\n",
       "      <td>0</td>\n",
       "      <td>0</td>\n",
       "      <td>0</td>\n",
       "      <td>0</td>\n",
       "      <td>0</td>\n",
       "      <td>0</td>\n",
       "      <td>0</td>\n",
       "      <td>0</td>\n",
       "      <td>0</td>\n",
       "      <td>...</td>\n",
       "      <td>0</td>\n",
       "      <td>0</td>\n",
       "      <td>0</td>\n",
       "      <td>0</td>\n",
       "      <td>0</td>\n",
       "      <td>0</td>\n",
       "      <td>0</td>\n",
       "      <td>0</td>\n",
       "      <td>0</td>\n",
       "      <td>0</td>\n",
       "    </tr>\n",
       "    <tr>\n",
       "      <th>Abundance</th>\n",
       "      <td>0</td>\n",
       "      <td>0</td>\n",
       "      <td>0</td>\n",
       "      <td>0</td>\n",
       "      <td>0</td>\n",
       "      <td>0</td>\n",
       "      <td>0</td>\n",
       "      <td>0</td>\n",
       "      <td>0</td>\n",
       "      <td>0</td>\n",
       "      <td>...</td>\n",
       "      <td>0</td>\n",
       "      <td>0</td>\n",
       "      <td>0</td>\n",
       "      <td>0</td>\n",
       "      <td>0</td>\n",
       "      <td>0</td>\n",
       "      <td>0</td>\n",
       "      <td>0</td>\n",
       "      <td>0</td>\n",
       "      <td>0</td>\n",
       "    </tr>\n",
       "    <tr>\n",
       "      <th>Abusing</th>\n",
       "      <td>0</td>\n",
       "      <td>0</td>\n",
       "      <td>0</td>\n",
       "      <td>0</td>\n",
       "      <td>0</td>\n",
       "      <td>0</td>\n",
       "      <td>0</td>\n",
       "      <td>0</td>\n",
       "      <td>0</td>\n",
       "      <td>0</td>\n",
       "      <td>...</td>\n",
       "      <td>0</td>\n",
       "      <td>0</td>\n",
       "      <td>0</td>\n",
       "      <td>0</td>\n",
       "      <td>0</td>\n",
       "      <td>0</td>\n",
       "      <td>0</td>\n",
       "      <td>0</td>\n",
       "      <td>0</td>\n",
       "      <td>0</td>\n",
       "    </tr>\n",
       "  </tbody>\n",
       "</table>\n",
       "<p>5 rows × 9421 columns</p>\n",
       "</div>"
      ],
      "text/plain": [
       "                posse  find out  tun  mortification  reliance  monthly  \\\n",
       "Abandonment         0         0    0              0         0        0   \n",
       "Abounding_with      0         0    0              0         0        0   \n",
       "Absorb_heat         0         0    0              0         0        0   \n",
       "Abundance           0         0    0              0         0        0   \n",
       "Abusing             0         0    0              0         0        0   \n",
       "\n",
       "                pilfer  speak  jerk  weigh anchor    ...     wet  jumble  \\\n",
       "Abandonment          0      0     0             0    ...       0       0   \n",
       "Abounding_with       0      0     0             0    ...       0       0   \n",
       "Absorb_heat          0      0     0             0    ...       0       0   \n",
       "Abundance            0      0     0             0    ...       0       0   \n",
       "Abusing              0      0     0             0    ...       0       0   \n",
       "\n",
       "                honk  revelation  tenement  data  predestined  rainfall  \\\n",
       "Abandonment        0           0         0     0            0         0   \n",
       "Abounding_with     0           0         0     0            0         0   \n",
       "Absorb_heat        0           0         0     0            0         0   \n",
       "Abundance          0           0         0     0            0         0   \n",
       "Abusing            0           0         0     0            0         0   \n",
       "\n",
       "                recurrence  reminder  \n",
       "Abandonment              0         0  \n",
       "Abounding_with           0         0  \n",
       "Absorb_heat              0         0  \n",
       "Abundance                0         0  \n",
       "Abusing                  0         0  \n",
       "\n",
       "[5 rows x 9421 columns]"
      ]
     },
     "execution_count": 187,
     "metadata": {},
     "output_type": "execute_result"
    }
   ],
   "source": [
    "relations.head()"
   ]
  },
  {
   "cell_type": "code",
   "execution_count": 196,
   "metadata": {},
   "outputs": [
    {
     "data": {
      "text/plain": [
       "0.9970414779882989"
      ]
     },
     "execution_count": 196,
     "metadata": {},
     "output_type": "execute_result"
    }
   ],
   "source": [
    "(relations.size - np.count_nonzero(relations.values))/relations.size"
   ]
  },
  {
   "cell_type": "code",
   "execution_count": 205,
   "metadata": {},
   "outputs": [
    {
     "data": {
      "text/plain": [
       "Event                  5124\n",
       "Intentionally_act      1919\n",
       "Objective_influence    1918\n",
       "Transitive_action      1891\n",
       "Attributes             1673\n",
       "dtype: int64"
      ]
     },
     "execution_count": 205,
     "metadata": {},
     "output_type": "execute_result"
    }
   ],
   "source": [
    "relations.sum(axis=1).sort_values(ascending=False).head()"
   ]
  },
  {
   "cell_type": "code",
   "execution_count": 211,
   "metadata": {},
   "outputs": [
    {
     "data": {
      "text/plain": [
       "make      6\n",
       "strike    6\n",
       "cut       6\n",
       "fire      5\n",
       "tie       5\n",
       "Name: Transitive_action, dtype: int64"
      ]
     },
     "execution_count": 211,
     "metadata": {},
     "output_type": "execute_result"
    }
   ],
   "source": [
    "relations.loc['Transitive_action'].sort_values(ascending=False).head()"
   ]
  },
  {
   "cell_type": "code",
   "execution_count": 209,
   "metadata": {
    "collapsed": true
   },
   "outputs": [],
   "source": [
    "relations.to_csv('framenet-relations.csv')"
   ]
  },
  {
   "cell_type": "code",
   "execution_count": 226,
   "metadata": {},
   "outputs": [],
   "source": [
    "normalized_relations = relations / relations.sum()\n",
    "normalized_relations.to_csv('framenet-normalized-relations.csv')"
   ]
  }
 ],
 "metadata": {
  "kernelspec": {
   "display_name": "Python 3",
   "language": "python",
   "name": "python3"
  },
  "language_info": {
   "codemirror_mode": {
    "name": "ipython",
    "version": 3
   },
   "file_extension": ".py",
   "mimetype": "text/x-python",
   "name": "python",
   "nbconvert_exporter": "python",
   "pygments_lexer": "ipython3",
   "version": "3.6.1"
  }
 },
 "nbformat": 4,
 "nbformat_minor": 2
}
