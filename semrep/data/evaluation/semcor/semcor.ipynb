{
 "cells": [
  {
   "cell_type": "markdown",
   "metadata": {},
   "source": [
    "# SemCor\n",
    "\n",
    "SemCor is a WordNet annotated subset of the Brown corpus. WordNet has coarse features for nouns and verbs, called \"supersenses\". These are things like \"NOUN.BODY\", \"VERB.MOTION\". Supersenses are coarse semantic features, given by linguists. Once downloaded, NLTK provides easy access to the SemCor corpus, in particular as a stream of tagged chunks. Chunks are coarse constituents.\n",
    "\n",
    "## Features\n",
    "\n",
    "In this section, I derive feature representations for words from SemCor. This follows Tsvetkov et al. (2015)."
   ]
  },
  {
   "cell_type": "code",
   "execution_count": 1,
   "metadata": {
    "collapsed": true
   },
   "outputs": [],
   "source": [
    "import pandas as pd\n",
    "from nltk.corpus import semcor\n",
    "from nltk.corpus.reader.wordnet import Lemma"
   ]
  },
  {
   "cell_type": "code",
   "execution_count": 2,
   "metadata": {
    "collapsed": true
   },
   "outputs": [],
   "source": [
    "tagged_chunks = semcor.tagged_chunks(tag='both')\n",
    "tagged_chunks = list(tagged_chunks) # takes ages"
   ]
  },
  {
   "cell_type": "markdown",
   "metadata": {},
   "source": [
    "Put the tagged chunks into a `pandas dataframe`. Each row holds a chunk, and I will add columns as I go on."
   ]
  },
  {
   "cell_type": "code",
   "execution_count": 3,
   "metadata": {
    "collapsed": true
   },
   "outputs": [],
   "source": [
    "sc = pd.DataFrame({'chunk': tagged_chunks})"
   ]
  },
  {
   "cell_type": "markdown",
   "metadata": {},
   "source": [
    "These functions correspond to the columns I want to add."
   ]
  },
  {
   "cell_type": "code",
   "execution_count": 4,
   "metadata": {
    "collapsed": true
   },
   "outputs": [],
   "source": [
    "def extract_words(tc):\n",
    "    \"\"\"Return the words of a tagged chunk.\"\"\"\n",
    "    words = [w.lower() for w in tc.leaves()]\n",
    "    return ' '.join(words)\n",
    "\n",
    "def extract_pos(tc):\n",
    "    \"\"\"\n",
    "    Return the POS of a tagged chunk.\n",
    "    \n",
    "    This isn't the cleanest way, but it works for now.\n",
    "    \"\"\"\n",
    "    return tc.pos()[0][1]\n",
    "\n",
    "def extract_supersense(tc):\n",
    "    \"\"\"\n",
    "    Return the supersense of a tagged chunk, otherwise None.\n",
    "    \n",
    "    Only nouns and verbs have supersenses.\n",
    "    \"\"\"\n",
    "    label = tc.label()\n",
    "    if isinstance(label, Lemma):\n",
    "        return label.synset().lexname()\n",
    "    return None\n",
    "\n",
    "def extract_rough_pos(supersense):\n",
    "    \"\"\"Return coarser POS from supersense information.\"\"\"\n",
    "    if supersense:\n",
    "        return supersense.split('.')[0]\n",
    "    return None"
   ]
  },
  {
   "cell_type": "markdown",
   "metadata": {},
   "source": [
    "Add the columns."
   ]
  },
  {
   "cell_type": "code",
   "execution_count": 5,
   "metadata": {
    "collapsed": true
   },
   "outputs": [],
   "source": [
    "sc['words'] = sc['chunk'].apply(extract_words)\n",
    "sc['pos'] = sc['chunk'].apply(extract_pos)\n",
    "sc['supersense'] = sc['chunk'].apply(extract_supersense)\n",
    "sc['rough_pos'] = sc['supersense'].apply(extract_rough_pos)"
   ]
  },
  {
   "cell_type": "markdown",
   "metadata": {},
   "source": [
    "Only nouns and verbs have supersenses in WordNet (adjectives do, but they seem to be ignored in the original paper). We only care about words that have supersenses now. Also, there's a lot of junk words in SemCor. First we replace all digits with '0'. Then we'll drop words that are i) not alphabetic or '0' or ii) multiple words. I can't tell how this is done in the original paper, so I may get slightly different results."
   ]
  },
  {
   "cell_type": "code",
   "execution_count": 6,
   "metadata": {
    "collapsed": true
   },
   "outputs": [],
   "source": [
    "sc = sc[sc['rough_pos'].isin(['noun', 'verb'])]\n",
    "sc.loc[sc['words'].str.isdigit(), 'words'] = '0'\n",
    "sc = sc[(sc['words'].str.isalpha()) | (sc['words'].str.match('0'))]"
   ]
  },
  {
   "cell_type": "markdown",
   "metadata": {},
   "source": [
    "The linguistic features are in fact a distribution over the 41 supersenses."
   ]
  },
  {
   "cell_type": "code",
   "execution_count": 7,
   "metadata": {
    "collapsed": true
   },
   "outputs": [],
   "source": [
    "grouped = sc.groupby('words')\n",
    "features = grouped['supersense'].value_counts(normalize=True).unstack()\n",
    "features['count_in_semcor'] = grouped['supersense'].count()\n",
    "features.reset_index(inplace=True) # make \"words\" a column not the index\n",
    "features.fillna(0, inplace=True)\n",
    "features.columns.name = ''"
   ]
  },
  {
   "cell_type": "markdown",
   "metadata": {},
   "source": [
    "Now we restrict to words with a certain frequency in the corpus. The original paper has 4199 words when thresholding at a frequency of 5, I get 4847. I believe this discrepancy comes from how words are preprocessed."
   ]
  },
  {
   "cell_type": "code",
   "execution_count": 8,
   "metadata": {},
   "outputs": [
    {
     "name": "stdout",
     "output_type": "stream",
     "text": [
      "Number of words: 4847\n"
     ]
    }
   ],
   "source": [
    "threshold = 5\n",
    "subset = features[features['count_in_semcor'] > threshold]\n",
    "print('Number of words:', len(subset))"
   ]
  },
  {
   "cell_type": "markdown",
   "metadata": {},
   "source": [
    "Save my features"
   ]
  },
  {
   "cell_type": "code",
   "execution_count": 9,
   "metadata": {
    "collapsed": true
   },
   "outputs": [],
   "source": [
    "subset.to_csv('my_semcor.csv')"
   ]
  },
  {
   "cell_type": "markdown",
   "metadata": {},
   "source": [
    "## Comparing with reference implementation\n",
    "\n",
    "I want to know how different my linguistic features are from the original paper's, available [here](https://github.com/ytsvetko/qvec/blob/master/oracles/semcor_noun_verb.supersenses.en). Read in the original paper's. Note that their columns start with \"semcor.\", which will be helpful when I merge the two sets."
   ]
  },
  {
   "cell_type": "code",
   "execution_count": 14,
   "metadata": {},
   "outputs": [],
   "source": [
    "words, dicts = [], []\n",
    "with open('tsvetkov.txt', 'r') as f:\n",
    "    for line in f:\n",
    "        word, _, d = line.partition('\\t')\n",
    "        words.append(word)\n",
    "        d = eval(d.strip())\n",
    "        dicts.append(d)\n",
    "\n",
    "tsvetkov = pd.DataFrame(dicts)\n",
    "tsvetkov['words'] = words\n",
    "tsvetkov.fillna(0, inplace=True)"
   ]
  },
  {
   "cell_type": "markdown",
   "metadata": {},
   "source": [
    "Save Tsvetkov et al.'s features"
   ]
  },
  {
   "cell_type": "code",
   "execution_count": 15,
   "metadata": {
    "collapsed": true
   },
   "outputs": [],
   "source": [
    "tsvetkov.to_csv('tsvetkov_semcor.csv')"
   ]
  },
  {
   "cell_type": "markdown",
   "metadata": {},
   "source": [
    "Merge the two sets. This dataframe has 84 columns: one for the word, one for my count in SemCor, 41 for my features, 41 for their features."
   ]
  },
  {
   "cell_type": "code",
   "execution_count": 16,
   "metadata": {},
   "outputs": [
    {
     "data": {
      "text/html": [
       "<div>\n",
       "<style>\n",
       "    .dataframe thead tr:only-child th {\n",
       "        text-align: right;\n",
       "    }\n",
       "\n",
       "    .dataframe thead th {\n",
       "        text-align: left;\n",
       "    }\n",
       "\n",
       "    .dataframe tbody tr th {\n",
       "        vertical-align: top;\n",
       "    }\n",
       "</style>\n",
       "<table border=\"1\" class=\"dataframe\">\n",
       "  <thead>\n",
       "    <tr style=\"text-align: right;\">\n",
       "      <th></th>\n",
       "      <th>words</th>\n",
       "      <th>noun.Tops</th>\n",
       "      <th>noun.act</th>\n",
       "      <th>noun.animal</th>\n",
       "      <th>noun.artifact</th>\n",
       "      <th>noun.attribute</th>\n",
       "      <th>noun.body</th>\n",
       "      <th>noun.cognition</th>\n",
       "      <th>noun.communication</th>\n",
       "      <th>noun.event</th>\n",
       "      <th>...</th>\n",
       "      <th>semcor.verb.consumption</th>\n",
       "      <th>semcor.verb.contact</th>\n",
       "      <th>semcor.verb.creation</th>\n",
       "      <th>semcor.verb.emotion</th>\n",
       "      <th>semcor.verb.motion</th>\n",
       "      <th>semcor.verb.perception</th>\n",
       "      <th>semcor.verb.possession</th>\n",
       "      <th>semcor.verb.social</th>\n",
       "      <th>semcor.verb.stative</th>\n",
       "      <th>semcor.verb.weather</th>\n",
       "    </tr>\n",
       "  </thead>\n",
       "  <tbody>\n",
       "    <tr>\n",
       "      <th>0</th>\n",
       "      <td>0</td>\n",
       "      <td>0.0</td>\n",
       "      <td>0.0</td>\n",
       "      <td>0.0</td>\n",
       "      <td>0.0</td>\n",
       "      <td>0.000000</td>\n",
       "      <td>0.0</td>\n",
       "      <td>0.000000</td>\n",
       "      <td>0.0</td>\n",
       "      <td>0.0</td>\n",
       "      <td>...</td>\n",
       "      <td>0.0</td>\n",
       "      <td>0.0</td>\n",
       "      <td>0.0</td>\n",
       "      <td>0.0</td>\n",
       "      <td>0.0</td>\n",
       "      <td>0.0</td>\n",
       "      <td>0.000000</td>\n",
       "      <td>0.0</td>\n",
       "      <td>0.0</td>\n",
       "      <td>0.0</td>\n",
       "    </tr>\n",
       "    <tr>\n",
       "      <th>1</th>\n",
       "      <td>a</td>\n",
       "      <td>0.0</td>\n",
       "      <td>0.0</td>\n",
       "      <td>0.0</td>\n",
       "      <td>0.0</td>\n",
       "      <td>0.000000</td>\n",
       "      <td>0.0</td>\n",
       "      <td>0.000000</td>\n",
       "      <td>0.0</td>\n",
       "      <td>0.0</td>\n",
       "      <td>...</td>\n",
       "      <td>0.0</td>\n",
       "      <td>0.0</td>\n",
       "      <td>0.0</td>\n",
       "      <td>0.0</td>\n",
       "      <td>0.0</td>\n",
       "      <td>0.0</td>\n",
       "      <td>0.000000</td>\n",
       "      <td>0.0</td>\n",
       "      <td>0.0</td>\n",
       "      <td>0.0</td>\n",
       "    </tr>\n",
       "    <tr>\n",
       "      <th>2</th>\n",
       "      <td>abandon</td>\n",
       "      <td>0.0</td>\n",
       "      <td>0.0</td>\n",
       "      <td>0.0</td>\n",
       "      <td>0.0</td>\n",
       "      <td>0.083333</td>\n",
       "      <td>0.0</td>\n",
       "      <td>0.000000</td>\n",
       "      <td>0.0</td>\n",
       "      <td>0.0</td>\n",
       "      <td>...</td>\n",
       "      <td>0.0</td>\n",
       "      <td>0.0</td>\n",
       "      <td>0.0</td>\n",
       "      <td>0.0</td>\n",
       "      <td>0.0</td>\n",
       "      <td>0.0</td>\n",
       "      <td>0.571429</td>\n",
       "      <td>0.0</td>\n",
       "      <td>0.0</td>\n",
       "      <td>0.0</td>\n",
       "    </tr>\n",
       "    <tr>\n",
       "      <th>3</th>\n",
       "      <td>ability</td>\n",
       "      <td>0.0</td>\n",
       "      <td>0.0</td>\n",
       "      <td>0.0</td>\n",
       "      <td>0.0</td>\n",
       "      <td>0.727273</td>\n",
       "      <td>0.0</td>\n",
       "      <td>0.272727</td>\n",
       "      <td>0.0</td>\n",
       "      <td>0.0</td>\n",
       "      <td>...</td>\n",
       "      <td>0.0</td>\n",
       "      <td>0.0</td>\n",
       "      <td>0.0</td>\n",
       "      <td>0.0</td>\n",
       "      <td>0.0</td>\n",
       "      <td>0.0</td>\n",
       "      <td>0.000000</td>\n",
       "      <td>0.0</td>\n",
       "      <td>0.0</td>\n",
       "      <td>0.0</td>\n",
       "    </tr>\n",
       "    <tr>\n",
       "      <th>4</th>\n",
       "      <td>abolish</td>\n",
       "      <td>0.0</td>\n",
       "      <td>0.0</td>\n",
       "      <td>0.0</td>\n",
       "      <td>0.0</td>\n",
       "      <td>0.000000</td>\n",
       "      <td>0.0</td>\n",
       "      <td>0.000000</td>\n",
       "      <td>0.0</td>\n",
       "      <td>0.0</td>\n",
       "      <td>...</td>\n",
       "      <td>0.0</td>\n",
       "      <td>0.0</td>\n",
       "      <td>0.0</td>\n",
       "      <td>0.0</td>\n",
       "      <td>0.0</td>\n",
       "      <td>0.0</td>\n",
       "      <td>0.000000</td>\n",
       "      <td>1.0</td>\n",
       "      <td>0.0</td>\n",
       "      <td>0.0</td>\n",
       "    </tr>\n",
       "  </tbody>\n",
       "</table>\n",
       "<p>5 rows × 84 columns</p>\n",
       "</div>"
      ],
      "text/plain": [
       "     words  noun.Tops  noun.act  noun.animal  noun.artifact  noun.attribute  \\\n",
       "0        0        0.0       0.0          0.0            0.0        0.000000   \n",
       "1        a        0.0       0.0          0.0            0.0        0.000000   \n",
       "2  abandon        0.0       0.0          0.0            0.0        0.083333   \n",
       "3  ability        0.0       0.0          0.0            0.0        0.727273   \n",
       "4  abolish        0.0       0.0          0.0            0.0        0.000000   \n",
       "\n",
       "   noun.body  noun.cognition  noun.communication  noun.event  \\\n",
       "0        0.0        0.000000                 0.0         0.0   \n",
       "1        0.0        0.000000                 0.0         0.0   \n",
       "2        0.0        0.000000                 0.0         0.0   \n",
       "3        0.0        0.272727                 0.0         0.0   \n",
       "4        0.0        0.000000                 0.0         0.0   \n",
       "\n",
       "          ...           semcor.verb.consumption  semcor.verb.contact  \\\n",
       "0         ...                               0.0                  0.0   \n",
       "1         ...                               0.0                  0.0   \n",
       "2         ...                               0.0                  0.0   \n",
       "3         ...                               0.0                  0.0   \n",
       "4         ...                               0.0                  0.0   \n",
       "\n",
       "   semcor.verb.creation  semcor.verb.emotion  semcor.verb.motion  \\\n",
       "0                   0.0                  0.0                 0.0   \n",
       "1                   0.0                  0.0                 0.0   \n",
       "2                   0.0                  0.0                 0.0   \n",
       "3                   0.0                  0.0                 0.0   \n",
       "4                   0.0                  0.0                 0.0   \n",
       "\n",
       "   semcor.verb.perception  semcor.verb.possession  semcor.verb.social  \\\n",
       "0                     0.0                0.000000                 0.0   \n",
       "1                     0.0                0.000000                 0.0   \n",
       "2                     0.0                0.571429                 0.0   \n",
       "3                     0.0                0.000000                 0.0   \n",
       "4                     0.0                0.000000                 1.0   \n",
       "\n",
       "   semcor.verb.stative  semcor.verb.weather  \n",
       "0                  0.0                  0.0  \n",
       "1                  0.0                  0.0  \n",
       "2                  0.0                  0.0  \n",
       "3                  0.0                  0.0  \n",
       "4                  0.0                  0.0  \n",
       "\n",
       "[5 rows x 84 columns]"
      ]
     },
     "execution_count": 16,
     "metadata": {},
     "output_type": "execute_result"
    }
   ],
   "source": [
    "comparison = pd.merge(features, tsvetkov, on=['words'], how='inner')\n",
    "comparison.head()"
   ]
  },
  {
   "cell_type": "markdown",
   "metadata": {},
   "source": [
    "So I have two discrete distributions, and I want to know how different/similar they are. I need to ask someone how to do this properly, but I have a few naive ideas.\n",
    "\n",
    "#### KL divergence"
   ]
  },
  {
   "cell_type": "code",
   "execution_count": 17,
   "metadata": {
    "collapsed": true
   },
   "outputs": [],
   "source": [
    "%matplotlib inline\n",
    "import numpy as np\n",
    "from scipy import stats\n",
    "import matplotlib.pyplot as plt\n",
    "import seaborn as sns\n",
    "sns.set()"
   ]
  },
  {
   "cell_type": "markdown",
   "metadata": {},
   "source": [
    "Sort the columns so that features in the two lists are in the same position."
   ]
  },
  {
   "cell_type": "code",
   "execution_count": 18,
   "metadata": {
    "collapsed": true
   },
   "outputs": [],
   "source": [
    "their_columns = sorted([c for c in comparison.columns if c.startswith('semcor')])\n",
    "my_columns = [c.partition('.')[2] for c in their_columns]\n",
    "\n",
    "def KL(row):\n",
    "    \"\"\"\n",
    "    Helper function for apply KL to a dataframe.\n",
    "    \n",
    "    I get errors unless I explicitly convert to float, even though they appear to be floats anyway\n",
    "    \"\"\"\n",
    "    theirs = row[their_columns].values.astype(float)\n",
    "    mine = row[my_columns].values.astype(float)\n",
    "    return stats.entropy(theirs, mine)"
   ]
  },
  {
   "cell_type": "code",
   "execution_count": 19,
   "metadata": {
    "collapsed": true
   },
   "outputs": [],
   "source": [
    "comparison['KL'] = comparison.apply(KL, axis=1)"
   ]
  },
  {
   "cell_type": "markdown",
   "metadata": {},
   "source": [
    "`Inf` is not good, meaning that the two distributions are very different. Nearly half of the words have very different distributions."
   ]
  },
  {
   "cell_type": "code",
   "execution_count": 20,
   "metadata": {},
   "outputs": [
    {
     "data": {
      "text/plain": [
       "0.46724565756823822"
      ]
     },
     "execution_count": 20,
     "metadata": {},
     "output_type": "execute_result"
    }
   ],
   "source": [
    "np.isinf(comparison['KL']).sum() / len(comparison)"
   ]
  },
  {
   "cell_type": "markdown",
   "metadata": {},
   "source": [
    "Otherwise, most words have similar distributions."
   ]
  },
  {
   "cell_type": "code",
   "execution_count": 21,
   "metadata": {},
   "outputs": [
    {
     "data": {
      "image/png": "[encoded data removed]",
      "text/plain": [
       "<matplotlib.figure.Figure at 0x130083208>"
      ]
     },
     "metadata": {},
     "output_type": "display_data"
    }
   ],
   "source": [
    "sns.boxplot(comparison[np.isfinite(comparison['KL'])]['KL']);"
   ]
  }
 ],
 "metadata": {
  "kernelspec": {
   "display_name": "Python 3",
   "language": "python",
   "name": "python3"
  },
  "language_info": {
   "codemirror_mode": {
    "name": "ipython",
    "version": 3
   },
   "file_extension": ".py",
   "mimetype": "text/x-python",
   "name": "python",
   "nbconvert_exporter": "python",
   "pygments_lexer": "ipython3",
   "version": "3.6.1"
  }
 },
 "nbformat": 4,
 "nbformat_minor": 2
}
