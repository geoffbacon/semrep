{
 "cells": [
  {
   "cell_type": "markdown",
   "metadata": {},
   "source": [
    "# Universal dependencies\n",
    "\n",
    "The [Universal Dependencies project](http://universaldependencies.org/) annotates corpora with cross-linguistically consistent notation. The data comes in a very nice [format](http://universaldependencies.org/docs/format.html). In this notebook, I want to use the annotated corpora to extract morphosyntactic features for word tokens."
   ]
  },
  {
   "cell_type": "code",
   "execution_count": 72,
   "metadata": {
    "collapsed": true
   },
   "outputs": [],
   "source": [
    "import os\n",
    "import re\n",
    "import glob\n",
    "from io import StringIO\n",
    "import numpy as np\n",
    "import pandas as pd"
   ]
  },
  {
   "cell_type": "code",
   "execution_count": 2,
   "metadata": {
    "collapsed": true
   },
   "outputs": [],
   "source": [
    "def read(path):\n",
    "    with open(path) as f:\n",
    "        return f.read()"
   ]
  },
  {
   "cell_type": "code",
   "execution_count": 3,
   "metadata": {
    "collapsed": true
   },
   "outputs": [],
   "source": [
    "def remove_comments(raw):\n",
    "    comment_pattern = '# .*?\\n' # Must include space after hashtag so that hashtag tokens are parsed correctly\n",
    "    return re.sub(comment_pattern, '', raw)"
   ]
  },
  {
   "cell_type": "code",
   "execution_count": 117,
   "metadata": {
    "collapsed": true
   },
   "outputs": [],
   "source": [
    "def make_feature_dict(lst):\n",
    "    if isinstance(lst, float):\n",
    "        return {}\n",
    "    return {feat: value for feat, value in [pair.split('=') for pair in lst]}"
   ]
  },
  {
   "cell_type": "code",
   "execution_count": 118,
   "metadata": {
    "collapsed": true
   },
   "outputs": [],
   "source": [
    "def which_data_split(path):\n",
    "    \"\"\"Returns whether the file contains train, dev or test data.\"\"\"\n",
    "    rest, filename = os.path.split(path)\n",
    "    name, ext = os.path.splitext(filename)\n",
    "    return name.split('-')[-1]"
   ]
  },
  {
   "cell_type": "code",
   "execution_count": 119,
   "metadata": {
    "collapsed": true
   },
   "outputs": [],
   "source": [
    "def preprocess(path):\n",
    "    \"\"\"Returns cleaned UD data as dataframe with each row a token and each column a feature.\"\"\"\n",
    "    raw = read(path)\n",
    "    cleaned = remove_comments(raw)\n",
    "    columns = ['id', 'form', 'lemma', 'universal_pos', 'lg_pos', 'features', 'head', 'dependency_relations', 'dependencies', 'misc']\n",
    "    words = pd.read_csv(StringIO(cleaned), sep='\\t', names=columns, quoting=3)\n",
    "    words['id'] = words['id'].astype(int, errors='ignore')\n",
    "    words.replace('_', np.nan, inplace=True)\n",
    "    \n",
    "    feature_dicts = words['features'].str.split('|').apply(make_feature_dict)\n",
    "    features = pd.DataFrame(list(feature_dicts.values))\n",
    "    data = pd.merge(words, features, left_index=True, right_index=True)\n",
    "    data_set = which_data_split(path)\n",
    "    data['set'] = data_set\n",
    "    return data.drop(['id', 'features', 'head', 'dependency_relations', 'dependencies', 'misc'], axis=1)"
   ]
  },
  {
   "cell_type": "code",
   "execution_count": 120,
   "metadata": {
    "collapsed": true
   },
   "outputs": [],
   "source": [
    "def combine_splits(directory):\n",
    "    dfs = []\n",
    "    pattern = '{}/*.conllu'.format(directory)\n",
    "    for path in glob.glob(pattern):\n",
    "        df = preprocess(path)\n",
    "        dfs.append(df)\n",
    "    return pd.concat(dfs)"
   ]
  },
  {
   "cell_type": "code",
   "execution_count": 122,
   "metadata": {
    "collapsed": true
   },
   "outputs": [],
   "source": [
    "def write(directory):\n",
    "    df = combine_splits(directory)\n",
    "    outfile = os.path.join(directory, 'features.csv')\n",
    "    df.to_csv(outfile, index=False)"
   ]
  },
  {
   "cell_type": "code",
   "execution_count": 124,
   "metadata": {},
   "outputs": [
    {
     "name": "stdout",
     "output_type": "stream",
     "text": [
      "Finished preprocessing UD_Czech\n",
      "Finished preprocessing UD_English\n",
      "Finished preprocessing UD_French\n",
      "Finished preprocessing UD_Japanese\n",
      "Finished preprocessing UD_Italian\n"
     ]
    }
   ],
   "source": [
    "for path in os.listdir():\n",
    "    if os.path.isdir(path) and path.startswith('UD_'):\n",
    "        write(path)\n",
    "        print('Finished preprocessing {}'.format(path))"
   ]
  },
  {
   "cell_type": "code",
   "execution_count": null,
   "metadata": {
    "collapsed": true
   },
   "outputs": [],
   "source": []
  }
 ],
 "metadata": {
  "kernelspec": {
   "display_name": "Python 3",
   "language": "python",
   "name": "python3"
  },
  "language_info": {
   "codemirror_mode": {
    "name": "ipython",
    "version": 3
   },
   "file_extension": ".py",
   "mimetype": "text/x-python",
   "name": "python",
   "nbconvert_exporter": "python",
   "pygments_lexer": "ipython3",
   "version": "3.6.1"
  }
 },
 "nbformat": 4,
 "nbformat_minor": 2
}
